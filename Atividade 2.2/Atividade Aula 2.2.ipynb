{
 "cells": [
  {
   "cell_type": "markdown",
   "metadata": {},
   "source": [
    "Atividade Aula 2.2"
   ]
  },
  {
   "cell_type": "markdown",
   "metadata": {},
   "source": [
    "Modifique o laço do treinamento via gradiente descendente para guardar em uma lista, o valor da perda no final de cada época. Após o treinamento, plote o valor da perda em função da época.\n",
    "Calcule o valor da perda (MSE) da rede com os parâmetros inicializados, sem serem treinados.\n",
    "Coloque os valores dos pesos da solução ótima analítica no modelo da rede e calcule o valor da perda (MSE) e compare com o valor da perda obtida pelo método da otimização via gradiente descendente."
   ]
  },
  {
   "cell_type": "markdown",
   "metadata": {},
   "source": [
    "Importação de Bibliotecas"
   ]
  },
  {
   "cell_type": "code",
   "execution_count": 1,
   "metadata": {},
   "outputs": [],
   "source": [
    "import matplotlib.pyplot as plt\n",
    "from sklearn.datasets import load_iris\n",
    "import numpy as np"
   ]
  },
  {
   "cell_type": "markdown",
   "metadata": {},
   "source": [
    "Carregamento e Pré-processamento dos Dados"
   ]
  },
  {
   "cell_type": "code",
   "execution_count": 2,
   "metadata": {},
   "outputs": [],
   "source": [
    "iris = load_iris()\n",
    "data = iris.data[iris.target==1,::2]"
   ]
  },
  {
   "cell_type": "code",
   "execution_count": 3,
   "metadata": {},
   "outputs": [],
   "source": [
    "x_train = data[:,0:1]\n",
    "y_train = data[:,1:2]"
   ]
  },
  {
   "cell_type": "markdown",
   "metadata": {},
   "source": [
    "Obtém o número de amostras (linhas) no conjunto de treinamento."
   ]
  },
  {
   "cell_type": "code",
   "execution_count": 8,
   "metadata": {},
   "outputs": [],
   "source": [
    "n_samples = x_train.shape[0]"
   ]
  },
  {
   "cell_type": "markdown",
   "metadata": {},
   "source": [
    "Normalização dos dados"
   ]
  },
  {
   "cell_type": "code",
   "execution_count": 9,
   "metadata": {},
   "outputs": [],
   "source": [
    "x_train -= x_train.min()\n",
    "x_train /= x_train.max()\n",
    "y_train -= y_train.min()\n",
    "y_train /= y_train.max()\n"
   ]
  },
  {
   "cell_type": "code",
   "execution_count": 10,
   "metadata": {},
   "outputs": [],
   "source": [
    "# permite que o modelo aprenda o termo de bias\n",
    "x_train_bias = np.hstack([np.ones(shape=(n_samples, 1)), x_train])"
   ]
  },
  {
   "cell_type": "markdown",
   "metadata": {},
   "source": [
    "Definição da Rede Neural"
   ]
  },
  {
   "cell_type": "code",
   "execution_count": 11,
   "metadata": {},
   "outputs": [],
   "source": [
    "class Net():\n",
    "    def __init__(self, n_in, n_out):\n",
    "        self.w = np.random.uniform(-0.1, 0.1, (n_out, n_in))\n",
    "\n",
    "    def forward(self, x_bias):\n",
    "        return x_bias.dot(self.w.T)"
   ]
  },
  {
   "cell_type": "markdown",
   "metadata": {},
   "source": [
    "Inicializa o modelo"
   ]
  },
  {
   "cell_type": "code",
   "execution_count": 12,
   "metadata": {},
   "outputs": [],
   "source": [
    "model = Net(2, 1)"
   ]
  },
  {
   "cell_type": "markdown",
   "metadata": {},
   "source": [
    "Cálculo da Perda Inicial (Sem Treinamento)"
   ]
  },
  {
   "cell_type": "code",
   "execution_count": 13,
   "metadata": {},
   "outputs": [
    {
     "name": "stdout",
     "output_type": "stream",
     "text": [
      "Perda inicial (não treinada): 0.316631\n"
     ]
    }
   ],
   "source": [
    "y_pred_initial = model.forward(x_train_bias)\n",
    "loss_initial = np.square(y_pred_initial - y_train).mean()\n",
    "print(f'Perda inicial (não treinada): {loss_initial:.6f}')"
   ]
  },
  {
   "cell_type": "code",
   "execution_count": 14,
   "metadata": {},
   "outputs": [
    {
     "name": "stdout",
     "output_type": "stream",
     "text": [
      "Epoch[10/100], loss: 0.026652\n",
      "Epoch[20/100], loss: 0.023256\n",
      "Epoch[30/100], loss: 0.021963\n",
      "Epoch[40/100], loss: 0.021472\n",
      "Epoch[50/100], loss: 0.021284\n",
      "Epoch[60/100], loss: 0.021213\n",
      "Epoch[70/100], loss: 0.021186\n",
      "Epoch[80/100], loss: 0.021176\n",
      "Epoch[90/100], loss: 0.021172\n",
      "Epoch[100/100], loss: 0.021170\n"
     ]
    }
   ],
   "source": [
    "#Treinamento com Gradiente Descendente\n",
    "num_epochs = 100\n",
    "learning_rate = 0.5\n",
    "losses = []\n",
    "\n",
    "for epoch in range(num_epochs):\n",
    "    y_pred = model.forward(x_train_bias)\n",
    "    loss = np.square(y_pred - y_train).mean()\n",
    "    losses.append(loss)\n",
    "\n",
    "    w_grad = (2.0 / n_samples) * (x_train_bias.T).dot(x_train_bias.dot(model.w.T) - y_train)\n",
    "    model.w -= learning_rate * w_grad.T\n",
    "\n",
    "    if (epoch + 1) % 10 == 0:\n",
    "        print(f'Epoch[{epoch + 1}/{num_epochs}], loss: {loss:.6f}')"
   ]
  },
  {
   "cell_type": "markdown",
   "metadata": {},
   "source": [
    "Plotar a Perda ao Longo das Épocas"
   ]
  },
  {
   "cell_type": "code",
   "execution_count": 15,
   "metadata": {},
   "outputs": [
    {
     "data": {
      "image/png": "[encoded data removed]",
      "text/plain": [
       "<Figure size 640x480 with 1 Axes>"
      ]
     },
     "metadata": {},
     "output_type": "display_data"
    }
   ],
   "source": [
    "plt.plot(range(num_epochs), losses)\n",
    "plt.xlabel('Época')\n",
    "plt.ylabel('Perda (Loss)')\n",
    "plt.title('Perda em função da época')\n",
    "plt.show()"
   ]
  },
  {
   "cell_type": "markdown",
   "metadata": {},
   "source": [
    "Cálculo da Perda Final Após Treinamento"
   ]
  },
  {
   "cell_type": "code",
   "execution_count": 16,
   "metadata": {},
   "outputs": [
    {
     "name": "stdout",
     "output_type": "stream",
     "text": [
      "Perda final após treinamento: 0.021170\n"
     ]
    }
   ],
   "source": [
    "y_pred_final = model.forward(x_train_bias)\n",
    "loss_final = np.square(y_pred_final - y_train).mean()\n",
    "print(f'Perda final após treinamento: {loss_final:.6f}')"
   ]
  },
  {
   "cell_type": "markdown",
   "metadata": {},
   "source": [
    "Solução Analítica\n",
    "Calcula os pesos ótimos usando a fórmula analítica e os aplica a uma nova instância da rede neural.\n",
    "Calcula e imprime a perda usando a solução analítica."
   ]
  },
  {
   "cell_type": "code",
   "execution_count": 17,
   "metadata": {},
   "outputs": [],
   "source": [
    "x = x_train_bias\n",
    "y = y_train\n",
    "w_opt = (np.linalg.inv((x.T).dot(x)).dot(x.T)).dot(y)"
   ]
  },
  {
   "cell_type": "markdown",
   "metadata": {},
   "source": [
    "Aplicação da Solução Analítica"
   ]
  },
  {
   "cell_type": "code",
   "execution_count": 18,
   "metadata": {},
   "outputs": [],
   "source": [
    "model_analytical = Net(2, 1)\n",
    "model_analytical.w = w_opt.T"
   ]
  },
  {
   "cell_type": "markdown",
   "metadata": {},
   "source": [
    "Cálculo da Perda com a Solução Analítica"
   ]
  },
  {
   "cell_type": "code",
   "execution_count": 19,
   "metadata": {},
   "outputs": [
    {
     "name": "stdout",
     "output_type": "stream",
     "text": [
      "Perda com solução analítica: 0.021169\n"
     ]
    }
   ],
   "source": [
    "y_pred_analytical = model_analytical.forward(x_train_bias)\n",
    "loss_analytical = np.square(y_pred_analytical - y_train).mean()\n",
    "print(f'Perda com solução analítica: {loss_analytical:.6f}')"
   ]
  },
  {
   "cell_type": "code",
   "execution_count": 20,
   "metadata": {},
   "outputs": [
    {
     "name": "stdout",
     "output_type": "stream",
     "text": [
      "Pesos após Gradiente Descendente: [[0.26327365 0.68273812]]\n",
      "Pesos da Solução Analítica: [[0.26134159 0.68646976]]\n"
     ]
    }
   ],
   "source": [
    "print(f'Pesos após Gradiente Descendente: {model.w}')\n",
    "print(f'Pesos da Solução Analítica: {model_analytical.w}')"
   ]
  },
  {
   "cell_type": "markdown",
   "metadata": {},
   "source": [
    "Conclusão \n",
    "Após o treinamento com gradiente descendente, a perda final é muito semelhante à perda com a solução analítica, o que indica que o treinamento evoluiu para uma solução quase ideal.\n",
    "A diferença de peso entre a solução analítica e o gradiente descendente é mínima."
   ]
  }
 ],
 "metadata": {
  "kernelspec": {
   "display_name": "base",
   "language": "python",
   "name": "python3"
  },
  "language_info": {
   "codemirror_mode": {
    "name": "ipython",
    "version": 3
   },
   "file_extension": ".py",
   "mimetype": "text/x-python",
   "name": "python",
   "nbconvert_exporter": "python",
   "pygments_lexer": "ipython3",
   "version": "3.9.13"
  }
 },
 "nbformat": 4,
 "nbformat_minor": 2
}
