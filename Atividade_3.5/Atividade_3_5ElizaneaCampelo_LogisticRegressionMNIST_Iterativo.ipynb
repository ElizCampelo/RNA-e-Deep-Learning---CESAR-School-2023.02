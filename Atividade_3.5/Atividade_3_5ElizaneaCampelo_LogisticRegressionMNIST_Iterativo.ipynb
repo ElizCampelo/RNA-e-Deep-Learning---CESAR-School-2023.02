{
  "cells": [
    {
      "cell_type": "markdown",
      "metadata": {
        "id": "B3td_pl4mvQD"
      },
      "source": [
        "# Regressão Softmax com dados do MNIST"
      ]
    },
    {
      "cell_type": "markdown",
      "metadata": {
        "id": "DtkJT-FtmvQE"
      },
      "source": [
        "## Objetivo"
      ]
    },
    {
      "cell_type": "markdown",
      "metadata": {
        "id": "hF-ByQKJmvQF"
      },
      "source": [
        "O objetivo deste notebook é ilustrar o uso de praticamente a mesma rede desenvolvida para a classificação das flores Íris, porém agora com o problema de classificação de dígitos manuscritos utilizando o dataset MNIST.\n",
        "As principais diferenças são:\n",
        "- tipo do dado, agora imagem com muito atributos: 28 x 28 pixels\n",
        "- número de amostras, muito maior, 60 mil\n",
        "Neste exercício será possível a interpretação do significado dos parâmetros treinados"
      ]
    },
    {
      "cell_type": "markdown",
      "metadata": {
        "id": "HGsYwaRemvQH"
      },
      "source": [
        "## Importação das bibliotecas"
      ]
    },
    {
      "cell_type": "code",
      "execution_count": 2,
      "metadata": {
        "ExecuteTime": {
          "end_time": "2017-11-24T15:44:50.097111",
          "start_time": "2017-11-24T15:44:48.915046"
        },
        "id": "JeBH-PI4mvQI"
      },
      "outputs": [],
      "source": [
        "%matplotlib inline\n",
        "import numpy as np\n",
        "import matplotlib.pyplot as plt\n",
        "import pandas as pd\n",
        "\n",
        "from torch.autograd import Variable\n",
        "import torch\n",
        "import torchvision"
      ]
    },
    {
      "cell_type": "markdown",
      "metadata": {
        "id": "FLEq8nmUmvQL"
      },
      "source": [
        "## Carregamento dos dados do MNIST"
      ]
    },
    {
      "cell_type": "code",
      "execution_count": 3,
      "metadata": {
        "colab": {
          "base_uri": "https://localhost:8080/"
        },
        "id": "5ueXR4zIo5wQ",
        "outputId": "8998253c-1d8c-474e-ffce-a1ce83c5ff64"
      },
      "outputs": [
        {
          "output_type": "stream",
          "name": "stdout",
          "text": [
            "Cloning into 'MNIST'...\n",
            "remote: Enumerating objects: 10, done.\u001b[K\n",
            "remote: Total 10 (delta 0), reused 0 (delta 0), pack-reused 10\u001b[K\n",
            "Receiving objects: 100% (10/10), 11.01 MiB | 12.90 MiB/s, done.\n",
            "Resolving deltas: 100% (2/2), done.\n"
          ]
        }
      ],
      "source": [
        "! git clone https://github.com/vcasadei/MNIST.git"
      ]
    },
    {
      "cell_type": "code",
      "execution_count": 4,
      "metadata": {
        "ExecuteTime": {
          "end_time": "2017-11-24T15:44:50.638218",
          "start_time": "2017-11-24T15:44:50.098808"
        },
        "colab": {
          "base_uri": "https://localhost:8080/"
        },
        "id": "xZWPIWlumvQM",
        "outputId": "aca3c9e0-47b7-4bfd-954a-94002e2caa53"
      },
      "outputs": [
        {
          "output_type": "stream",
          "name": "stdout",
          "text": [
            "Amostras de treinamento: 60000\n",
            "\n",
            "Dimensões dos dados das imagens:    torch.Size([60000, 28, 28])\n",
            "Valores mínimo e máximo dos pixels: tensor(0, dtype=torch.uint8) tensor(255, dtype=torch.uint8)\n",
            "Tipo dos dados das imagens:         <class 'torch.Tensor'>\n",
            "Tipo das classes das imagens:       <class 'torch.Tensor'>\n"
          ]
        }
      ],
      "source": [
        "dataset_dir = 'MNIST/'\n",
        "\n",
        "x_train, y_train = torch.load(dataset_dir + 'processed/training.pt')\n",
        "\n",
        "print(\"Amostras de treinamento:\", x_train.size(0))\n",
        "\n",
        "print(\"\\nDimensões dos dados das imagens:   \", x_train.size())\n",
        "print(\"Valores mínimo e máximo dos pixels:\", torch.min(x_train), torch.max(x_train))\n",
        "print(\"Tipo dos dados das imagens:        \", type(x_train))\n",
        "print(\"Tipo das classes das imagens:      \", type(y_train))"
      ]
    },
    {
      "cell_type": "markdown",
      "metadata": {
        "id": "uR2L0QQgmvQU"
      },
      "source": [
        "### Carregamento, normalização e seleção dos dados do MNIST\n",
        "\n",
        "Neste exemplo utilizaremos apenas 1000 amostras de treinamento."
      ]
    },
    {
      "cell_type": "code",
      "execution_count": 5,
      "metadata": {
        "ExecuteTime": {
          "end_time": "2017-11-24T15:44:50.895668",
          "start_time": "2017-11-24T15:44:50.640110"
        },
        "colab": {
          "base_uri": "https://localhost:8080/"
        },
        "id": "C9Rh7wRemvQU",
        "outputId": "b1408b13-1f63-4aca-84c0-c992a4bede2a"
      },
      "outputs": [
        {
          "output_type": "stream",
          "name": "stdout",
          "text": [
            "Amostras de treinamento: 1000\n",
            "\n",
            "Dimensões dos dados das imagens:    torch.Size([1000, 28, 28])\n",
            "Valores mínimo e máximo dos pixels: tensor(0.) tensor(1.)\n",
            "Tipo dos dados das imagens:         <class 'torch.Tensor'>\n",
            "Tipo das classes das imagens:       <class 'torch.Tensor'>\n"
          ]
        }
      ],
      "source": [
        "x_train = x_train.float()\n",
        "\n",
        "x_train = x_train / 255.\n",
        "\n",
        "if True:\n",
        "    n_samples_train = 1000\n",
        "\n",
        "    x_train = x_train[:n_samples_train]\n",
        "    y_train = y_train[:n_samples_train]\n",
        "\n",
        "print(\"Amostras de treinamento:\", x_train.size(0))\n",
        "\n",
        "print(\"\\nDimensões dos dados das imagens:   \", x_train.size())\n",
        "print(\"Valores mínimo e máximo dos pixels:\", torch.min(x_train), torch.max(x_train))\n",
        "print(\"Tipo dos dados das imagens:        \", type(x_train))\n",
        "print(\"Tipo das classes das imagens:      \", type(y_train))"
      ]
    },
    {
      "cell_type": "markdown",
      "metadata": {
        "id": "6UtzmsQimvQa"
      },
      "source": [
        "### Visualizando os dados"
      ]
    },
    {
      "cell_type": "code",
      "execution_count": 6,
      "metadata": {
        "ExecuteTime": {
          "end_time": "2017-11-24T16:32:19.474568",
          "start_time": "2017-11-24T16:32:19.207270"
        },
        "colab": {
          "base_uri": "https://localhost:8080/",
          "height": 493
        },
        "id": "gFG0qpODmvQa",
        "outputId": "4a832608-abf8-44f8-df6e-4a8574811c2f"
      },
      "outputs": [
        {
          "output_type": "execute_result",
          "data": {
            "text/plain": [
              "(-0.5, 232.5, 87.5, -0.5)"
            ]
          },
          "metadata": {},
          "execution_count": 6
        },
        {
          "output_type": "display_data",
          "data": {
            "text/plain": [
              "<Figure size 1500x1000 with 1 Axes>"
            ],
            "image/png": "[encoded data removed]"
          },
          "metadata": {}
        }
      ],
      "source": [
        "n_samples = 24\n",
        "\n",
        "# cria um grid com as imagens\n",
        "grid = torchvision.utils.make_grid(x_train[:n_samples].unsqueeze(1), pad_value=1.0, padding=1)\n",
        "\n",
        "plt.figure(figsize=(15, 10))\n",
        "plt.imshow(grid.numpy().transpose(1, 2, 0))\n",
        "plt.axis('off')"
      ]
    },
    {
      "cell_type": "markdown",
      "metadata": {
        "id": "075sVFBZmvQe"
      },
      "source": [
        "### Visualizando uma imagem com o matplotlib"
      ]
    },
    {
      "cell_type": "code",
      "execution_count": 7,
      "metadata": {
        "ExecuteTime": {
          "end_time": "2017-11-24T15:44:51.413232",
          "start_time": "2017-11-24T15:44:51.251376"
        },
        "colab": {
          "base_uri": "https://localhost:8080/",
          "height": 447
        },
        "id": "3W2NpeW0mvQg",
        "outputId": "c01c5b2f-8f8a-4746-8e28-cda674a8ac03"
      },
      "outputs": [
        {
          "output_type": "stream",
          "name": "stdout",
          "text": [
            "class: tensor(5)\n"
          ]
        },
        {
          "output_type": "display_data",
          "data": {
            "text/plain": [
              "<Figure size 640x480 with 1 Axes>"
            ],
            "image/png": "[encoded data removed]"
          },
          "metadata": {}
        }
      ],
      "source": [
        "image  = x_train[0]\n",
        "target = y_train[0]\n",
        "\n",
        "plt.imshow(image.numpy().reshape(28,28), cmap='gray')\n",
        "print('class:', target)"
      ]
    },
    {
      "cell_type": "markdown",
      "metadata": {
        "id": "SU-PzteEmvQj"
      },
      "source": [
        "## Modelo"
      ]
    },
    {
      "cell_type": "code",
      "execution_count": 8,
      "metadata": {
        "ExecuteTime": {
          "end_time": "2017-11-24T15:44:51.419287",
          "start_time": "2017-11-24T15:44:51.415065"
        },
        "id": "VKMngBWzmvQk"
      },
      "outputs": [],
      "source": [
        "model = torch.nn.Linear(28*28, 10) # 28*28 atributos de entrada e 10 neurônios na sáida"
      ]
    },
    {
      "cell_type": "markdown",
      "metadata": {
        "id": "uzvpr1u6mvQo"
      },
      "source": [
        "### Testando um predict com poucas amostras"
      ]
    },
    {
      "cell_type": "code",
      "execution_count": 9,
      "metadata": {
        "id": "KiiO8WDAmvQq"
      },
      "outputs": [],
      "source": [
        "## TODO"
      ]
    },
    {
      "cell_type": "markdown",
      "metadata": {
        "id": "tIIeicyGmvQs"
      },
      "source": [
        "## Treinamento"
      ]
    },
    {
      "cell_type": "markdown",
      "metadata": {
        "id": "tSfqKNW2mvQt"
      },
      "source": [
        "### Inicialização dos parâmetros"
      ]
    },
    {
      "cell_type": "code",
      "execution_count": 10,
      "metadata": {
        "ExecuteTime": {
          "end_time": "2017-11-24T15:44:51.425768",
          "start_time": "2017-11-24T15:44:51.420825"
        },
        "id": "I9W3OFvomvQu"
      },
      "outputs": [],
      "source": [
        "epochs = 5\n",
        "learningRate = 0.5\n",
        "\n",
        "# Utilizaremos CrossEntropyLoss como função de perda\n",
        "criterion = torch.nn.CrossEntropyLoss()\n",
        "\n",
        "# Gradiente descendente\n",
        "optimizer = torch.optim.SGD(model.parameters(), lr=learningRate)"
      ]
    },
    {
      "cell_type": "markdown",
      "metadata": {
        "id": "hlNgV_pgmvQx"
      },
      "source": [
        "### Visualização do grafo computacional da perda (loss)"
      ]
    },
    {
      "cell_type": "code",
      "execution_count": 11,
      "metadata": {
        "colab": {
          "base_uri": "https://localhost:8080/"
        },
        "id": "5ycGDyoWjMoR",
        "outputId": "c1126d19-7ce0-42e2-8db2-a7f8cacee8a0"
      },
      "outputs": [
        {
          "output_type": "stream",
          "name": "stdout",
          "text": [
            "Requirement already satisfied: graphviz in /usr/local/lib/python3.10/dist-packages (0.20.3)\n",
            "Collecting git+https://github.com/szagoruyko/pytorchviz\n",
            "  Cloning https://github.com/szagoruyko/pytorchviz to /tmp/pip-req-build-7slda_zz\n",
            "  Running command git clone --filter=blob:none --quiet https://github.com/szagoruyko/pytorchviz /tmp/pip-req-build-7slda_zz\n",
            "  Resolved https://github.com/szagoruyko/pytorchviz to commit 0adcd83af8aa7ab36d6afd139cabbd9df598edb7\n",
            "  Preparing metadata (setup.py) ... \u001b[?25l\u001b[?25hdone\n",
            "Requirement already satisfied: torch in /usr/local/lib/python3.10/dist-packages (from torchviz==0.0.2) (2.3.0+cu121)\n",
            "Requirement already satisfied: graphviz in /usr/local/lib/python3.10/dist-packages (from torchviz==0.0.2) (0.20.3)\n",
            "Requirement already satisfied: filelock in /usr/local/lib/python3.10/dist-packages (from torch->torchviz==0.0.2) (3.14.0)\n",
            "Requirement already satisfied: typing-extensions>=4.8.0 in /usr/local/lib/python3.10/dist-packages (from torch->torchviz==0.0.2) (4.12.2)\n",
            "Requirement already satisfied: sympy in /usr/local/lib/python3.10/dist-packages (from torch->torchviz==0.0.2) (1.12.1)\n",
            "Requirement already satisfied: networkx in /usr/local/lib/python3.10/dist-packages (from torch->torchviz==0.0.2) (3.3)\n",
            "Requirement already satisfied: jinja2 in /usr/local/lib/python3.10/dist-packages (from torch->torchviz==0.0.2) (3.1.4)\n",
            "Requirement already satisfied: fsspec in /usr/local/lib/python3.10/dist-packages (from torch->torchviz==0.0.2) (2023.6.0)\n",
            "Collecting nvidia-cuda-nvrtc-cu12==12.1.105 (from torch->torchviz==0.0.2)\n",
            "  Using cached nvidia_cuda_nvrtc_cu12-12.1.105-py3-none-manylinux1_x86_64.whl (23.7 MB)\n",
            "Collecting nvidia-cuda-runtime-cu12==12.1.105 (from torch->torchviz==0.0.2)\n",
            "  Using cached nvidia_cuda_runtime_cu12-12.1.105-py3-none-manylinux1_x86_64.whl (823 kB)\n",
            "Collecting nvidia-cuda-cupti-cu12==12.1.105 (from torch->torchviz==0.0.2)\n",
            "  Using cached nvidia_cuda_cupti_cu12-12.1.105-py3-none-manylinux1_x86_64.whl (14.1 MB)\n",
            "Collecting nvidia-cudnn-cu12==8.9.2.26 (from torch->torchviz==0.0.2)\n",
            "  Using cached nvidia_cudnn_cu12-8.9.2.26-py3-none-manylinux1_x86_64.whl (731.7 MB)\n",
            "Collecting nvidia-cublas-cu12==12.1.3.1 (from torch->torchviz==0.0.2)\n",
            "  Using cached nvidia_cublas_cu12-12.1.3.1-py3-none-manylinux1_x86_64.whl (410.6 MB)\n",
            "Collecting nvidia-cufft-cu12==11.0.2.54 (from torch->torchviz==0.0.2)\n",
            "  Using cached nvidia_cufft_cu12-11.0.2.54-py3-none-manylinux1_x86_64.whl (121.6 MB)\n",
            "Collecting nvidia-curand-cu12==10.3.2.106 (from torch->torchviz==0.0.2)\n",
            "  Using cached nvidia_curand_cu12-10.3.2.106-py3-none-manylinux1_x86_64.whl (56.5 MB)\n",
            "Collecting nvidia-cusolver-cu12==11.4.5.107 (from torch->torchviz==0.0.2)\n",
            "  Using cached nvidia_cusolver_cu12-11.4.5.107-py3-none-manylinux1_x86_64.whl (124.2 MB)\n",
            "Collecting nvidia-cusparse-cu12==12.1.0.106 (from torch->torchviz==0.0.2)\n",
            "  Using cached nvidia_cusparse_cu12-12.1.0.106-py3-none-manylinux1_x86_64.whl (196.0 MB)\n",
            "Collecting nvidia-nccl-cu12==2.20.5 (from torch->torchviz==0.0.2)\n",
            "  Using cached nvidia_nccl_cu12-2.20.5-py3-none-manylinux2014_x86_64.whl (176.2 MB)\n",
            "Collecting nvidia-nvtx-cu12==12.1.105 (from torch->torchviz==0.0.2)\n",
            "  Using cached nvidia_nvtx_cu12-12.1.105-py3-none-manylinux1_x86_64.whl (99 kB)\n",
            "Requirement already satisfied: triton==2.3.0 in /usr/local/lib/python3.10/dist-packages (from torch->torchviz==0.0.2) (2.3.0)\n",
            "Collecting nvidia-nvjitlink-cu12 (from nvidia-cusolver-cu12==11.4.5.107->torch->torchviz==0.0.2)\n",
            "  Downloading nvidia_nvjitlink_cu12-12.5.40-py3-none-manylinux2014_x86_64.whl (21.3 MB)\n",
            "\u001b[2K     \u001b[90m━━━━━━━━━━━━━━━━━━━━━━━━━━━━━━━━━━━━━━━━\u001b[0m \u001b[32m21.3/21.3 MB\u001b[0m \u001b[31m57.1 MB/s\u001b[0m eta \u001b[36m0:00:00\u001b[0m\n",
            "\u001b[?25hRequirement already satisfied: MarkupSafe>=2.0 in /usr/local/lib/python3.10/dist-packages (from jinja2->torch->torchviz==0.0.2) (2.1.5)\n",
            "Requirement already satisfied: mpmath<1.4.0,>=1.1.0 in /usr/local/lib/python3.10/dist-packages (from sympy->torch->torchviz==0.0.2) (1.3.0)\n",
            "Building wheels for collected packages: torchviz\n",
            "  Building wheel for torchviz (setup.py) ... \u001b[?25l\u001b[?25hdone\n",
            "  Created wheel for torchviz: filename=torchviz-0.0.2-py3-none-any.whl size=4972 sha256=fceffed0f3e098daff5f7f59c25604d9099cbfb6b65259cfe0f74be2d69466c5\n",
            "  Stored in directory: /tmp/pip-ephem-wheel-cache-nkcug8ge/wheels/44/5a/39/48c1209682afcfc7ad8ae7b3cf7aa0ff08a72e3ac4e5931f1d\n",
            "Successfully built torchviz\n",
            "Installing collected packages: nvidia-nvtx-cu12, nvidia-nvjitlink-cu12, nvidia-nccl-cu12, nvidia-curand-cu12, nvidia-cufft-cu12, nvidia-cuda-runtime-cu12, nvidia-cuda-nvrtc-cu12, nvidia-cuda-cupti-cu12, nvidia-cublas-cu12, nvidia-cusparse-cu12, nvidia-cudnn-cu12, nvidia-cusolver-cu12, torchviz\n",
            "Successfully installed nvidia-cublas-cu12-12.1.3.1 nvidia-cuda-cupti-cu12-12.1.105 nvidia-cuda-nvrtc-cu12-12.1.105 nvidia-cuda-runtime-cu12-12.1.105 nvidia-cudnn-cu12-8.9.2.26 nvidia-cufft-cu12-11.0.2.54 nvidia-curand-cu12-10.3.2.106 nvidia-cusolver-cu12-11.4.5.107 nvidia-cusparse-cu12-12.1.0.106 nvidia-nccl-cu12-2.20.5 nvidia-nvjitlink-cu12-12.5.40 nvidia-nvtx-cu12-12.1.105 torchviz-0.0.2\n"
          ]
        }
      ],
      "source": [
        "!pip install graphviz\n",
        "!pip install git+https://github.com/szagoruyko/pytorchviz"
      ]
    },
    {
      "cell_type": "code",
      "execution_count": 12,
      "metadata": {
        "ExecuteTime": {
          "end_time": "2017-11-24T16:28:18.101867",
          "start_time": "2017-11-24T16:28:18.062312"
        },
        "colab": {
          "base_uri": "https://localhost:8080/",
          "height": 543
        },
        "id": "oYPRIePImvQz",
        "outputId": "a0241861-3f8e-4b36-e4f3-a787ed7b8d77"
      },
      "outputs": [
        {
          "output_type": "execute_result",
          "data": {
            "image/svg+xml": "<?xml version=\"1.0\" encoding=\"UTF-8\" standalone=\"no\"?>\n<!DOCTYPE svg PUBLIC \"-//W3C//DTD SVG 1.1//EN\"\n \"http://www.w3.org/Graphics/SVG/1.1/DTD/svg11.dtd\">\n<!-- Generated by graphviz version 2.43.0 (0)\n -->\n<!-- Title: %3 Pages: 1 -->\n<svg width=\"216pt\" height=\"391pt\"\n viewBox=\"0.00 0.00 216.00 391.00\" xmlns=\"http://www.w3.org/2000/svg\" xmlns:xlink=\"http://www.w3.org/1999/xlink\">\n<g id=\"graph0\" class=\"graph\" transform=\"scale(1 1) rotate(0) translate(4 387)\">\n<title>%3</title>\n<polygon fill=\"white\" stroke=\"transparent\" points=\"-4,4 -4,-387 212,-387 212,4 -4,4\"/>\n<!-- 133885547442512 -->\n<g id=\"node1\" class=\"node\">\n<title>133885547442512</title>\n<polygon fill=\"#caff70\" stroke=\"black\" points=\"130.5,-31 76.5,-31 76.5,0 130.5,0 130.5,-31\"/>\n<text text-anchor=\"middle\" x=\"103.5\" y=\"-7\" font-family=\"monospace\" font-size=\"10.00\"> ()</text>\n</g>\n<!-- 133885547701264 -->\n<g id=\"node2\" class=\"node\">\n<title>133885547701264</title>\n<polygon fill=\"lightgrey\" stroke=\"black\" points=\"160,-86 47,-86 47,-67 160,-67 160,-86\"/>\n<text text-anchor=\"middle\" x=\"103.5\" y=\"-74\" font-family=\"monospace\" font-size=\"10.00\">NllLossBackward0</text>\n</g>\n<!-- 133885547701264&#45;&gt;133885547442512 -->\n<g id=\"edge8\" class=\"edge\">\n<title>133885547701264&#45;&gt;133885547442512</title>\n<path fill=\"none\" stroke=\"black\" d=\"M103.5,-66.79C103.5,-60.07 103.5,-50.4 103.5,-41.34\"/>\n<polygon fill=\"black\" stroke=\"black\" points=\"107,-41.19 103.5,-31.19 100,-41.19 107,-41.19\"/>\n</g>\n<!-- 133885547700880 -->\n<g id=\"node3\" class=\"node\">\n<title>133885547700880</title>\n<polygon fill=\"lightgrey\" stroke=\"black\" points=\"169,-141 38,-141 38,-122 169,-122 169,-141\"/>\n<text text-anchor=\"middle\" x=\"103.5\" y=\"-129\" font-family=\"monospace\" font-size=\"10.00\">LogSoftmaxBackward0</text>\n</g>\n<!-- 133885547700880&#45;&gt;133885547701264 -->\n<g id=\"edge1\" class=\"edge\">\n<title>133885547700880&#45;&gt;133885547701264</title>\n<path fill=\"none\" stroke=\"black\" d=\"M103.5,-121.75C103.5,-114.8 103.5,-104.85 103.5,-96.13\"/>\n<polygon fill=\"black\" stroke=\"black\" points=\"107,-96.09 103.5,-86.09 100,-96.09 107,-96.09\"/>\n</g>\n<!-- 133885547701024 -->\n<g id=\"node4\" class=\"node\">\n<title>133885547701024</title>\n<polygon fill=\"lightgrey\" stroke=\"black\" points=\"154,-196 53,-196 53,-177 154,-177 154,-196\"/>\n<text text-anchor=\"middle\" x=\"103.5\" y=\"-184\" font-family=\"monospace\" font-size=\"10.00\">AddmmBackward0</text>\n</g>\n<!-- 133885547701024&#45;&gt;133885547700880 -->\n<g id=\"edge2\" class=\"edge\">\n<title>133885547701024&#45;&gt;133885547700880</title>\n<path fill=\"none\" stroke=\"black\" d=\"M103.5,-176.75C103.5,-169.8 103.5,-159.85 103.5,-151.13\"/>\n<polygon fill=\"black\" stroke=\"black\" points=\"107,-151.09 103.5,-141.09 100,-151.09 107,-151.09\"/>\n</g>\n<!-- 133885547701120 -->\n<g id=\"node5\" class=\"node\">\n<title>133885547701120</title>\n<polygon fill=\"lightgrey\" stroke=\"black\" points=\"101,-251 0,-251 0,-232 101,-232 101,-251\"/>\n<text text-anchor=\"middle\" x=\"50.5\" y=\"-239\" font-family=\"monospace\" font-size=\"10.00\">AccumulateGrad</text>\n</g>\n<!-- 133885547701120&#45;&gt;133885547701024 -->\n<g id=\"edge3\" class=\"edge\">\n<title>133885547701120&#45;&gt;133885547701024</title>\n<path fill=\"none\" stroke=\"black\" d=\"M59.25,-231.75C66.97,-224.03 78.4,-212.6 87.72,-203.28\"/>\n<polygon fill=\"black\" stroke=\"black\" points=\"90.31,-205.64 94.91,-196.09 85.36,-200.69 90.31,-205.64\"/>\n</g>\n<!-- 133885547111712 -->\n<g id=\"node6\" class=\"node\">\n<title>133885547111712</title>\n<polygon fill=\"lightblue\" stroke=\"black\" points=\"77.5,-317 23.5,-317 23.5,-287 77.5,-287 77.5,-317\"/>\n<text text-anchor=\"middle\" x=\"50.5\" y=\"-305\" font-family=\"monospace\" font-size=\"10.00\">bias</text>\n<text text-anchor=\"middle\" x=\"50.5\" y=\"-294\" font-family=\"monospace\" font-size=\"10.00\"> (10)</text>\n</g>\n<!-- 133885547111712&#45;&gt;133885547701120 -->\n<g id=\"edge4\" class=\"edge\">\n<title>133885547111712&#45;&gt;133885547701120</title>\n<path fill=\"none\" stroke=\"black\" d=\"M50.5,-286.84C50.5,-279.21 50.5,-269.7 50.5,-261.45\"/>\n<polygon fill=\"black\" stroke=\"black\" points=\"54,-261.27 50.5,-251.27 47,-261.27 54,-261.27\"/>\n</g>\n<!-- 133885547701216 -->\n<g id=\"node7\" class=\"node\">\n<title>133885547701216</title>\n<polygon fill=\"lightgrey\" stroke=\"black\" points=\"196,-251 119,-251 119,-232 196,-232 196,-251\"/>\n<text text-anchor=\"middle\" x=\"157.5\" y=\"-239\" font-family=\"monospace\" font-size=\"10.00\">TBackward0</text>\n</g>\n<!-- 133885547701216&#45;&gt;133885547701024 -->\n<g id=\"edge5\" class=\"edge\">\n<title>133885547701216&#45;&gt;133885547701024</title>\n<path fill=\"none\" stroke=\"black\" d=\"M148.58,-231.75C140.72,-224.03 129.07,-212.6 119.58,-203.28\"/>\n<polygon fill=\"black\" stroke=\"black\" points=\"121.84,-200.6 112.25,-196.09 116.94,-205.59 121.84,-200.6\"/>\n</g>\n<!-- 133885547700784 -->\n<g id=\"node8\" class=\"node\">\n<title>133885547700784</title>\n<polygon fill=\"lightgrey\" stroke=\"black\" points=\"208,-311.5 107,-311.5 107,-292.5 208,-292.5 208,-311.5\"/>\n<text text-anchor=\"middle\" x=\"157.5\" y=\"-299.5\" font-family=\"monospace\" font-size=\"10.00\">AccumulateGrad</text>\n</g>\n<!-- 133885547700784&#45;&gt;133885547701216 -->\n<g id=\"edge6\" class=\"edge\">\n<title>133885547700784&#45;&gt;133885547701216</title>\n<path fill=\"none\" stroke=\"black\" d=\"M157.5,-292.37C157.5,-284.25 157.5,-271.81 157.5,-261.39\"/>\n<polygon fill=\"black\" stroke=\"black\" points=\"161,-261.17 157.5,-251.17 154,-261.17 161,-261.17\"/>\n</g>\n<!-- 133885592445680 -->\n<g id=\"node9\" class=\"node\">\n<title>133885592445680</title>\n<polygon fill=\"lightblue\" stroke=\"black\" points=\"196,-383 119,-383 119,-353 196,-353 196,-383\"/>\n<text text-anchor=\"middle\" x=\"157.5\" y=\"-371\" font-family=\"monospace\" font-size=\"10.00\">weight</text>\n<text text-anchor=\"middle\" x=\"157.5\" y=\"-360\" font-family=\"monospace\" font-size=\"10.00\"> (10, 784)</text>\n</g>\n<!-- 133885592445680&#45;&gt;133885547700784 -->\n<g id=\"edge7\" class=\"edge\">\n<title>133885592445680&#45;&gt;133885547700784</title>\n<path fill=\"none\" stroke=\"black\" d=\"M157.5,-352.8C157.5,-343.7 157.5,-331.79 157.5,-321.9\"/>\n<polygon fill=\"black\" stroke=\"black\" points=\"161,-321.84 157.5,-311.84 154,-321.84 161,-321.84\"/>\n</g>\n</g>\n</svg>\n",
            "text/plain": [
              "<graphviz.graphs.Digraph at 0x79c4a882e440>"
            ]
          },
          "metadata": {},
          "execution_count": 12
        }
      ],
      "source": [
        "y_pred = model(Variable(x_train.view(-1,28*28)))\n",
        "loss = criterion(y_pred, Variable(y_train))\n",
        "from torchviz import make_dot, make_dot_from_trace\n",
        "p = make_dot(loss, dict(model.named_parameters()))\n",
        "p"
      ]
    },
    {
      "cell_type": "markdown",
      "metadata": {
        "id": "Pq2yq8qAmvQ2"
      },
      "source": [
        "### Laço de treinamento dos pesos"
      ]
    },
    {
      "cell_type": "code",
      "execution_count": 13,
      "metadata": {
        "ExecuteTime": {
          "end_time": "2017-11-24T15:44:51.678678",
          "start_time": "2017-11-24T15:44:51.427695"
        },
        "colab": {
          "base_uri": "https://localhost:8080/",
          "height": 34
        },
        "id": "HPUUNKXxmvQ3",
        "outputId": "f2bdd41d-ab92-41e0-9839-26623570f249"
      },
      "outputs": [
        {
          "output_type": "display_data",
          "data": {
            "text/plain": [
              "<Figure size 1800x600 with 0 Axes>"
            ]
          },
          "metadata": {}
        }
      ],
      "source": [
        "from IPython import display\n",
        "import numpy\n",
        "a = 5\n",
        "losses = []\n",
        "zs = []\n",
        "fig = plt.figure(figsize=(18, 6))\n",
        "\n",
        "try:\n",
        "    for i in range(epochs):\n",
        "        # Transforma a entrada para uma dimensão\n",
        "        inputs = Variable(x_train.view(-1, 28 * 28))\n",
        "        # Predict da rede\n",
        "        outputs = model(inputs)\n",
        "        zs.append(outputs[1].detach().numpy())\n",
        "\n",
        "        # calcula a perda\n",
        "        loss = criterion(outputs, Variable(y_train))\n",
        "\n",
        "        # zero, backpropagation, ajusta parâmetros pelo gradiente descendente\n",
        "        optimizer.zero_grad()\n",
        "        loss.backward()\n",
        "        optimizer.step()\n",
        "\n",
        "        losses.append(loss.data)\n",
        "        _, predicts = torch.max(outputs, 1)\n",
        "\n",
        "        y_pred = predicts.data\n",
        "        accuracy = (y_pred.numpy() == y_train.numpy()).mean()\n",
        "\n",
        "except KeyboardInterrupt:\n",
        "    pass"
      ]
    },
    {
      "cell_type": "code",
      "execution_count": 14,
      "metadata": {
        "colab": {
          "base_uri": "https://localhost:8080/"
        },
        "id": "8wbN-_fnmvQ7",
        "outputId": "a794763b-a2a1-495b-e674-accdb0380cd3"
      },
      "outputs": [
        {
          "output_type": "execute_result",
          "data": {
            "text/plain": [
              "tensor([[0., 0., 0.,  ..., 0., 0., 0.],\n",
              "        [0., 0., 0.,  ..., 0., 0., 0.],\n",
              "        [0., 0., 0.,  ..., 0., 0., 0.],\n",
              "        ...,\n",
              "        [0., 0., 0.,  ..., 0., 0., 0.],\n",
              "        [0., 0., 0.,  ..., 0., 0., 0.],\n",
              "        [0., 0., 0.,  ..., 0., 0., 0.]])"
            ]
          },
          "metadata": {},
          "execution_count": 14
        }
      ],
      "source": [
        "model.weight.grad"
      ]
    },
    {
      "cell_type": "code",
      "execution_count": 15,
      "metadata": {
        "ExecuteTime": {
          "end_time": "2017-11-24T15:44:51.685301",
          "start_time": "2017-11-24T15:44:51.680419"
        },
        "colab": {
          "base_uri": "https://localhost:8080/"
        },
        "id": "mPWKRc_gmvRH",
        "outputId": "455d12ef-e2c8-4303-d482-5e4cf67020d0"
      },
      "outputs": [
        {
          "output_type": "stream",
          "name": "stdout",
          "text": [
            "Final loss: tensor(1.1038)\n"
          ]
        }
      ],
      "source": [
        "print('Final loss:', loss.data)"
      ]
    },
    {
      "cell_type": "markdown",
      "metadata": {
        "id": "PWIjRdCJmvRQ"
      },
      "source": [
        "### Visualizando gráfico de perda durante o treinamento"
      ]
    },
    {
      "cell_type": "code",
      "execution_count": 16,
      "metadata": {
        "ExecuteTime": {
          "end_time": "2017-11-24T15:44:56.787741",
          "start_time": "2017-11-24T15:44:56.627754"
        },
        "id": "gwV8aFcbmvRR",
        "outputId": "d4ddb7d8-083a-4192-e9f5-10a3972d301f",
        "colab": {
          "base_uri": "https://localhost:8080/",
          "height": 452
        }
      },
      "outputs": [
        {
          "output_type": "execute_result",
          "data": {
            "text/plain": [
              "[<matplotlib.lines.Line2D at 0x79c4aad4c100>]"
            ]
          },
          "metadata": {},
          "execution_count": 16
        },
        {
          "output_type": "display_data",
          "data": {
            "text/plain": [
              "<Figure size 640x480 with 1 Axes>"
            ],
            "image/png": "[encoded data removed]"
          },
          "metadata": {}
        }
      ],
      "source": [
        "plt.plot(losses)"
      ]
    },
    {
      "cell_type": "markdown",
      "metadata": {
        "id": "H8og76PRmvRW"
      },
      "source": [
        "## Avaliação"
      ]
    },
    {
      "cell_type": "markdown",
      "metadata": {
        "id": "tIe0ngxWmvRY"
      },
      "source": [
        "### Acurácia tanto no conjunto de treinamento como no conjunto de testes"
      ]
    },
    {
      "cell_type": "code",
      "execution_count": 17,
      "metadata": {
        "ExecuteTime": {
          "end_time": "2017-11-24T15:50:29.922115",
          "start_time": "2017-11-24T15:50:29.914004"
        },
        "id": "tlL-lfF5mvRZ",
        "outputId": "2a6fe784-0f0f-40f4-9601-b40b5383f6c8",
        "colab": {
          "base_uri": "https://localhost:8080/"
        }
      },
      "outputs": [
        {
          "output_type": "stream",
          "name": "stdout",
          "text": [
            "Accuracy: 0.824\n"
          ]
        }
      ],
      "source": [
        "def predict(model, input_data):\n",
        "    outputs = model(Variable(input_data))\n",
        "    _, predicts = torch.max(outputs, 1)\n",
        "\n",
        "    return predicts.data\n",
        "\n",
        "y_pred = predict(model, x_train.view(-1, 28*28))\n",
        "accuracy = (y_pred.numpy() == y_train.numpy()).mean()\n",
        "print('Accuracy:', accuracy)"
      ]
    },
    {
      "cell_type": "markdown",
      "metadata": {
        "id": "CvWz9qeDmvRc"
      },
      "source": [
        "### Matriz de confusão com dados de treinamento e teste"
      ]
    },
    {
      "cell_type": "code",
      "execution_count": 18,
      "metadata": {
        "ExecuteTime": {
          "end_time": "2017-11-24T15:51:40.706177",
          "start_time": "2017-11-24T15:51:40.679474"
        },
        "id": "CqNe40IqmvRd",
        "outputId": "5d695caa-22c2-4663-da5f-482a215a6b58",
        "colab": {
          "base_uri": "https://localhost:8080/",
          "height": 411
        }
      },
      "outputs": [
        {
          "output_type": "stream",
          "name": "stdout",
          "text": [
            "Matriz de confusão:\n"
          ]
        },
        {
          "output_type": "execute_result",
          "data": {
            "text/plain": [
              "col_0   0    1   2   3   4   5   6    7   8   9\n",
              "row_0                                          \n",
              "0      93    0   3   1   0   5   2    1   0   2\n",
              "1       0  110  11   1   1   2   3    7   7   1\n",
              "2       2    0  74   3   1   2   2    1   4   0\n",
              "3       0    0   1  78   0  13   0    0   6   1\n",
              "4       0    0   2   0  91   8   0    4   0   7\n",
              "5       0    2   0   1   1  52   0    0   2   1\n",
              "6       2    1   2   1   3   3  86    0   1   0\n",
              "7       0    1   5   3   2   1   0  100   1  12\n",
              "8       0    2   1   2   1   3   1    0  64   0\n",
              "9       0    0   0   3   5   3   0    4   2  76"
            ],
            "text/html": [
              "\n",
              "  <div id=\"df-d163cb72-0d74-4826-b0a0-b0b6ad7ef023\" class=\"colab-df-container\">\n",
              "    <div>\n",
              "<style scoped>\n",
              "    .dataframe tbody tr th:only-of-type {\n",
              "        vertical-align: middle;\n",
              "    }\n",
              "\n",
              "    .dataframe tbody tr th {\n",
              "        vertical-align: top;\n",
              "    }\n",
              "\n",
              "    .dataframe thead th {\n",
              "        text-align: right;\n",
              "    }\n",
              "</style>\n",
              "<table border=\"1\" class=\"dataframe\">\n",
              "  <thead>\n",
              "    <tr style=\"text-align: right;\">\n",
              "      <th>col_0</th>\n",
              "      <th>0</th>\n",
              "      <th>1</th>\n",
              "      <th>2</th>\n",
              "      <th>3</th>\n",
              "      <th>4</th>\n",
              "      <th>5</th>\n",
              "      <th>6</th>\n",
              "      <th>7</th>\n",
              "      <th>8</th>\n",
              "      <th>9</th>\n",
              "    </tr>\n",
              "    <tr>\n",
              "      <th>row_0</th>\n",
              "      <th></th>\n",
              "      <th></th>\n",
              "      <th></th>\n",
              "      <th></th>\n",
              "      <th></th>\n",
              "      <th></th>\n",
              "      <th></th>\n",
              "      <th></th>\n",
              "      <th></th>\n",
              "      <th></th>\n",
              "    </tr>\n",
              "  </thead>\n",
              "  <tbody>\n",
              "    <tr>\n",
              "      <th>0</th>\n",
              "      <td>93</td>\n",
              "      <td>0</td>\n",
              "      <td>3</td>\n",
              "      <td>1</td>\n",
              "      <td>0</td>\n",
              "      <td>5</td>\n",
              "      <td>2</td>\n",
              "      <td>1</td>\n",
              "      <td>0</td>\n",
              "      <td>2</td>\n",
              "    </tr>\n",
              "    <tr>\n",
              "      <th>1</th>\n",
              "      <td>0</td>\n",
              "      <td>110</td>\n",
              "      <td>11</td>\n",
              "      <td>1</td>\n",
              "      <td>1</td>\n",
              "      <td>2</td>\n",
              "      <td>3</td>\n",
              "      <td>7</td>\n",
              "      <td>7</td>\n",
              "      <td>1</td>\n",
              "    </tr>\n",
              "    <tr>\n",
              "      <th>2</th>\n",
              "      <td>2</td>\n",
              "      <td>0</td>\n",
              "      <td>74</td>\n",
              "      <td>3</td>\n",
              "      <td>1</td>\n",
              "      <td>2</td>\n",
              "      <td>2</td>\n",
              "      <td>1</td>\n",
              "      <td>4</td>\n",
              "      <td>0</td>\n",
              "    </tr>\n",
              "    <tr>\n",
              "      <th>3</th>\n",
              "      <td>0</td>\n",
              "      <td>0</td>\n",
              "      <td>1</td>\n",
              "      <td>78</td>\n",
              "      <td>0</td>\n",
              "      <td>13</td>\n",
              "      <td>0</td>\n",
              "      <td>0</td>\n",
              "      <td>6</td>\n",
              "      <td>1</td>\n",
              "    </tr>\n",
              "    <tr>\n",
              "      <th>4</th>\n",
              "      <td>0</td>\n",
              "      <td>0</td>\n",
              "      <td>2</td>\n",
              "      <td>0</td>\n",
              "      <td>91</td>\n",
              "      <td>8</td>\n",
              "      <td>0</td>\n",
              "      <td>4</td>\n",
              "      <td>0</td>\n",
              "      <td>7</td>\n",
              "    </tr>\n",
              "    <tr>\n",
              "      <th>5</th>\n",
              "      <td>0</td>\n",
              "      <td>2</td>\n",
              "      <td>0</td>\n",
              "      <td>1</td>\n",
              "      <td>1</td>\n",
              "      <td>52</td>\n",
              "      <td>0</td>\n",
              "      <td>0</td>\n",
              "      <td>2</td>\n",
              "      <td>1</td>\n",
              "    </tr>\n",
              "    <tr>\n",
              "      <th>6</th>\n",
              "      <td>2</td>\n",
              "      <td>1</td>\n",
              "      <td>2</td>\n",
              "      <td>1</td>\n",
              "      <td>3</td>\n",
              "      <td>3</td>\n",
              "      <td>86</td>\n",
              "      <td>0</td>\n",
              "      <td>1</td>\n",
              "      <td>0</td>\n",
              "    </tr>\n",
              "    <tr>\n",
              "      <th>7</th>\n",
              "      <td>0</td>\n",
              "      <td>1</td>\n",
              "      <td>5</td>\n",
              "      <td>3</td>\n",
              "      <td>2</td>\n",
              "      <td>1</td>\n",
              "      <td>0</td>\n",
              "      <td>100</td>\n",
              "      <td>1</td>\n",
              "      <td>12</td>\n",
              "    </tr>\n",
              "    <tr>\n",
              "      <th>8</th>\n",
              "      <td>0</td>\n",
              "      <td>2</td>\n",
              "      <td>1</td>\n",
              "      <td>2</td>\n",
              "      <td>1</td>\n",
              "      <td>3</td>\n",
              "      <td>1</td>\n",
              "      <td>0</td>\n",
              "      <td>64</td>\n",
              "      <td>0</td>\n",
              "    </tr>\n",
              "    <tr>\n",
              "      <th>9</th>\n",
              "      <td>0</td>\n",
              "      <td>0</td>\n",
              "      <td>0</td>\n",
              "      <td>3</td>\n",
              "      <td>5</td>\n",
              "      <td>3</td>\n",
              "      <td>0</td>\n",
              "      <td>4</td>\n",
              "      <td>2</td>\n",
              "      <td>76</td>\n",
              "    </tr>\n",
              "  </tbody>\n",
              "</table>\n",
              "</div>\n",
              "    <div class=\"colab-df-buttons\">\n",
              "\n",
              "  <div class=\"colab-df-container\">\n",
              "    <button class=\"colab-df-convert\" onclick=\"convertToInteractive('df-d163cb72-0d74-4826-b0a0-b0b6ad7ef023')\"\n",
              "            title=\"Convert this dataframe to an interactive table.\"\n",
              "            style=\"display:none;\">\n",
              "\n",
              "  <svg xmlns=\"http://www.w3.org/2000/svg\" height=\"24px\" viewBox=\"0 -960 960 960\">\n",
              "    <path d=\"M120-120v-720h720v720H120Zm60-500h600v-160H180v160Zm220 220h160v-160H400v160Zm0 220h160v-160H400v160ZM180-400h160v-160H180v160Zm440 0h160v-160H620v160ZM180-180h160v-160H180v160Zm440 0h160v-160H620v160Z\"/>\n",
              "  </svg>\n",
              "    </button>\n",
              "\n",
              "  <style>\n",
              "    .colab-df-container {\n",
              "      display:flex;\n",
              "      gap: 12px;\n",
              "    }\n",
              "\n",
              "    .colab-df-convert {\n",
              "      background-color: #E8F0FE;\n",
              "      border: none;\n",
              "      border-radius: 50%;\n",
              "      cursor: pointer;\n",
              "      display: none;\n",
              "      fill: #1967D2;\n",
              "      height: 32px;\n",
              "      padding: 0 0 0 0;\n",
              "      width: 32px;\n",
              "    }\n",
              "\n",
              "    .colab-df-convert:hover {\n",
              "      background-color: #E2EBFA;\n",
              "      box-shadow: 0px 1px 2px rgba(60, 64, 67, 0.3), 0px 1px 3px 1px rgba(60, 64, 67, 0.15);\n",
              "      fill: #174EA6;\n",
              "    }\n",
              "\n",
              "    .colab-df-buttons div {\n",
              "      margin-bottom: 4px;\n",
              "    }\n",
              "\n",
              "    [theme=dark] .colab-df-convert {\n",
              "      background-color: #3B4455;\n",
              "      fill: #D2E3FC;\n",
              "    }\n",
              "\n",
              "    [theme=dark] .colab-df-convert:hover {\n",
              "      background-color: #434B5C;\n",
              "      box-shadow: 0px 1px 3px 1px rgba(0, 0, 0, 0.15);\n",
              "      filter: drop-shadow(0px 1px 2px rgba(0, 0, 0, 0.3));\n",
              "      fill: #FFFFFF;\n",
              "    }\n",
              "  </style>\n",
              "\n",
              "    <script>\n",
              "      const buttonEl =\n",
              "        document.querySelector('#df-d163cb72-0d74-4826-b0a0-b0b6ad7ef023 button.colab-df-convert');\n",
              "      buttonEl.style.display =\n",
              "        google.colab.kernel.accessAllowed ? 'block' : 'none';\n",
              "\n",
              "      async function convertToInteractive(key) {\n",
              "        const element = document.querySelector('#df-d163cb72-0d74-4826-b0a0-b0b6ad7ef023');\n",
              "        const dataTable =\n",
              "          await google.colab.kernel.invokeFunction('convertToInteractive',\n",
              "                                                    [key], {});\n",
              "        if (!dataTable) return;\n",
              "\n",
              "        const docLinkHtml = 'Like what you see? Visit the ' +\n",
              "          '<a target=\"_blank\" href=https://colab.research.google.com/notebooks/data_table.ipynb>data table notebook</a>'\n",
              "          + ' to learn more about interactive tables.';\n",
              "        element.innerHTML = '';\n",
              "        dataTable['output_type'] = 'display_data';\n",
              "        await google.colab.output.renderOutput(dataTable, element);\n",
              "        const docLink = document.createElement('div');\n",
              "        docLink.innerHTML = docLinkHtml;\n",
              "        element.appendChild(docLink);\n",
              "      }\n",
              "    </script>\n",
              "  </div>\n",
              "\n",
              "\n",
              "<div id=\"df-2f4257cf-c12e-4b86-9726-26a5a8928f4b\">\n",
              "  <button class=\"colab-df-quickchart\" onclick=\"quickchart('df-2f4257cf-c12e-4b86-9726-26a5a8928f4b')\"\n",
              "            title=\"Suggest charts\"\n",
              "            style=\"display:none;\">\n",
              "\n",
              "<svg xmlns=\"http://www.w3.org/2000/svg\" height=\"24px\"viewBox=\"0 0 24 24\"\n",
              "     width=\"24px\">\n",
              "    <g>\n",
              "        <path d=\"M19 3H5c-1.1 0-2 .9-2 2v14c0 1.1.9 2 2 2h14c1.1 0 2-.9 2-2V5c0-1.1-.9-2-2-2zM9 17H7v-7h2v7zm4 0h-2V7h2v10zm4 0h-2v-4h2v4z\"/>\n",
              "    </g>\n",
              "</svg>\n",
              "  </button>\n",
              "\n",
              "<style>\n",
              "  .colab-df-quickchart {\n",
              "      --bg-color: #E8F0FE;\n",
              "      --fill-color: #1967D2;\n",
              "      --hover-bg-color: #E2EBFA;\n",
              "      --hover-fill-color: #174EA6;\n",
              "      --disabled-fill-color: #AAA;\n",
              "      --disabled-bg-color: #DDD;\n",
              "  }\n",
              "\n",
              "  [theme=dark] .colab-df-quickchart {\n",
              "      --bg-color: #3B4455;\n",
              "      --fill-color: #D2E3FC;\n",
              "      --hover-bg-color: #434B5C;\n",
              "      --hover-fill-color: #FFFFFF;\n",
              "      --disabled-bg-color: #3B4455;\n",
              "      --disabled-fill-color: #666;\n",
              "  }\n",
              "\n",
              "  .colab-df-quickchart {\n",
              "    background-color: var(--bg-color);\n",
              "    border: none;\n",
              "    border-radius: 50%;\n",
              "    cursor: pointer;\n",
              "    display: none;\n",
              "    fill: var(--fill-color);\n",
              "    height: 32px;\n",
              "    padding: 0;\n",
              "    width: 32px;\n",
              "  }\n",
              "\n",
              "  .colab-df-quickchart:hover {\n",
              "    background-color: var(--hover-bg-color);\n",
              "    box-shadow: 0 1px 2px rgba(60, 64, 67, 0.3), 0 1px 3px 1px rgba(60, 64, 67, 0.15);\n",
              "    fill: var(--button-hover-fill-color);\n",
              "  }\n",
              "\n",
              "  .colab-df-quickchart-complete:disabled,\n",
              "  .colab-df-quickchart-complete:disabled:hover {\n",
              "    background-color: var(--disabled-bg-color);\n",
              "    fill: var(--disabled-fill-color);\n",
              "    box-shadow: none;\n",
              "  }\n",
              "\n",
              "  .colab-df-spinner {\n",
              "    border: 2px solid var(--fill-color);\n",
              "    border-color: transparent;\n",
              "    border-bottom-color: var(--fill-color);\n",
              "    animation:\n",
              "      spin 1s steps(1) infinite;\n",
              "  }\n",
              "\n",
              "  @keyframes spin {\n",
              "    0% {\n",
              "      border-color: transparent;\n",
              "      border-bottom-color: var(--fill-color);\n",
              "      border-left-color: var(--fill-color);\n",
              "    }\n",
              "    20% {\n",
              "      border-color: transparent;\n",
              "      border-left-color: var(--fill-color);\n",
              "      border-top-color: var(--fill-color);\n",
              "    }\n",
              "    30% {\n",
              "      border-color: transparent;\n",
              "      border-left-color: var(--fill-color);\n",
              "      border-top-color: var(--fill-color);\n",
              "      border-right-color: var(--fill-color);\n",
              "    }\n",
              "    40% {\n",
              "      border-color: transparent;\n",
              "      border-right-color: var(--fill-color);\n",
              "      border-top-color: var(--fill-color);\n",
              "    }\n",
              "    60% {\n",
              "      border-color: transparent;\n",
              "      border-right-color: var(--fill-color);\n",
              "    }\n",
              "    80% {\n",
              "      border-color: transparent;\n",
              "      border-right-color: var(--fill-color);\n",
              "      border-bottom-color: var(--fill-color);\n",
              "    }\n",
              "    90% {\n",
              "      border-color: transparent;\n",
              "      border-bottom-color: var(--fill-color);\n",
              "    }\n",
              "  }\n",
              "</style>\n",
              "\n",
              "  <script>\n",
              "    async function quickchart(key) {\n",
              "      const quickchartButtonEl =\n",
              "        document.querySelector('#' + key + ' button');\n",
              "      quickchartButtonEl.disabled = true;  // To prevent multiple clicks.\n",
              "      quickchartButtonEl.classList.add('colab-df-spinner');\n",
              "      try {\n",
              "        const charts = await google.colab.kernel.invokeFunction(\n",
              "            'suggestCharts', [key], {});\n",
              "      } catch (error) {\n",
              "        console.error('Error during call to suggestCharts:', error);\n",
              "      }\n",
              "      quickchartButtonEl.classList.remove('colab-df-spinner');\n",
              "      quickchartButtonEl.classList.add('colab-df-quickchart-complete');\n",
              "    }\n",
              "    (() => {\n",
              "      let quickchartButtonEl =\n",
              "        document.querySelector('#df-2f4257cf-c12e-4b86-9726-26a5a8928f4b button');\n",
              "      quickchartButtonEl.style.display =\n",
              "        google.colab.kernel.accessAllowed ? 'block' : 'none';\n",
              "    })();\n",
              "  </script>\n",
              "</div>\n",
              "\n",
              "    </div>\n",
              "  </div>\n"
            ],
            "application/vnd.google.colaboratory.intrinsic+json": {
              "type": "dataframe",
              "summary": "{\n  \"name\": \"pd\",\n  \"rows\": 10,\n  \"fields\": [\n    {\n      \"column\": \"row_0\",\n      \"properties\": {\n        \"dtype\": \"number\",\n        \"std\": 3,\n        \"min\": 0,\n        \"max\": 9,\n        \"num_unique_values\": 10,\n        \"samples\": [\n          8,\n          1,\n          5\n        ],\n        \"semantic_type\": \"\",\n        \"description\": \"\"\n      }\n    },\n    {\n      \"column\": 0,\n      \"properties\": {\n        \"dtype\": \"number\",\n        \"std\": 29,\n        \"min\": 0,\n        \"max\": 93,\n        \"num_unique_values\": 3,\n        \"samples\": [\n          93,\n          0,\n          2\n        ],\n        \"semantic_type\": \"\",\n        \"description\": \"\"\n      }\n    },\n    {\n      \"column\": 1,\n      \"properties\": {\n        \"dtype\": \"number\",\n        \"std\": 34,\n        \"min\": 0,\n        \"max\": 110,\n        \"num_unique_values\": 4,\n        \"samples\": [\n          110,\n          1,\n          0\n        ],\n        \"semantic_type\": \"\",\n        \"description\": \"\"\n      }\n    },\n    {\n      \"column\": 2,\n      \"properties\": {\n        \"dtype\": \"number\",\n        \"std\": 22,\n        \"min\": 0,\n        \"max\": 74,\n        \"num_unique_values\": 7,\n        \"samples\": [\n          3,\n          11,\n          0\n        ],\n        \"semantic_type\": \"\",\n        \"description\": \"\"\n      }\n    },\n    {\n      \"column\": 3,\n      \"properties\": {\n        \"dtype\": \"number\",\n        \"std\": 24,\n        \"min\": 0,\n        \"max\": 78,\n        \"num_unique_values\": 5,\n        \"samples\": [\n          3,\n          2,\n          78\n        ],\n        \"semantic_type\": \"\",\n        \"description\": \"\"\n      }\n    },\n    {\n      \"column\": 4,\n      \"properties\": {\n        \"dtype\": \"number\",\n        \"std\": 28,\n        \"min\": 0,\n        \"max\": 91,\n        \"num_unique_values\": 6,\n        \"samples\": [\n          0,\n          1,\n          5\n        ],\n        \"semantic_type\": \"\",\n        \"description\": \"\"\n      }\n    },\n    {\n      \"column\": 5,\n      \"properties\": {\n        \"dtype\": \"number\",\n        \"std\": 15,\n        \"min\": 1,\n        \"max\": 52,\n        \"num_unique_values\": 7,\n        \"samples\": [\n          5,\n          2,\n          3\n        ],\n        \"semantic_type\": \"\",\n        \"description\": \"\"\n      }\n    },\n    {\n      \"column\": 6,\n      \"properties\": {\n        \"dtype\": \"number\",\n        \"std\": 26,\n        \"min\": 0,\n        \"max\": 86,\n        \"num_unique_values\": 5,\n        \"samples\": [\n          3,\n          1,\n          0\n        ],\n        \"semantic_type\": \"\",\n        \"description\": \"\"\n      }\n    },\n    {\n      \"column\": 7,\n      \"properties\": {\n        \"dtype\": \"number\",\n        \"std\": 31,\n        \"min\": 0,\n        \"max\": 100,\n        \"num_unique_values\": 5,\n        \"samples\": [\n          7,\n          100,\n          0\n        ],\n        \"semantic_type\": \"\",\n        \"description\": \"\"\n      }\n    },\n    {\n      \"column\": 8,\n      \"properties\": {\n        \"dtype\": \"number\",\n        \"std\": 19,\n        \"min\": 0,\n        \"max\": 64,\n        \"num_unique_values\": 7,\n        \"samples\": [\n          0,\n          7,\n          1\n        ],\n        \"semantic_type\": \"\",\n        \"description\": \"\"\n      }\n    },\n    {\n      \"column\": 9,\n      \"properties\": {\n        \"dtype\": \"number\",\n        \"std\": 23,\n        \"min\": 0,\n        \"max\": 76,\n        \"num_unique_values\": 6,\n        \"samples\": [\n          2,\n          1,\n          76\n        ],\n        \"semantic_type\": \"\",\n        \"description\": \"\"\n      }\n    }\n  ]\n}"
            }
          },
          "metadata": {},
          "execution_count": 18
        }
      ],
      "source": [
        "print('Matriz de confusão:')\n",
        "pd.crosstab(y_pred.numpy(), y_train.numpy())"
      ]
    },
    {
      "cell_type": "markdown",
      "metadata": {
        "id": "RLjDGqb7mvRi"
      },
      "source": [
        "## Visualizando a matriz de pesos treinados"
      ]
    },
    {
      "cell_type": "markdown",
      "metadata": {
        "id": "AYuIu31KmvRj"
      },
      "source": [
        "Observe que a matriz de peso treinado para cada classe mostra a importância dos pesos associados aos caracteres de cada classe."
      ]
    },
    {
      "cell_type": "code",
      "execution_count": 19,
      "metadata": {
        "ExecuteTime": {
          "end_time": "2017-11-24T16:34:49.367135",
          "start_time": "2017-11-24T16:34:49.204452"
        },
        "id": "_QESuAB8mvRk",
        "outputId": "70df3e9d-3f65-4fb8-9cb9-a22f9a0be4a6",
        "colab": {
          "base_uri": "https://localhost:8080/",
          "height": 465
        }
      },
      "outputs": [
        {
          "output_type": "stream",
          "name": "stdout",
          "text": [
            "weights: torch.Size([10, 784])\n",
            "bias:    torch.Size([10])\n"
          ]
        },
        {
          "output_type": "display_data",
          "data": {
            "text/plain": [
              "<Figure size 640x480 with 1 Axes>"
            ],
            "image/png": "[encoded data removed]"
          },
          "metadata": {}
        }
      ],
      "source": [
        "weights = model.state_dict()['weight']\n",
        "print('weights:', weights.shape)\n",
        "\n",
        "bias = model.state_dict()['bias']\n",
        "print('bias:   ', bias.shape)\n",
        "\n",
        "# Visualizando pesos da classe 3\n",
        "plt.imshow(weights[3, :].numpy().reshape((28,28)),cmap = 'gray')\n",
        "plt.show()"
      ]
    },
    {
      "cell_type": "markdown",
      "metadata": {
        "id": "eE1B62KamvRp"
      },
      "source": [
        "### Visualizando os pesos de todas as classes"
      ]
    },
    {
      "cell_type": "code",
      "execution_count": 20,
      "metadata": {
        "ExecuteTime": {
          "end_time": "2017-11-24T16:34:50.240218",
          "start_time": "2017-11-24T16:34:50.025515"
        },
        "id": "EHm39Pe_mvRp",
        "outputId": "c2e79dec-481c-48d3-f390-9d34ea638adc",
        "colab": {
          "base_uri": "https://localhost:8080/",
          "height": 156
        }
      },
      "outputs": [
        {
          "output_type": "display_data",
          "data": {
            "text/plain": [
              "<Figure size 1500x1000 with 1 Axes>"
            ],
            "image/png": "[encoded data removed]"
          },
          "metadata": {}
        }
      ],
      "source": [
        "# cria um grid com as imagens\n",
        "grid = torchvision.utils.make_grid(weights.view(-1, 1, 28, 28), normalize=True, pad_value=1.0, padding=1, nrow=10)\n",
        "\n",
        "plt.figure(figsize=(15, 10))\n",
        "plt.imshow(grid.numpy().transpose(1, 2, 0))\n",
        "plt.axis('off');"
      ]
    },
    {
      "cell_type": "markdown",
      "metadata": {
        "id": "odqHBFclmvRt"
      },
      "source": [
        "### Diagrama da regressão softmax com visualização dos pesos W"
      ]
    },
    {
      "cell_type": "markdown",
      "metadata": {
        "id": "UVKoDiM-mvRu"
      },
      "source": [
        "![alt text](https://raw.githubusercontent.com/vcasadei/images/master/RegressaoSoftmaxArgmaxNMIST.png)"
      ]
    },
    {
      "cell_type": "markdown",
      "metadata": {
        "id": "y0vTJyVbmvRv"
      },
      "source": [
        "# Atividades"
      ]
    },
    {
      "cell_type": "markdown",
      "metadata": {
        "id": "Rl-7WEDMmvRw"
      },
      "source": [
        "## Exercícios"
      ]
    },
    {
      "cell_type": "markdown",
      "metadata": {
        "id": "Vn4GzfSYmvR5"
      },
      "source": [
        "- 1) Insira código no laço do treinamento para que no final de cada época,\n",
        "     seja impresso: o número da época e a perda e a acurácia"
      ]
    },
    {
      "cell_type": "code",
      "source": [
        "a = 5\n",
        "losses = []\n",
        "zs = []\n",
        "fig = plt.figure(figsize=(18, 6))\n",
        "\n",
        "try:\n",
        "    for epoch in range(epochs):\n",
        "        # Transforma a entrada para uma dimensão\n",
        "        inputs = Variable(x_train.view(-1, 28 * 28))\n",
        "        # Predict da rede\n",
        "        outputs = model(inputs)\n",
        "        zs.append(outputs[1].detach().numpy())\n",
        "\n",
        "        # Calcula a perda\n",
        "        loss = criterion(outputs, Variable(y_train))\n",
        "\n",
        "        # Zero, backpropagation, ajusta parâmetros pelo gradiente descendente\n",
        "        optimizer.zero_grad()\n",
        "        loss.backward()\n",
        "        optimizer.step()\n",
        "\n",
        "        losses.append(loss.data)\n",
        "        _, predicts = torch.max(outputs, 1)\n",
        "\n",
        "        y_pred = predicts.data\n",
        "        accuracy = (y_pred.numpy() == y_train.numpy()).mean()\n",
        "\n",
        "        # Imprime a época, perda e acurácia\n",
        "        print(f\"Época {epoch+1}: Perda = {loss.data.item():.4f}, Acurácia = {accuracy:.4f}\")\n",
        "\n",
        "except KeyboardInterrupt:\n",
        "    pass"
      ],
      "metadata": {
        "colab": {
          "base_uri": "https://localhost:8080/",
          "height": 121
        },
        "id": "tsm06KEyK8mB",
        "outputId": "1667b33d-7314-4ab2-9954-b9548f32d265"
      },
      "execution_count": 22,
      "outputs": [
        {
          "output_type": "stream",
          "name": "stdout",
          "text": [
            "Época 1: Perda = 0.7210, Acurácia = 0.8530\n",
            "Época 2: Perda = 0.6910, Acurácia = 0.8580\n",
            "Época 3: Perda = 0.6649, Acurácia = 0.8620\n",
            "Época 4: Perda = 0.6419, Acurácia = 0.8660\n",
            "Época 5: Perda = 0.6215, Acurácia = 0.8720\n"
          ]
        },
        {
          "output_type": "display_data",
          "data": {
            "text/plain": [
              "<Figure size 1800x600 with 0 Axes>"
            ]
          },
          "metadata": {}
        }
      ]
    },
    {
      "cell_type": "markdown",
      "metadata": {
        "id": "RtZPs6M6mvR6"
      },
      "source": [
        "- 2) Insira código no laço do treinamento para visualização dos valores dos gradientes referentes à classe do dígito 4, no final de cada época."
      ]
    },
    {
      "cell_type": "code",
      "source": [
        "a = 5\n",
        "losses = []\n",
        "zs = []\n",
        "fig = plt.figure(figsize=(18, 6))\n",
        "\n",
        "try:\n",
        "    for epoch in range(epochs):\n",
        "        # Transforma a entrada para uma dimensão\n",
        "        inputs = Variable(x_train.view(-1, 28 * 28))\n",
        "        # Predict da rede\n",
        "        outputs = model(inputs)\n",
        "        zs.append(outputs[1].detach().numpy())\n",
        "\n",
        "        # Calcula a perda\n",
        "        loss = criterion(outputs, Variable(y_train))\n",
        "\n",
        "        # Zero, backpropagation, ajusta parâmetros pelo gradiente descendente\n",
        "        optimizer.zero_grad()\n",
        "        loss.backward()\n",
        "\n",
        "        # Visualiza os gradientes da classe 4\n",
        "        for name, param in model.named_parameters():\n",
        "            if param.grad is not None:\n",
        "                if \"weight\" in name:\n",
        "                    print(f\"Epoch {epoch+1} - Gradientes da classe 4:\")\n",
        "                    print(param.grad[4])  # gradientes referentes à classe do dígito 4\n",
        "\n",
        "        optimizer.step()\n",
        "\n",
        "        losses.append(loss.data)\n",
        "        _, predicts = torch.max(outputs, 1)\n",
        "\n",
        "        y_pred = predicts.data\n",
        "        accuracy = (y_pred.numpy() == y_train.numpy()).mean()\n",
        "\n",
        "except KeyboardInterrupt:\n",
        "    pass"
      ],
      "metadata": {
        "colab": {
          "base_uri": "https://localhost:8080/",
          "height": 1000
        },
        "id": "5vd9bIEbK_Wh",
        "outputId": "02507010-952b-45ec-92f6-c071e2e17de8"
      },
      "execution_count": 23,
      "outputs": [
        {
          "output_type": "stream",
          "name": "stdout",
          "text": [
            "Epoch 1 - Gradientes da classe 4:\n",
            "tensor([ 0.0000e+00,  0.0000e+00,  0.0000e+00,  0.0000e+00,  0.0000e+00,\n",
            "         0.0000e+00,  0.0000e+00,  0.0000e+00,  0.0000e+00,  0.0000e+00,\n",
            "         0.0000e+00,  0.0000e+00,  0.0000e+00,  0.0000e+00,  0.0000e+00,\n",
            "         0.0000e+00,  0.0000e+00,  0.0000e+00,  0.0000e+00,  0.0000e+00,\n",
            "         0.0000e+00,  0.0000e+00,  0.0000e+00,  0.0000e+00,  0.0000e+00,\n",
            "         0.0000e+00,  0.0000e+00,  0.0000e+00,  0.0000e+00,  0.0000e+00,\n",
            "         0.0000e+00,  0.0000e+00,  0.0000e+00,  0.0000e+00,  0.0000e+00,\n",
            "         0.0000e+00,  0.0000e+00,  0.0000e+00,  1.9118e-05,  1.1853e-04,\n",
            "         0.0000e+00,  3.5910e-05,  1.5148e-04,  2.0593e-04,  1.4055e-04,\n",
            "         1.6480e-04,  7.8440e-05,  0.0000e+00,  0.0000e+00,  0.0000e+00,\n",
            "         0.0000e+00,  0.0000e+00,  0.0000e+00,  0.0000e+00,  0.0000e+00,\n",
            "         0.0000e+00,  0.0000e+00,  0.0000e+00,  0.0000e+00,  0.0000e+00,\n",
            "         0.0000e+00,  0.0000e+00,  0.0000e+00,  0.0000e+00,  0.0000e+00,\n",
            "         0.0000e+00,  2.1339e-04,  5.6170e-04,  3.6016e-04,  3.0943e-04,\n",
            "         6.2497e-04,  3.0245e-04, -1.5595e-06,  4.7939e-04,  3.8524e-04,\n",
            "         2.2912e-04,  9.1217e-05,  1.1386e-04,  5.4338e-05,  1.8361e-06,\n",
            "         0.0000e+00,  0.0000e+00,  0.0000e+00,  0.0000e+00,  0.0000e+00,\n",
            "         0.0000e+00,  0.0000e+00,  0.0000e+00,  0.0000e+00,  0.0000e+00,\n",
            "         5.4033e-06,  5.4932e-05,  3.6089e-05,  6.2679e-05,  5.7600e-04,\n",
            "         8.1460e-04,  8.8691e-04,  1.2907e-03,  1.1299e-03,  7.2138e-04,\n",
            "         5.8174e-04,  1.0916e-03,  1.0237e-03,  8.6836e-04,  6.0406e-04,\n",
            "         2.9179e-04,  4.5336e-06,  1.4768e-06,  0.0000e+00,  0.0000e+00,\n",
            "         0.0000e+00,  0.0000e+00,  0.0000e+00,  0.0000e+00,  0.0000e+00,\n",
            "         0.0000e+00, -4.7321e-05, -5.4338e-05,  1.3356e-04,  2.7544e-04,\n",
            "         2.1650e-04, -5.7535e-04, -2.9295e-04,  8.5266e-04,  1.8422e-03,\n",
            "         1.8519e-03,  1.4247e-03,  1.6538e-03,  2.0154e-03,  2.4444e-03,\n",
            "         1.9701e-03,  1.2076e-03,  4.6962e-05, -2.0472e-05, -3.0185e-04,\n",
            "        -1.9505e-04,  1.1050e-05,  0.0000e+00,  0.0000e+00,  0.0000e+00,\n",
            "         0.0000e+00,  0.0000e+00,  0.0000e+00, -9.3334e-06, -2.4727e-04,\n",
            "        -1.7997e-04,  2.7006e-04,  4.3348e-04, -4.9785e-05, -1.3444e-03,\n",
            "        -1.4825e-03, -4.0123e-04,  9.5915e-04,  1.2610e-03,  1.1277e-03,\n",
            "         2.3401e-03,  2.3543e-03,  1.8953e-03,  1.4489e-03,  7.6115e-04,\n",
            "        -1.0936e-04, -1.5634e-03, -2.1925e-03, -2.5175e-03, -1.6162e-03,\n",
            "        -6.8355e-04,  1.5192e-05,  0.0000e+00,  0.0000e+00,  0.0000e+00,\n",
            "         0.0000e+00, -1.9380e-04, -4.6638e-04, -5.1986e-04,  2.9716e-04,\n",
            "         5.6824e-04, -5.0490e-04, -1.6561e-03, -1.5691e-03, -7.7237e-04,\n",
            "         1.5171e-03,  2.2137e-03,  4.8936e-03,  6.9847e-03,  7.2465e-03,\n",
            "         4.3589e-03,  2.5469e-03,  8.5763e-04, -7.9482e-04, -3.2985e-03,\n",
            "        -4.1762e-03, -3.3794e-03, -1.5764e-03, -6.3024e-04, -1.2834e-04,\n",
            "         7.1087e-05,  0.0000e+00,  0.0000e+00,  8.1854e-06, -9.7750e-05,\n",
            "        -4.9752e-04, -8.0448e-04,  2.2482e-04,  3.3295e-04, -7.4641e-04,\n",
            "        -8.2755e-04, -1.6226e-05,  9.3553e-04,  3.2520e-03,  6.1868e-03,\n",
            "         8.8840e-03,  1.1460e-02,  9.7769e-03,  5.9271e-03,  2.5305e-03,\n",
            "         1.2994e-03, -9.5425e-04, -2.2079e-03, -3.5368e-03, -2.8383e-03,\n",
            "        -1.0814e-03, -2.8264e-04, -4.3382e-05,  4.1231e-05,  0.0000e+00,\n",
            "         0.0000e+00,  7.0865e-06, -1.0853e-04, -6.2705e-04, -5.0669e-04,\n",
            "        -3.9865e-04, -2.7091e-04,  2.1019e-04,  2.1488e-04,  1.0262e-03,\n",
            "         2.3811e-03,  4.4668e-03,  6.3426e-03,  8.3707e-03,  1.0305e-02,\n",
            "         7.1664e-03,  4.1477e-03,  4.3090e-03,  1.5837e-03,  4.9682e-04,\n",
            "        -6.2820e-04, -2.3425e-03, -1.6845e-03,  1.1493e-03,  6.4588e-04,\n",
            "         1.4627e-04,  0.0000e+00,  0.0000e+00,  3.4086e-05,  7.1944e-05,\n",
            "        -2.1375e-05, -2.8622e-04, -4.0795e-04, -2.3992e-04,  4.3390e-04,\n",
            "         1.4976e-03,  1.4539e-03,  2.4479e-03,  2.2915e-03,  2.4297e-03,\n",
            "         3.1825e-03,  7.0097e-03,  8.0108e-03,  2.7124e-03,  2.1086e-03,\n",
            "         2.7257e-03,  1.7058e-03,  4.2364e-04, -5.8282e-04, -1.8688e-03,\n",
            "         1.7939e-04,  1.2003e-03,  3.4922e-04,  8.2951e-05,  0.0000e+00,\n",
            "         0.0000e+00,  3.9330e-06,  4.0325e-04,  4.7368e-04,  4.1199e-04,\n",
            "        -3.2520e-04, -8.1154e-05,  5.2881e-04,  7.7457e-04,  5.1238e-04,\n",
            "         3.5117e-04, -8.4470e-04, -1.3602e-03,  1.4255e-03,  4.6710e-03,\n",
            "         5.3205e-03,  6.3776e-04, -1.9619e-04,  1.0597e-03,  1.7027e-04,\n",
            "        -1.9108e-04, -6.9216e-04, -1.6011e-03,  5.3834e-04,  3.3722e-04,\n",
            "         5.9842e-05,  1.5959e-06,  0.0000e+00,  0.0000e+00,  0.0000e+00,\n",
            "         3.0346e-04,  4.9862e-04,  1.0976e-04, -8.7197e-04,  1.9263e-04,\n",
            "         1.7839e-04,  2.6712e-04, -1.7786e-03, -3.6442e-03, -4.7987e-03,\n",
            "        -1.8826e-03,  1.7019e-03,  4.3404e-03,  3.1852e-03, -2.1691e-03,\n",
            "        -2.9148e-03, -3.3621e-04, -1.0822e-03,  8.2082e-05, -5.5346e-04,\n",
            "        -1.0086e-03,  5.9972e-04,  2.6713e-04,  6.8027e-06,  1.0440e-05,\n",
            "         0.0000e+00,  0.0000e+00,  0.0000e+00,  5.7550e-05,  1.6476e-04,\n",
            "        -8.1924e-04, -1.3283e-03, -1.8762e-04, -1.1534e-03, -1.4258e-03,\n",
            "        -5.0201e-03, -9.0866e-03, -7.7652e-03, -3.1590e-03,  7.0594e-04,\n",
            "         2.9964e-03,  8.1672e-04, -4.5499e-03, -3.7078e-03, -1.0834e-03,\n",
            "        -5.3066e-04,  1.3875e-03, -2.9004e-04,  1.8283e-04,  1.2381e-03,\n",
            "         5.3715e-04,  1.3210e-04,  8.3234e-06,  0.0000e+00,  0.0000e+00,\n",
            "         0.0000e+00,  1.4703e-05, -1.3691e-04, -1.1910e-03, -1.1939e-03,\n",
            "        -1.7019e-03, -3.2721e-03, -4.1431e-03, -7.3025e-03, -9.9127e-03,\n",
            "        -6.7957e-03, -1.9850e-03,  2.1347e-03,  3.0544e-03,  5.9269e-04,\n",
            "        -4.2019e-03, -5.9255e-03, -2.7310e-03, -3.8843e-04, -8.6420e-04,\n",
            "        -1.3506e-03, -5.5555e-04,  9.2091e-04,  5.1149e-04,  2.8098e-04,\n",
            "         9.6225e-07,  0.0000e+00,  0.0000e+00,  0.0000e+00,  0.0000e+00,\n",
            "        -9.5931e-05, -1.4000e-03, -1.9259e-03, -4.0811e-03, -6.3260e-03,\n",
            "        -6.0927e-03, -5.0748e-03, -4.9344e-03, -3.9817e-03, -1.0087e-03,\n",
            "         1.3539e-03,  8.5612e-04, -1.1142e-03, -5.4458e-03, -8.4372e-03,\n",
            "        -3.0694e-03, -2.4225e-03, -2.3373e-03, -1.9160e-03, -7.1653e-04,\n",
            "         4.8523e-04,  5.3833e-04,  2.3804e-04,  7.3059e-06,  0.0000e+00,\n",
            "         0.0000e+00,  0.0000e+00,  0.0000e+00, -1.8195e-04, -1.2609e-03,\n",
            "        -1.7544e-03, -3.7113e-03, -7.3730e-03, -8.7247e-03, -6.3999e-03,\n",
            "        -4.9832e-03, -3.9505e-03, -3.3802e-03, -3.3315e-03, -2.2998e-03,\n",
            "        -4.1585e-03, -6.7197e-03, -5.2120e-03, -3.4504e-03, -3.8248e-03,\n",
            "        -2.0046e-03, -9.4654e-04, -6.6882e-04,  3.4516e-04,  5.5904e-04,\n",
            "         3.8065e-04,  1.4115e-04,  0.0000e+00,  0.0000e+00,  0.0000e+00,\n",
            "         1.8556e-05,  3.6767e-05, -6.2291e-04, -1.4538e-03, -2.3769e-03,\n",
            "        -7.1792e-03, -7.7396e-03, -5.7814e-03, -4.4498e-03, -3.0054e-03,\n",
            "        -2.1933e-03, -1.8981e-03, -2.5608e-03, -4.6360e-03, -5.5543e-03,\n",
            "        -3.3696e-03, -4.0096e-03, -2.0018e-03,  1.1644e-04,  4.7398e-04,\n",
            "        -1.0050e-03, -2.8773e-04,  3.9524e-04,  1.7625e-04,  6.2381e-05,\n",
            "         0.0000e+00,  0.0000e+00,  0.0000e+00,  1.8605e-05,  1.3478e-04,\n",
            "         3.7533e-04,  1.2336e-04, -1.1412e-03, -3.6556e-03, -3.4936e-03,\n",
            "        -1.7528e-03, -6.6639e-05, -1.2668e-04, -2.5905e-03, -3.6164e-03,\n",
            "        -4.1048e-03, -5.0999e-03, -4.5140e-03, -1.5897e-03, -9.4788e-04,\n",
            "         1.0864e-03,  1.4821e-03,  1.1338e-03,  4.3600e-04,  2.4077e-05,\n",
            "         3.3828e-04,  1.2500e-04,  0.0000e+00,  0.0000e+00,  0.0000e+00,\n",
            "         0.0000e+00,  1.4248e-04,  2.4241e-04,  9.3406e-04,  1.9563e-03,\n",
            "         2.1494e-03,  1.3953e-03, -3.2958e-04,  1.3690e-04,  1.7790e-03,\n",
            "         1.1382e-03, -1.9516e-04, -1.7017e-03, -2.7591e-03, -2.9579e-03,\n",
            "        -1.1085e-03,  8.1900e-04,  1.9353e-03,  1.9351e-03,  1.1078e-03,\n",
            "         4.5218e-04,  5.8443e-04,  5.6554e-04,  3.7088e-04,  5.6106e-05,\n",
            "         0.0000e+00,  0.0000e+00,  0.0000e+00,  0.0000e+00,  1.9790e-04,\n",
            "         2.9887e-04,  1.0963e-03,  2.3458e-03,  3.6851e-03,  4.0954e-03,\n",
            "         4.5597e-03,  4.5974e-03,  3.9724e-03,  3.7359e-03,  2.7182e-03,\n",
            "         2.0095e-03,  3.6192e-05, -1.2845e-03, -3.8437e-04,  1.3013e-03,\n",
            "         1.2577e-03,  2.2410e-03,  9.5986e-04,  4.2882e-04,  5.5254e-04,\n",
            "         2.7566e-04,  5.0185e-05,  1.5294e-06,  0.0000e+00,  0.0000e+00,\n",
            "         0.0000e+00,  0.0000e+00,  6.8210e-05,  2.8774e-04,  1.0117e-03,\n",
            "         1.9511e-03,  3.2274e-03,  4.2338e-03,  4.9185e-03,  5.3160e-03,\n",
            "         6.4479e-03,  5.8313e-03,  5.9197e-03,  3.9687e-03, -1.7604e-04,\n",
            "         2.9018e-04,  1.2041e-03,  1.4827e-03,  1.1685e-03,  1.8026e-03,\n",
            "         6.4851e-04, -2.6075e-04,  1.7704e-04,  2.3919e-04,  8.8703e-05,\n",
            "         9.2944e-06,  6.9282e-06,  0.0000e+00,  0.0000e+00,  0.0000e+00,\n",
            "         5.0828e-05,  1.7962e-04,  8.3080e-04,  1.6361e-03,  2.4609e-03,\n",
            "         3.7638e-03,  4.0413e-03,  4.6224e-03,  4.3857e-03,  3.8475e-03,\n",
            "         4.5981e-03,  2.0269e-03, -1.5370e-03,  3.0130e-04,  1.1078e-03,\n",
            "         1.1841e-03, -3.1063e-04,  9.4196e-04,  2.4468e-04, -6.8611e-04,\n",
            "         2.0129e-04,  1.4410e-04,  2.5999e-05,  6.1174e-06,  1.3605e-05,\n",
            "         0.0000e+00,  0.0000e+00,  0.0000e+00,  1.1624e-06,  5.3736e-05,\n",
            "         3.4569e-04,  9.4807e-04,  1.7480e-03,  1.9156e-03,  2.3582e-03,\n",
            "         3.2880e-03,  2.1546e-03,  2.1343e-03,  2.9513e-03, -6.0344e-04,\n",
            "        -1.7871e-03, -8.0967e-04,  3.5103e-04,  2.2243e-04, -1.0238e-03,\n",
            "         7.3614e-05, -3.8032e-04, -6.0985e-04, -2.2377e-06,  1.4568e-04,\n",
            "         2.5967e-05,  2.9830e-06,  6.8319e-06,  0.0000e+00,  0.0000e+00,\n",
            "         0.0000e+00,  7.3749e-08,  6.5601e-05,  2.9773e-04,  6.0151e-04,\n",
            "         8.5069e-04,  9.1186e-04,  1.7753e-03,  1.1935e-03,  8.4392e-04,\n",
            "         1.5689e-03,  9.9230e-04, -1.9085e-03, -2.2931e-03, -1.0553e-03,\n",
            "         8.2340e-04, -6.6471e-04, -8.6482e-04, -1.1020e-03, -1.0995e-03,\n",
            "        -9.3683e-05,  5.2543e-05,  9.6747e-05,  7.3199e-05,  0.0000e+00,\n",
            "         0.0000e+00,  0.0000e+00,  0.0000e+00,  0.0000e+00,  0.0000e+00,\n",
            "         8.2845e-05,  3.1073e-04,  5.0273e-04,  3.4352e-05,  7.5592e-04,\n",
            "         1.8329e-03,  1.1286e-04,  1.6184e-03,  1.5973e-03,  1.7912e-03,\n",
            "        -5.9558e-04,  1.3562e-04,  2.9450e-03,  1.1946e-03, -3.1890e-04,\n",
            "        -7.0598e-04, -3.5622e-04,  1.6187e-04,  2.4955e-04,  6.4507e-05,\n",
            "         9.4569e-05,  7.2311e-05,  0.0000e+00,  0.0000e+00,  0.0000e+00,\n",
            "         0.0000e+00,  0.0000e+00,  0.0000e+00,  4.1976e-06,  1.2484e-04,\n",
            "         3.2969e-04,  6.5487e-04,  1.1742e-03,  1.0540e-03,  3.9366e-04,\n",
            "         2.8973e-03,  3.2027e-03,  2.8625e-03,  2.2524e-03,  2.1834e-03,\n",
            "         2.6328e-03,  2.5372e-03,  1.5763e-03,  1.3310e-03,  5.5740e-04,\n",
            "         3.7952e-04,  1.0687e-04,  1.1872e-04,  1.5086e-04,  3.3039e-05,\n",
            "         0.0000e+00,  0.0000e+00,  0.0000e+00,  0.0000e+00,  0.0000e+00,\n",
            "         0.0000e+00,  6.5503e-06,  6.8768e-05,  1.3001e-04,  2.7146e-04,\n",
            "         2.9117e-04, -2.2163e-04,  1.8413e-04,  6.2421e-04,  4.1440e-04,\n",
            "         5.1971e-04,  5.3529e-04,  1.0336e-03,  1.0831e-03,  1.0505e-03,\n",
            "         1.0004e-03,  7.1222e-04,  4.8243e-04,  8.3988e-05,  2.2039e-05,\n",
            "         0.0000e+00,  0.0000e+00,  0.0000e+00,  0.0000e+00,  0.0000e+00,\n",
            "         0.0000e+00,  0.0000e+00,  0.0000e+00,  0.0000e+00,  0.0000e+00,\n",
            "         0.0000e+00,  2.2397e-05,  5.4148e-05,  5.1621e-05,  1.9960e-05,\n",
            "         5.9282e-06,  8.5171e-06,  7.7488e-05,  1.2067e-04,  1.2174e-04,\n",
            "         9.3424e-05,  1.0340e-04,  1.1894e-04,  8.4226e-05,  1.6707e-04,\n",
            "         7.1138e-05,  0.0000e+00,  0.0000e+00,  0.0000e+00,  0.0000e+00,\n",
            "         0.0000e+00,  0.0000e+00,  0.0000e+00,  0.0000e+00])\n",
            "Epoch 2 - Gradientes da classe 4:\n",
            "tensor([ 0.0000e+00,  0.0000e+00,  0.0000e+00,  0.0000e+00,  0.0000e+00,\n",
            "         0.0000e+00,  0.0000e+00,  0.0000e+00,  0.0000e+00,  0.0000e+00,\n",
            "         0.0000e+00,  0.0000e+00,  0.0000e+00,  0.0000e+00,  0.0000e+00,\n",
            "         0.0000e+00,  0.0000e+00,  0.0000e+00,  0.0000e+00,  0.0000e+00,\n",
            "         0.0000e+00,  0.0000e+00,  0.0000e+00,  0.0000e+00,  0.0000e+00,\n",
            "         0.0000e+00,  0.0000e+00,  0.0000e+00,  0.0000e+00,  0.0000e+00,\n",
            "         0.0000e+00,  0.0000e+00,  0.0000e+00,  0.0000e+00,  0.0000e+00,\n",
            "         0.0000e+00,  0.0000e+00,  0.0000e+00,  1.9160e-05,  1.1879e-04,\n",
            "         0.0000e+00,  3.4357e-05,  1.4706e-04,  2.0059e-04,  1.3419e-04,\n",
            "         1.5839e-04,  7.5458e-05,  0.0000e+00,  0.0000e+00,  0.0000e+00,\n",
            "         0.0000e+00,  0.0000e+00,  0.0000e+00,  0.0000e+00,  0.0000e+00,\n",
            "         0.0000e+00,  0.0000e+00,  0.0000e+00,  0.0000e+00,  0.0000e+00,\n",
            "         0.0000e+00,  0.0000e+00,  0.0000e+00,  0.0000e+00,  0.0000e+00,\n",
            "         0.0000e+00,  2.1252e-04,  5.5546e-04,  3.5245e-04,  3.0141e-04,\n",
            "         6.1048e-04,  2.8301e-04, -3.2782e-05,  4.4926e-04,  3.6306e-04,\n",
            "         2.1423e-04,  8.5655e-05,  1.0889e-04,  5.1974e-05,  1.6499e-06,\n",
            "         0.0000e+00,  0.0000e+00,  0.0000e+00,  0.0000e+00,  0.0000e+00,\n",
            "         0.0000e+00,  0.0000e+00,  0.0000e+00,  0.0000e+00,  0.0000e+00,\n",
            "         5.0153e-06,  5.4098e-05,  3.3557e-05,  5.8849e-05,  5.7023e-04,\n",
            "         7.9938e-04,  8.6114e-04,  1.2558e-03,  1.0791e-03,  6.4804e-04,\n",
            "         5.0048e-04,  1.0133e-03,  9.6434e-04,  8.2504e-04,  5.8336e-04,\n",
            "         2.8509e-04,  7.2316e-06,  1.3271e-06,  0.0000e+00,  0.0000e+00,\n",
            "         0.0000e+00,  0.0000e+00,  0.0000e+00,  0.0000e+00,  0.0000e+00,\n",
            "         0.0000e+00, -4.5745e-05, -5.3221e-05,  1.2911e-04,  2.7117e-04,\n",
            "         2.1006e-04, -5.7474e-04, -2.9660e-04,  8.1396e-04,  1.7815e-03,\n",
            "         1.7631e-03,  1.3002e-03,  1.4979e-03,  1.8526e-03,  2.3143e-03,\n",
            "         1.9061e-03,  1.1711e-03,  6.0795e-05, -1.6329e-06, -2.7729e-04,\n",
            "        -1.8144e-04,  1.0294e-05,  0.0000e+00,  0.0000e+00,  0.0000e+00,\n",
            "         0.0000e+00,  0.0000e+00,  0.0000e+00, -8.8349e-06, -2.3887e-04,\n",
            "        -1.7631e-04,  2.6799e-04,  4.2889e-04, -4.8244e-05, -1.3210e-03,\n",
            "        -1.4650e-03, -3.9856e-04,  9.1568e-04,  1.1497e-03,  9.3515e-04,\n",
            "         2.0966e-03,  2.1046e-03,  1.6900e-03,  1.3555e-03,  7.5426e-04,\n",
            "        -5.4065e-05, -1.4741e-03, -2.1006e-03, -2.4303e-03, -1.5548e-03,\n",
            "        -6.6163e-04,  1.4584e-05,  0.0000e+00,  0.0000e+00,  0.0000e+00,\n",
            "         0.0000e+00, -1.8503e-04, -4.4586e-04, -5.0293e-04,  2.9477e-04,\n",
            "         5.6395e-04, -4.9518e-04, -1.6192e-03, -1.5229e-03, -7.3986e-04,\n",
            "         1.4529e-03,  2.0387e-03,  4.5577e-03,  6.5746e-03,  6.8599e-03,\n",
            "         4.0554e-03,  2.4003e-03,  8.7710e-04, -6.9586e-04, -3.1568e-03,\n",
            "        -4.0337e-03, -3.2559e-03, -1.4877e-03, -6.0385e-04, -1.2338e-04,\n",
            "         6.8537e-05,  0.0000e+00,  0.0000e+00,  7.3521e-06, -9.1500e-05,\n",
            "        -4.7536e-04, -7.7284e-04,  2.2186e-04,  3.2611e-04, -7.4809e-04,\n",
            "        -7.9759e-04,  9.5463e-06,  8.9734e-04,  3.0455e-03,  5.8370e-03,\n",
            "         8.3931e-03,  1.0918e-02,  9.2922e-03,  5.5636e-03,  2.3790e-03,\n",
            "         1.3483e-03, -8.2146e-04, -2.0940e-03, -3.3938e-03, -2.7064e-03,\n",
            "        -1.0016e-03, -2.5095e-04, -4.2017e-05,  3.9578e-05,  0.0000e+00,\n",
            "         0.0000e+00,  6.3813e-06, -1.0472e-04, -6.0403e-04, -4.8577e-04,\n",
            "        -3.9894e-04, -2.8939e-04,  1.8192e-04,  2.1765e-04,  1.0025e-03,\n",
            "         2.2285e-03,  4.1954e-03,  5.9495e-03,  7.8917e-03,  9.8099e-03,\n",
            "         6.7626e-03,  3.8644e-03,  4.2110e-03,  1.6807e-03,  6.4671e-04,\n",
            "        -4.9834e-04, -2.2008e-03, -1.5643e-03,  1.1612e-03,  6.5500e-04,\n",
            "         1.4250e-04,  0.0000e+00,  0.0000e+00,  3.3857e-05,  7.2336e-05,\n",
            "        -1.4549e-05, -2.7207e-04, -3.9780e-04, -2.4443e-04,  4.0377e-04,\n",
            "         1.4747e-03,  1.4439e-03,  2.3562e-03,  2.1469e-03,  2.2827e-03,\n",
            "         2.9584e-03,  6.6828e-03,  7.6818e-03,  2.4736e-03,  1.9556e-03,\n",
            "         2.7165e-03,  1.8207e-03,  6.1323e-04, -4.2813e-04, -1.7500e-03,\n",
            "         2.2791e-04,  1.2085e-03,  3.5219e-04,  8.2080e-05,  0.0000e+00,\n",
            "         0.0000e+00,  3.9066e-06,  4.0875e-04,  4.7955e-04,  4.1844e-04,\n",
            "        -3.1591e-04, -7.4858e-05,  5.3883e-04,  8.1457e-04,  5.1537e-04,\n",
            "         3.8065e-04, -8.0644e-04, -1.3453e-03,  1.3465e-03,  4.5124e-03,\n",
            "         5.1345e-03,  5.2439e-04, -2.0529e-04,  1.1592e-03,  3.6934e-04,\n",
            "         6.2186e-06, -5.9233e-04, -1.5497e-03,  5.5457e-04,  3.5315e-04,\n",
            "         6.2175e-05,  1.4202e-06,  0.0000e+00,  0.0000e+00,  0.0000e+00,\n",
            "         3.0605e-04,  5.0448e-04,  1.2133e-04, -8.4939e-04,  2.3040e-04,\n",
            "         2.7075e-04,  3.4349e-04, -1.7025e-03, -3.4310e-03, -4.6157e-03,\n",
            "        -1.8395e-03,  1.6106e-03,  4.1927e-03,  3.0617e-03, -2.1791e-03,\n",
            "        -2.7932e-03, -1.6676e-04, -8.9339e-04,  2.1301e-04, -5.0827e-04,\n",
            "        -9.7280e-04,  6.2302e-04,  2.7447e-04,  6.3813e-06,  9.5916e-06,\n",
            "         0.0000e+00,  0.0000e+00,  0.0000e+00,  5.5128e-05,  1.7089e-04,\n",
            "        -8.0083e-04, -1.2892e-03, -1.0178e-04, -1.0052e-03, -1.2786e-03,\n",
            "        -4.7782e-03, -8.7829e-03, -7.5726e-03, -3.1660e-03,  5.8498e-04,\n",
            "         2.8570e-03,  7.1141e-04, -4.5283e-03, -3.5604e-03, -8.7771e-04,\n",
            "        -3.8928e-04,  1.4255e-03, -2.7795e-04,  2.0039e-04,  1.2475e-03,\n",
            "         5.3688e-04,  1.3264e-04,  7.6468e-06,  0.0000e+00,  0.0000e+00,\n",
            "         0.0000e+00,  1.4017e-05, -1.3034e-04, -1.1526e-03, -1.1091e-03,\n",
            "        -1.5482e-03, -3.0348e-03, -3.8366e-03, -6.9391e-03, -9.5977e-03,\n",
            "        -6.6751e-03, -2.0503e-03,  1.9884e-03,  2.8802e-03,  4.5023e-04,\n",
            "        -4.1468e-03, -5.7233e-03, -2.5693e-03, -3.2385e-04, -8.2840e-04,\n",
            "        -1.3132e-03, -5.2711e-04,  9.2299e-04,  5.0831e-04,  2.8248e-04,\n",
            "         8.8402e-07,  0.0000e+00,  0.0000e+00,  0.0000e+00,  0.0000e+00,\n",
            "        -8.9781e-05, -1.3421e-03, -1.8005e-03, -3.8437e-03, -5.9522e-03,\n",
            "        -5.6425e-03, -4.6499e-03, -4.5951e-03, -3.8286e-03, -9.9330e-04,\n",
            "         1.2538e-03,  7.3519e-04, -1.1377e-03, -5.2810e-03, -8.1626e-03,\n",
            "        -2.8977e-03, -2.3016e-03, -2.2370e-03, -1.8637e-03, -6.9374e-04,\n",
            "         4.9372e-04,  5.3209e-04,  2.3781e-04,  7.3160e-06,  0.0000e+00,\n",
            "         0.0000e+00,  0.0000e+00,  0.0000e+00, -1.7584e-04, -1.2121e-03,\n",
            "        -1.6195e-03, -3.4154e-03, -6.9164e-03, -8.2285e-03, -5.9654e-03,\n",
            "        -4.5977e-03, -3.6530e-03, -3.1559e-03, -3.1822e-03, -2.1827e-03,\n",
            "        -3.9801e-03, -6.4236e-03, -4.9522e-03, -3.2372e-03, -3.6626e-03,\n",
            "        -1.9155e-03, -9.2742e-04, -6.4604e-04,  3.5969e-04,  5.4823e-04,\n",
            "         3.7546e-04,  1.4108e-04,  0.0000e+00,  0.0000e+00,  0.0000e+00,\n",
            "         1.8929e-05,  3.4618e-05, -5.9202e-04, -1.3295e-03, -2.1267e-03,\n",
            "        -6.7883e-03, -7.3006e-03, -5.3769e-03, -4.0793e-03, -2.6812e-03,\n",
            "        -1.9014e-03, -1.6290e-03, -2.3139e-03, -4.3658e-03, -5.2527e-03,\n",
            "        -3.1131e-03, -3.7596e-03, -1.8975e-03,  1.4483e-04,  4.6912e-04,\n",
            "        -9.8950e-04, -2.9571e-04,  3.8028e-04,  1.7389e-04,  6.2468e-05,\n",
            "         0.0000e+00,  0.0000e+00,  0.0000e+00,  1.7889e-05,  1.2844e-04,\n",
            "         3.7230e-04,  1.6934e-04, -1.0170e-03, -3.4457e-03, -3.2926e-03,\n",
            "        -1.6062e-03,  5.8099e-05,  1.1778e-05, -2.4093e-03, -3.4309e-03,\n",
            "        -3.9089e-03, -4.8513e-03, -4.3054e-03, -1.4534e-03, -8.4382e-04,\n",
            "         1.1146e-03,  1.4813e-03,  1.1048e-03,  4.0340e-04, -3.4809e-06,\n",
            "         3.2271e-04,  1.2250e-04,  0.0000e+00,  0.0000e+00,  0.0000e+00,\n",
            "         0.0000e+00,  1.4268e-04,  2.3314e-04,  9.0590e-04,  1.9103e-03,\n",
            "         2.1102e-03,  1.3765e-03, -3.4461e-04,  9.2391e-05,  1.6892e-03,\n",
            "         1.0681e-03, -2.3043e-04, -1.6796e-03, -2.7028e-03, -2.8619e-03,\n",
            "        -1.0973e-03,  7.8538e-04,  1.8798e-03,  1.8912e-03,  1.0643e-03,\n",
            "         4.1442e-04,  5.5382e-04,  5.4095e-04,  3.6016e-04,  5.4704e-05,\n",
            "         0.0000e+00,  0.0000e+00,  0.0000e+00,  0.0000e+00,  2.0035e-04,\n",
            "         2.8504e-04,  1.0513e-03,  2.2580e-03,  3.5474e-03,  3.9271e-03,\n",
            "         4.3693e-03,  4.3852e-03,  3.7591e-03,  3.5426e-03,  2.5840e-03,\n",
            "         1.9213e-03,  3.8982e-05, -1.2966e-03, -4.4450e-04,  1.1823e-03,\n",
            "         1.1779e-03,  2.1821e-03,  9.5003e-04,  4.0775e-04,  5.3058e-04,\n",
            "         2.5959e-04,  4.6221e-05,  1.3163e-06,  0.0000e+00,  0.0000e+00,\n",
            "         0.0000e+00,  0.0000e+00,  6.5496e-05,  2.7061e-04,  9.5578e-04,\n",
            "         1.8450e-03,  3.0639e-03,  4.0360e-03,  4.6786e-03,  5.0481e-03,\n",
            "         6.1650e-03,  5.5871e-03,  5.7179e-03,  3.8334e-03, -2.2534e-04,\n",
            "         2.3318e-04,  1.1012e-03,  1.3657e-03,  1.1083e-03,  1.7822e-03,\n",
            "         6.5165e-04, -2.5943e-04,  1.6686e-04,  2.2437e-04,  8.3123e-05,\n",
            "         8.7222e-06,  6.3649e-06,  0.0000e+00,  0.0000e+00,  0.0000e+00,\n",
            "         4.8655e-05,  1.6777e-04,  7.8219e-04,  1.5419e-03,  2.3236e-03,\n",
            "         3.5758e-03,  3.8204e-03,  4.3612e-03,  4.1321e-03,  3.6381e-03,\n",
            "         4.4349e-03,  1.9364e-03, -1.5531e-03,  2.6839e-04,  9.8656e-04,\n",
            "         1.0924e-03, -3.2570e-04,  9.4267e-04,  2.5561e-04, -6.7504e-04,\n",
            "         1.8996e-04,  1.3424e-04,  2.3584e-05,  5.5826e-06,  1.2476e-05,\n",
            "         0.0000e+00,  0.0000e+00,  0.0000e+00,  1.0321e-06,  4.9142e-05,\n",
            "         3.2090e-04,  8.8901e-04,  1.6512e-03,  1.7890e-03,  2.1989e-03,\n",
            "         3.0814e-03,  1.9940e-03,  2.0166e-03,  2.8751e-03, -6.0296e-04,\n",
            "        -1.7287e-03, -8.1426e-04,  2.5527e-04,  1.6489e-04, -1.0195e-03,\n",
            "         1.0782e-04, -3.4150e-04, -5.9601e-04, -3.3636e-06,  1.3903e-04,\n",
            "         2.4581e-05,  2.7405e-06,  6.2765e-06,  0.0000e+00,  0.0000e+00,\n",
            "         0.0000e+00,  6.4237e-08,  6.2411e-05,  2.8296e-04,  5.6948e-04,\n",
            "         8.0203e-04,  8.4100e-04,  1.6550e-03,  1.0792e-03,  7.4913e-04,\n",
            "         1.5024e-03,  9.5443e-04, -1.8719e-03, -2.2377e-03, -1.0527e-03,\n",
            "         7.4264e-04, -6.8546e-04, -8.3257e-04, -1.0344e-03, -1.0472e-03,\n",
            "        -8.1987e-05,  5.2566e-05,  9.5339e-05,  7.0484e-05,  0.0000e+00,\n",
            "         0.0000e+00,  0.0000e+00,  0.0000e+00,  0.0000e+00,  0.0000e+00,\n",
            "         7.9277e-05,  3.0006e-04,  4.8170e-04,  2.0580e-05,  7.1313e-04,\n",
            "         1.7623e-03,  5.5424e-05,  1.5423e-03,  1.5292e-03,  1.7278e-03,\n",
            "        -6.2610e-04,  1.0841e-04,  2.8448e-03,  1.1151e-03, -3.2360e-04,\n",
            "        -6.6968e-04, -3.1253e-04,  1.8559e-04,  2.5144e-04,  6.5575e-05,\n",
            "         9.3553e-05,  6.9677e-05,  0.0000e+00,  0.0000e+00,  0.0000e+00,\n",
            "         0.0000e+00,  0.0000e+00,  0.0000e+00,  3.9442e-06,  1.2142e-04,\n",
            "         3.1924e-04,  6.3508e-04,  1.1463e-03,  1.0193e-03,  3.5000e-04,\n",
            "         2.8061e-03,  3.0981e-03,  2.7623e-03,  2.1799e-03,  2.1296e-03,\n",
            "         2.5516e-03,  2.4550e-03,  1.5335e-03,  1.3115e-03,  5.6154e-04,\n",
            "         3.7685e-04,  1.0529e-04,  1.1434e-04,  1.4536e-04,  3.1835e-05,\n",
            "         0.0000e+00,  0.0000e+00,  0.0000e+00,  0.0000e+00,  0.0000e+00,\n",
            "         0.0000e+00,  6.3573e-06,  6.6089e-05,  1.2440e-04,  2.5652e-04,\n",
            "         2.7086e-04, -2.4694e-04,  1.4686e-04,  5.8170e-04,  3.8656e-04,\n",
            "         4.9255e-04,  5.0704e-04,  1.0052e-03,  1.0505e-03,  1.0125e-03,\n",
            "         9.6991e-04,  7.0329e-04,  4.7957e-04,  8.0798e-05,  2.1202e-05,\n",
            "         0.0000e+00,  0.0000e+00,  0.0000e+00,  0.0000e+00,  0.0000e+00,\n",
            "         0.0000e+00,  0.0000e+00,  0.0000e+00,  0.0000e+00,  0.0000e+00,\n",
            "         0.0000e+00,  2.0680e-05,  5.0322e-05,  4.7882e-05,  1.7987e-05,\n",
            "         5.2185e-06,  7.8335e-06,  7.3897e-05,  1.1426e-04,  1.1466e-04,\n",
            "         8.7524e-05,  9.6245e-05,  1.1056e-04,  7.9081e-05,  1.6450e-04,\n",
            "         7.0557e-05,  0.0000e+00,  0.0000e+00,  0.0000e+00,  0.0000e+00,\n",
            "         0.0000e+00,  0.0000e+00,  0.0000e+00,  0.0000e+00])\n",
            "Epoch 3 - Gradientes da classe 4:\n",
            "tensor([ 0.0000e+00,  0.0000e+00,  0.0000e+00,  0.0000e+00,  0.0000e+00,\n",
            "         0.0000e+00,  0.0000e+00,  0.0000e+00,  0.0000e+00,  0.0000e+00,\n",
            "         0.0000e+00,  0.0000e+00,  0.0000e+00,  0.0000e+00,  0.0000e+00,\n",
            "         0.0000e+00,  0.0000e+00,  0.0000e+00,  0.0000e+00,  0.0000e+00,\n",
            "         0.0000e+00,  0.0000e+00,  0.0000e+00,  0.0000e+00,  0.0000e+00,\n",
            "         0.0000e+00,  0.0000e+00,  0.0000e+00,  0.0000e+00,  0.0000e+00,\n",
            "         0.0000e+00,  0.0000e+00,  0.0000e+00,  0.0000e+00,  0.0000e+00,\n",
            "         0.0000e+00,  0.0000e+00,  0.0000e+00,  1.9182e-05,  1.1893e-04,\n",
            "         0.0000e+00,  3.2880e-05,  1.4288e-04,  1.9568e-04,  1.2835e-04,\n",
            "         1.5237e-04,  7.2648e-05,  0.0000e+00,  0.0000e+00,  0.0000e+00,\n",
            "         0.0000e+00,  0.0000e+00,  0.0000e+00,  0.0000e+00,  0.0000e+00,\n",
            "         0.0000e+00,  0.0000e+00,  0.0000e+00,  0.0000e+00,  0.0000e+00,\n",
            "         0.0000e+00,  0.0000e+00,  0.0000e+00,  0.0000e+00,  0.0000e+00,\n",
            "         0.0000e+00,  2.1148e-04,  5.4896e-04,  3.4485e-04,  2.9382e-04,\n",
            "         5.9710e-04,  2.6543e-04, -6.0602e-05,  4.2252e-04,  3.4347e-04,\n",
            "         2.0113e-04,  8.0744e-05,  1.0438e-04,  4.9850e-05,  1.4898e-06,\n",
            "         0.0000e+00,  0.0000e+00,  0.0000e+00,  0.0000e+00,  0.0000e+00,\n",
            "         0.0000e+00,  0.0000e+00,  0.0000e+00,  0.0000e+00,  0.0000e+00,\n",
            "         4.6641e-06,  5.3344e-05,  3.1287e-05,  5.5408e-05,  5.6458e-04,\n",
            "         7.8476e-04,  8.3688e-04,  1.2232e-03,  1.0330e-03,  5.8228e-04,\n",
            "         4.2800e-04,  9.4361e-04,  9.1159e-04,  7.8627e-04,  5.6445e-04,\n",
            "         2.7853e-04,  9.3787e-06,  1.1984e-06,  0.0000e+00,  0.0000e+00,\n",
            "         0.0000e+00,  0.0000e+00,  0.0000e+00,  0.0000e+00,  0.0000e+00,\n",
            "         0.0000e+00, -4.4346e-05, -5.2282e-05,  1.2503e-04,  2.6726e-04,\n",
            "         2.0420e-04, -5.7379e-04, -2.9948e-04,  7.7845e-04,  1.7263e-03,\n",
            "         1.6835e-03,  1.1901e-03,  1.3595e-03,  1.7079e-03,  2.1989e-03,\n",
            "         1.8494e-03,  1.1390e-03,  7.3008e-05,  1.4060e-05, -2.5596e-04,\n",
            "        -1.6946e-04,  9.6302e-06,  0.0000e+00,  0.0000e+00,  0.0000e+00,\n",
            "         0.0000e+00,  0.0000e+00,  0.0000e+00, -8.3980e-06, -2.3143e-04,\n",
            "        -1.7313e-04,  2.6583e-04,  4.2441e-04, -4.7160e-05, -1.2992e-03,\n",
            "        -1.4481e-03, -3.9449e-04,  8.7813e-04,  1.0530e-03,  7.6717e-04,\n",
            "         1.8816e-03,  1.8835e-03,  1.5084e-03,  1.2746e-03,  7.4978e-04,\n",
            "        -4.9252e-06, -1.3949e-03, -2.0180e-03, -2.3524e-03, -1.4996e-03,\n",
            "        -6.4159e-04,  1.4025e-05,  0.0000e+00,  0.0000e+00,  0.0000e+00,\n",
            "         0.0000e+00, -1.7730e-04, -4.2767e-04, -4.8788e-04,  2.9234e-04,\n",
            "         5.5933e-04, -4.8656e-04, -1.5853e-03, -1.4800e-03, -7.0762e-04,\n",
            "         1.3975e-03,  1.8857e-03,  4.2594e-03,  6.2069e-03,  6.5122e-03,\n",
            "         3.7836e-03,  2.2693e-03,  8.9314e-04, -6.0895e-04, -3.0304e-03,\n",
            "        -3.9062e-03, -3.1463e-03, -1.4090e-03, -5.7976e-04, -1.1884e-04,\n",
            "         6.6168e-05,  0.0000e+00,  0.0000e+00,  6.6333e-06, -8.5979e-05,\n",
            "        -4.5569e-04, -7.4470e-04,  2.1868e-04,  3.1908e-04, -7.4963e-04,\n",
            "        -7.7077e-04,  3.2986e-05,  8.6416e-04,  2.8610e-03,  5.5226e-03,\n",
            "         7.9507e-03,  1.0426e-02,  8.8530e-03,  5.2357e-03,  2.2409e-03,\n",
            "         1.3876e-03, -7.0651e-04, -1.9943e-03, -3.2668e-03, -2.5898e-03,\n",
            "        -9.3110e-04, -2.2266e-04, -4.0799e-05,  3.8065e-05,  0.0000e+00,\n",
            "         0.0000e+00,  5.7723e-06, -1.0133e-04, -5.8341e-04, -4.6736e-04,\n",
            "        -4.0006e-04, -3.0692e-04,  1.5543e-04,  2.1778e-04,  9.7921e-04,\n",
            "         2.0907e-03,  3.9508e-03,  5.5951e-03,  7.4596e-03,  9.3623e-03,\n",
            "         6.3984e-03,  3.6113e-03,  4.1200e-03,  1.7612e-03,  7.7357e-04,\n",
            "        -3.8683e-04, -2.0767e-03, -1.4590e-03,  1.1693e-03,  6.6128e-04,\n",
            "         1.3889e-04,  0.0000e+00,  0.0000e+00,  3.3609e-05,  7.2725e-05,\n",
            "        -8.6162e-06, -2.5973e-04, -3.8946e-04, -2.5008e-04,  3.7442e-04,\n",
            "         1.4501e-03,  1.4299e-03,  2.2698e-03,  2.0162e-03,  2.1505e-03,\n",
            "         2.7563e-03,  6.3864e-03,  7.3832e-03,  2.2603e-03,  1.8203e-03,\n",
            "         2.7042e-03,  1.9150e-03,  7.7494e-04, -2.9432e-04, -1.6461e-03,\n",
            "         2.6929e-04,  1.2142e-03,  3.5370e-04,  8.1096e-05,  0.0000e+00,\n",
            "         0.0000e+00,  3.8780e-06,  4.1377e-04,  4.8453e-04,  4.2339e-04,\n",
            "        -3.0927e-04, -7.1548e-05,  5.4421e-04,  8.4490e-04,  5.1223e-04,\n",
            "         4.0376e-04, -7.7144e-04, -1.3304e-03,  1.2765e-03,  4.3687e-03,\n",
            "         4.9666e-03,  4.2621e-04, -2.0991e-04,  1.2443e-03,  5.3924e-04,\n",
            "         1.7484e-04, -5.0666e-04, -1.5044e-03,  5.6930e-04,  3.6776e-04,\n",
            "         6.4203e-05,  1.2726e-06,  0.0000e+00,  0.0000e+00,  0.0000e+00,\n",
            "         3.0836e-04,  5.0945e-04,  1.3089e-04, -8.3121e-04,  2.6061e-04,\n",
            "         3.4762e-04,  4.0359e-04, -1.6403e-03, -3.2398e-03, -4.4476e-03,\n",
            "        -1.7980e-03,  1.5299e-03,  4.0605e-03,  2.9534e-03, -2.1798e-03,\n",
            "        -2.6781e-03, -1.9606e-05, -7.3426e-04,  3.2269e-04, -4.7098e-04,\n",
            "        -9.3999e-04,  6.4466e-04,  2.8132e-04,  6.0152e-06,  8.8480e-06,\n",
            "         0.0000e+00,  0.0000e+00,  0.0000e+00,  5.2829e-05,  1.7636e-04,\n",
            "        -7.8535e-04, -1.2563e-03, -2.9418e-05, -8.8059e-04, -1.1560e-03,\n",
            "        -4.5651e-03, -8.5063e-03, -7.3921e-03, -3.1662e-03,  4.8070e-04,\n",
            "         2.7353e-03,  6.2269e-04, -4.4987e-03, -3.4245e-03, -7.0108e-04,\n",
            "        -2.7276e-04,  1.4528e-03, -2.6851e-04,  2.1674e-04,  1.2559e-03,\n",
            "         5.3646e-04,  1.3305e-04,  7.0540e-06,  0.0000e+00,  0.0000e+00,\n",
            "         0.0000e+00,  1.3372e-05, -1.2448e-04, -1.1191e-03, -1.0356e-03,\n",
            "        -1.4164e-03, -2.8313e-03, -3.5701e-03, -6.6155e-03, -9.3095e-03,\n",
            "        -6.5601e-03, -2.1043e-03,  1.8593e-03,  2.7261e-03,  3.2708e-04,\n",
            "        -4.0911e-03, -5.5430e-03, -2.4330e-03, -2.7348e-04, -7.9841e-04,\n",
            "        -1.2788e-03, -5.0160e-04,  9.2461e-04,  5.0521e-04,  2.8363e-04,\n",
            "         8.1549e-07,  0.0000e+00,  0.0000e+00,  0.0000e+00,  0.0000e+00,\n",
            "        -8.4399e-05, -1.2908e-03, -1.6912e-03, -3.6369e-03, -5.6248e-03,\n",
            "        -5.2456e-03, -4.2722e-03, -4.2899e-03, -3.6897e-03, -9.8085e-04,\n",
            "         1.1622e-03,  6.2692e-04, -1.1566e-03, -5.1307e-03, -7.9175e-03,\n",
            "        -2.7495e-03, -2.1971e-03, -2.1469e-03, -1.8168e-03, -6.7343e-04,\n",
            "         5.0126e-04,  5.2609e-04,  2.3739e-04,  7.3256e-06,  0.0000e+00,\n",
            "         0.0000e+00,  0.0000e+00,  0.0000e+00, -1.7026e-04, -1.1688e-03,\n",
            "        -1.5014e-03, -3.1568e-03, -6.5136e-03, -7.7902e-03, -5.5809e-03,\n",
            "        -4.2578e-03, -3.3933e-03, -2.9615e-03, -3.0538e-03, -2.0827e-03,\n",
            "        -3.8206e-03, -6.1588e-03, -4.7234e-03, -3.0523e-03, -3.5199e-03,\n",
            "        -1.8359e-03, -9.1104e-04, -6.2549e-04,  3.7282e-04,  5.3809e-04,\n",
            "         3.7047e-04,  1.4099e-04,  0.0000e+00,  0.0000e+00,  0.0000e+00,\n",
            "         1.9273e-05,  3.2677e-05, -5.6475e-04, -1.2205e-03, -1.9087e-03,\n",
            "        -6.4442e-03, -6.9136e-03, -5.0203e-03, -3.7542e-03, -2.3985e-03,\n",
            "        -1.6480e-03, -1.3951e-03, -2.0984e-03, -4.1246e-03, -4.9838e-03,\n",
            "        -2.8897e-03, -3.5400e-03, -1.8058e-03,  1.6885e-04,  4.6426e-04,\n",
            "        -9.7475e-04, -3.0261e-04,  3.6677e-04,  1.7175e-04,  6.2549e-05,\n",
            "         0.0000e+00,  0.0000e+00,  0.0000e+00,  1.7221e-05,  1.2256e-04,\n",
            "         3.6946e-04,  2.0877e-04, -9.0806e-04, -3.2608e-03, -3.1153e-03,\n",
            "        -1.4780e-03,  1.6580e-04,  1.3235e-04, -2.2475e-03, -3.2643e-03,\n",
            "        -3.7334e-03, -4.6269e-03, -4.1201e-03, -1.3380e-03, -7.5498e-04,\n",
            "         1.1373e-03,  1.4776e-03,  1.0762e-03,  3.7355e-04, -2.8013e-05,\n",
            "         3.0874e-04,  1.2017e-04,  0.0000e+00,  0.0000e+00,  0.0000e+00,\n",
            "         0.0000e+00,  1.4285e-04,  2.2457e-04,  8.8072e-04,  1.8685e-03,\n",
            "         2.0734e-03,  1.3581e-03, -3.5820e-04,  5.2996e-05,  1.6081e-03,\n",
            "         1.0047e-03, -2.6154e-04, -1.6598e-03, -2.6507e-03, -2.7740e-03,\n",
            "        -1.0890e-03,  7.5095e-04,  1.8264e-03,  1.8488e-03,  1.0214e-03,\n",
            "         3.7839e-04,  5.2567e-04,  5.1896e-04,  3.5050e-04,  5.3410e-05,\n",
            "         0.0000e+00,  0.0000e+00,  0.0000e+00,  0.0000e+00,  2.0263e-04,\n",
            "         2.7259e-04,  1.0110e-03,  2.1792e-03,  3.4226e-03,  3.7749e-03,\n",
            "         4.1980e-03,  4.1948e-03,  3.5675e-03,  3.3686e-03,  2.4619e-03,\n",
            "         1.8396e-03,  4.1869e-05, -1.3046e-03, -4.9798e-04,  1.0735e-03,\n",
            "         1.1030e-03,  2.1253e-03,  9.3822e-04,  3.8759e-04,  5.1054e-04,\n",
            "         2.4541e-04,  4.2776e-05,  1.1426e-06,  0.0000e+00,  0.0000e+00,\n",
            "         0.0000e+00,  0.0000e+00,  6.3032e-05,  2.5529e-04,  9.0568e-04,\n",
            "         1.7497e-03,  2.9159e-03,  3.8565e-03,  4.4618e-03,  4.8071e-03,\n",
            "         5.9094e-03,  5.3653e-03,  5.5329e-03,  3.7088e-03, -2.6773e-04,\n",
            "         1.8511e-04,  1.0099e-03,  1.2591e-03,  1.0510e-03,  1.7597e-03,\n",
            "         6.5159e-04, -2.5963e-04,  1.5732e-04,  2.1120e-04,  7.8135e-05,\n",
            "         8.2213e-06,  5.8715e-06,  0.0000e+00,  0.0000e+00,  0.0000e+00,\n",
            "         4.6699e-05,  1.5732e-04,  7.3877e-04,  1.4578e-03,  2.2007e-03,\n",
            "         3.4062e-03,  3.6217e-03,  4.1271e-03,  3.9045e-03,  3.4496e-03,\n",
            "         4.2864e-03,  1.8550e-03, -1.5627e-03,  2.4322e-04,  8.7883e-04,\n",
            "         1.0081e-03, -3.4244e-04,  9.3934e-04,  2.6222e-04, -6.6661e-04,\n",
            "         1.7915e-04,  1.2549e-04,  2.1496e-05,  5.1184e-06,  1.1492e-05,\n",
            "         0.0000e+00,  0.0000e+00,  0.0000e+00,  9.2405e-07,  4.5153e-05,\n",
            "         2.9903e-04,  8.3655e-04,  1.5647e-03,  1.6764e-03,  2.0580e-03,\n",
            "         2.8981e-03,  1.8518e-03,  1.9119e-03,  2.8068e-03, -5.9989e-04,\n",
            "        -1.6707e-03, -8.1367e-04,  1.6957e-04,  1.1084e-04, -1.0193e-03,\n",
            "         1.3465e-04, -3.0922e-04, -5.8501e-04, -5.0465e-06,  1.3282e-04,\n",
            "         2.3314e-05,  2.5280e-06,  5.7900e-06,  0.0000e+00,  0.0000e+00,\n",
            "         0.0000e+00,  5.6521e-08,  5.9553e-05,  2.6967e-04,  5.4080e-04,\n",
            "         7.5866e-04,  7.7856e-04,  1.5485e-03,  9.7901e-04,  6.6563e-04,\n",
            "         1.4427e-03,  9.2107e-04, -1.8352e-03, -2.1826e-03, -1.0479e-03,\n",
            "         6.6900e-04, -7.0647e-04, -8.0744e-04, -9.7618e-04, -1.0015e-03,\n",
            "        -7.2469e-05,  5.1978e-05,  9.3515e-05,  6.7855e-05,  0.0000e+00,\n",
            "         0.0000e+00,  0.0000e+00,  0.0000e+00,  0.0000e+00,  0.0000e+00,\n",
            "         7.6035e-05,  2.9031e-04,  4.6264e-04,  8.6768e-06,  6.7494e-04,\n",
            "         1.6991e-03,  5.2479e-06,  1.4735e-03,  1.4671e-03,  1.6705e-03,\n",
            "        -6.5085e-04,  8.5503e-05,  2.7530e-03,  1.0416e-03, -3.3009e-04,\n",
            "        -6.3968e-04, -2.7509e-04,  2.0557e-04,  2.5275e-04,  6.5929e-05,\n",
            "         9.2063e-05,  6.7119e-05,  0.0000e+00,  0.0000e+00,  0.0000e+00,\n",
            "         0.0000e+00,  0.0000e+00,  0.0000e+00,  3.7136e-06,  1.1822e-04,\n",
            "         3.0959e-04,  6.1703e-04,  1.1212e-03,  9.8866e-04,  3.1137e-04,\n",
            "         2.7224e-03,  3.0022e-03,  2.6701e-03,  2.1132e-03,  2.0799e-03,\n",
            "         2.4774e-03,  2.3791e-03,  1.4925e-03,  1.2923e-03,  5.6427e-04,\n",
            "         3.7372e-04,  1.0373e-04,  1.1010e-04,  1.4002e-04,  3.0666e-05,\n",
            "         0.0000e+00,  0.0000e+00,  0.0000e+00,  0.0000e+00,  0.0000e+00,\n",
            "         0.0000e+00,  6.1749e-06,  6.3583e-05,  1.1916e-04,  2.4306e-04,\n",
            "         2.5283e-04, -2.6937e-04,  1.1370e-04,  5.4390e-04,  3.6196e-04,\n",
            "         4.6829e-04,  4.8159e-04,  9.7920e-04,  1.0208e-03,  9.7759e-04,\n",
            "         9.4138e-04,  6.9463e-04,  4.7644e-04,  7.7722e-05,  2.0395e-05,\n",
            "         0.0000e+00,  0.0000e+00,  0.0000e+00,  0.0000e+00,  0.0000e+00,\n",
            "         0.0000e+00,  0.0000e+00,  0.0000e+00,  0.0000e+00,  0.0000e+00,\n",
            "         0.0000e+00,  1.9150e-05,  4.6889e-05,  4.4551e-05,  1.6297e-05,\n",
            "         4.6219e-06,  7.2384e-06,  7.0531e-05,  1.0837e-04,  1.0823e-04,\n",
            "         8.2199e-05,  8.9791e-05,  1.0302e-04,  7.4410e-05,  1.6202e-04,\n",
            "         6.9965e-05,  0.0000e+00,  0.0000e+00,  0.0000e+00,  0.0000e+00,\n",
            "         0.0000e+00,  0.0000e+00,  0.0000e+00,  0.0000e+00])\n",
            "Epoch 4 - Gradientes da classe 4:\n",
            "tensor([ 0.0000e+00,  0.0000e+00,  0.0000e+00,  0.0000e+00,  0.0000e+00,\n",
            "         0.0000e+00,  0.0000e+00,  0.0000e+00,  0.0000e+00,  0.0000e+00,\n",
            "         0.0000e+00,  0.0000e+00,  0.0000e+00,  0.0000e+00,  0.0000e+00,\n",
            "         0.0000e+00,  0.0000e+00,  0.0000e+00,  0.0000e+00,  0.0000e+00,\n",
            "         0.0000e+00,  0.0000e+00,  0.0000e+00,  0.0000e+00,  0.0000e+00,\n",
            "         0.0000e+00,  0.0000e+00,  0.0000e+00,  0.0000e+00,  0.0000e+00,\n",
            "         0.0000e+00,  0.0000e+00,  0.0000e+00,  0.0000e+00,  0.0000e+00,\n",
            "         0.0000e+00,  0.0000e+00,  0.0000e+00,  1.9189e-05,  1.1897e-04,\n",
            "         0.0000e+00,  3.1476e-05,  1.3892e-04,  1.9114e-04,  1.2298e-04,\n",
            "         1.4671e-04,  6.9997e-05,  0.0000e+00,  0.0000e+00,  0.0000e+00,\n",
            "         0.0000e+00,  0.0000e+00,  0.0000e+00,  0.0000e+00,  0.0000e+00,\n",
            "         0.0000e+00,  0.0000e+00,  0.0000e+00,  0.0000e+00,  0.0000e+00,\n",
            "         0.0000e+00,  0.0000e+00,  0.0000e+00,  0.0000e+00,  0.0000e+00,\n",
            "         0.0000e+00,  2.1030e-04,  5.4231e-04,  3.3741e-04,  2.8663e-04,\n",
            "         5.8472e-04,  2.4947e-04, -8.5528e-05,  3.9863e-04,  3.2602e-04,\n",
            "         1.8952e-04,  7.6376e-05,  1.0026e-04,  4.7935e-05,  1.3512e-06,\n",
            "         0.0000e+00,  0.0000e+00,  0.0000e+00,  0.0000e+00,  0.0000e+00,\n",
            "         0.0000e+00,  0.0000e+00,  0.0000e+00,  0.0000e+00,  0.0000e+00,\n",
            "         4.3461e-06,  5.2665e-05,  2.9247e-05,  5.2307e-05,  5.5907e-04,\n",
            "         7.7073e-04,  8.1400e-04,  1.1928e-03,  9.9101e-04,  5.2310e-04,\n",
            "         3.6307e-04,  8.8122e-04,  8.6444e-04,  7.5140e-04,  5.4712e-04,\n",
            "         2.7218e-04,  1.1107e-05,  1.0869e-06,  0.0000e+00,  0.0000e+00,\n",
            "         0.0000e+00,  0.0000e+00,  0.0000e+00,  0.0000e+00,  0.0000e+00,\n",
            "         0.0000e+00, -4.3095e-05, -5.1477e-05,  1.2127e-04,  2.6370e-04,\n",
            "         1.9893e-04, -5.7250e-04, -3.0166e-04,  7.4576e-04,  1.6757e-03,\n",
            "         1.6118e-03,  1.0925e-03,  1.2360e-03,  1.5789e-03,  2.0962e-03,\n",
            "         1.7988e-03,  1.1107e-03,  8.3975e-05,  2.7320e-05, -2.3722e-04,\n",
            "        -1.5881e-04,  9.0462e-06,  0.0000e+00,  0.0000e+00,  0.0000e+00,\n",
            "         0.0000e+00,  0.0000e+00,  0.0000e+00, -8.0120e-06, -2.2477e-04,\n",
            "        -1.7033e-04,  2.6368e-04,  4.2016e-04, -4.6265e-05, -1.2786e-03,\n",
            "        -1.4313e-03, -3.8907e-04,  8.4591e-04,  9.6906e-04,  6.2033e-04,\n",
            "         1.6909e-03,  1.6870e-03,  1.3470e-03,  1.2048e-03,  7.4752e-04,\n",
            "         3.9341e-05, -1.3237e-03, -1.9431e-03, -2.2819e-03, -1.4497e-03,\n",
            "        -6.2315e-04,  1.3507e-05,  0.0000e+00,  0.0000e+00,  0.0000e+00,\n",
            "         0.0000e+00, -1.7041e-04, -4.1141e-04, -4.7435e-04,  2.9003e-04,\n",
            "         5.5467e-04, -4.7862e-04, -1.5538e-03, -1.4395e-03, -6.7512e-04,\n",
            "         1.3503e-03,  1.7522e-03,  3.9938e-03,  5.8764e-03,  6.1987e-03,\n",
            "         3.5397e-03,  2.1528e-03,  9.0730e-04, -5.3142e-04, -2.9163e-03,\n",
            "        -3.7908e-03, -3.0480e-03, -1.3386e-03, -5.5766e-04, -1.1469e-04,\n",
            "         6.3961e-05,  0.0000e+00,  0.0000e+00,  6.0096e-06, -8.1048e-05,\n",
            "        -4.3806e-04, -7.1945e-04,  2.1544e-04,  3.1215e-04, -7.5070e-04,\n",
            "        -7.4601e-04,  5.5244e-05,  8.3628e-04,  2.6966e-03,  5.2400e-03,\n",
            "         7.5514e-03,  9.9800e-03,  8.4546e-03,  4.9400e-03,  2.1159e-03,\n",
            "         1.4202e-03, -6.0531e-04, -1.9056e-03, -3.1526e-03, -2.4854e-03,\n",
            "        -8.6814e-04, -1.9717e-04, -3.9682e-05,  3.6673e-05,  0.0000e+00,\n",
            "         0.0000e+00,  5.2431e-06, -9.8299e-05, -5.6479e-04, -4.5097e-04,\n",
            "        -4.0166e-04, -3.2322e-04,  1.3110e-04,  2.1673e-04,  9.5774e-04,\n",
            "         1.9672e-03,  3.7313e-03,  5.2756e-03,  7.0696e-03,  8.9566e-03,\n",
            "         6.0700e-03,  3.3856e-03,  4.0367e-03,  1.8296e-03,  8.8280e-04,\n",
            "        -2.8938e-04, -1.9663e-03, -1.3657e-03,  1.1748e-03,  6.6552e-04,\n",
            "         1.3544e-04,  0.0000e+00,  0.0000e+00,  3.3345e-05,  7.3106e-05,\n",
            "        -3.4041e-06, -2.4884e-04, -3.8247e-04, -2.5627e-04,  3.4639e-04,\n",
            "         1.4252e-03,  1.4141e-03,  2.1900e-03,  1.8996e-03,  2.0331e-03,\n",
            "         2.5750e-03,  6.1177e-03,  7.1118e-03,  2.0701e-03,  1.7017e-03,\n",
            "         2.6912e-03,  1.9939e-03,  9.1489e-04, -1.7685e-04, -1.5539e-03,\n",
            "         3.0521e-04,  1.2181e-03,  3.5415e-04,  8.0043e-05,  0.0000e+00,\n",
            "         0.0000e+00,  3.8475e-06,  4.1838e-04,  4.8879e-04,  4.2724e-04,\n",
            "        -3.0451e-04, -7.0231e-05,  5.4643e-04,  8.6848e-04,  5.0618e-04,\n",
            "         4.2397e-04, -7.3679e-04, -1.3137e-03,  1.2157e-03,  4.2385e-03,\n",
            "         4.8148e-03,  3.4181e-04, -2.0953e-04,  1.3187e-03,  6.8645e-04,\n",
            "         3.2092e-04, -4.3185e-04, -1.4637e-03,  5.8289e-04,  3.8128e-04,\n",
            "         6.5990e-05,  1.1472e-06,  0.0000e+00,  0.0000e+00,  0.0000e+00,\n",
            "         3.1044e-04,  5.1370e-04,  1.3891e-04, -8.1634e-04,  2.8504e-04,\n",
            "         4.1253e-04,  4.5197e-04, -1.5870e-03, -3.0648e-03, -4.2899e-03,\n",
            "        -1.7564e-03,  1.4590e-03,  3.9417e-03,  2.8584e-03, -2.1720e-03,\n",
            "        -2.5676e-03,  1.1062e-04, -5.9771e-04,  4.1616e-04, -4.3934e-04,\n",
            "        -9.0944e-04,  6.6489e-04,  2.8774e-04,  5.6949e-06,  8.1923e-06,\n",
            "         0.0000e+00,  0.0000e+00,  0.0000e+00,  5.0654e-05,  1.8128e-04,\n",
            "        -7.7212e-04, -1.2280e-03,  3.2389e-05, -7.7438e-04, -1.0518e-03,\n",
            "        -4.3736e-03, -8.2501e-03, -7.2201e-03, -3.1598e-03,  3.9112e-04,\n",
            "         2.6292e-03,  5.4856e-04, -4.4617e-03, -3.2967e-03, -5.4641e-04,\n",
            "        -1.7453e-04,  1.4728e-03, -2.6056e-04,  2.3219e-04,  1.2635e-03,\n",
            "         5.3593e-04,  1.3335e-04,  6.5312e-06,  0.0000e+00,  0.0000e+00,\n",
            "         0.0000e+00,  1.2766e-05, -1.1923e-04, -1.0895e-03, -9.7137e-04,\n",
            "        -1.3019e-03, -2.6545e-03, -3.3350e-03, -6.3230e-03, -9.0419e-03,\n",
            "        -6.4481e-03, -2.1474e-03,  1.7462e-03,  2.5906e-03,  2.2195e-04,\n",
            "        -4.0330e-03, -5.3786e-03, -2.3147e-03, -2.3247e-04, -7.7197e-04,\n",
            "        -1.2466e-03, -4.7844e-04,  9.2587e-04,  5.0218e-04,  2.8449e-04,\n",
            "         7.5505e-07,  0.0000e+00,  0.0000e+00,  0.0000e+00,  0.0000e+00,\n",
            "        -7.9661e-05, -1.2450e-03, -1.5950e-03, -3.4550e-03, -5.3348e-03,\n",
            "        -4.8914e-03, -3.9319e-03, -4.0111e-03, -3.5602e-03, -9.6827e-04,\n",
            "         1.0804e-03,  5.3208e-04, -1.1689e-03, -4.9900e-03, -7.6938e-03,\n",
            "        -2.6178e-03, -2.1041e-03, -2.0647e-03, -1.7741e-03, -6.5505e-04,\n",
            "         5.0806e-04,  5.2035e-04,  2.3684e-04,  7.3350e-06,  0.0000e+00,\n",
            "         0.0000e+00,  0.0000e+00,  0.0000e+00, -1.6512e-04, -1.1300e-03,\n",
            "        -1.3969e-03, -2.9285e-03, -6.1547e-03, -7.3985e-03, -5.2358e-03,\n",
            "        -3.9534e-03, -3.1623e-03, -2.7891e-03, -2.9399e-03, -1.9939e-03,\n",
            "        -3.6742e-03, -5.9174e-03, -4.5172e-03, -2.8880e-03, -3.3918e-03,\n",
            "        -1.7636e-03, -8.9653e-04, -6.0664e-04,  3.8484e-04,  5.2858e-04,\n",
            "         3.6569e-04,  1.4089e-04,  0.0000e+00,  0.0000e+00,  0.0000e+00,\n",
            "         1.9590e-05,  3.0927e-05, -5.4036e-04, -1.1239e-03, -1.7168e-03,\n",
            "        -6.1382e-03, -6.5685e-03, -4.7020e-03, -3.4649e-03, -2.1485e-03,\n",
            "        -1.4248e-03, -1.1887e-03, -1.9070e-03, -3.9054e-03, -4.7395e-03,\n",
            "        -2.6907e-03, -3.3435e-03, -1.7232e-03,  1.9000e-04,  4.5984e-04,\n",
            "        -9.6043e-04, -3.0850e-04,  3.5455e-04,  1.6983e-04,  6.2630e-05,\n",
            "         0.0000e+00,  0.0000e+00,  0.0000e+00,  1.6599e-05,  1.1711e-04,\n",
            "         3.6695e-04,  2.4313e-04, -8.1132e-04, -3.0961e-03, -2.9569e-03,\n",
            "        -1.3641e-03,  2.6042e-04,  2.3903e-04, -2.1010e-03, -3.1126e-03,\n",
            "        -3.5735e-03, -4.4206e-03, -3.9513e-03, -1.2370e-03, -6.7672e-04,\n",
            "         1.1567e-03,  1.4723e-03,  1.0488e-03,  3.4628e-04, -4.9905e-05,\n",
            "         2.9616e-04,  1.1798e-04,  0.0000e+00,  0.0000e+00,  0.0000e+00,\n",
            "         0.0000e+00,  1.4301e-04,  2.1664e-04,  8.5820e-04,  1.8307e-03,\n",
            "         2.0393e-03,  1.3408e-03, -3.6997e-04,  1.8498e-05,  1.5350e-03,\n",
            "         9.4763e-04, -2.8838e-04, -1.6407e-03, -2.6003e-03, -2.6907e-03,\n",
            "        -1.0802e-03,  7.1833e-04,  1.7765e-03,  1.8085e-03,  9.7991e-04,\n",
            "         3.4435e-04,  4.9982e-04,  4.9921e-04,  3.4173e-04,  5.2210e-05,\n",
            "         0.0000e+00,  0.0000e+00,  0.0000e+00,  0.0000e+00,  2.0476e-04,\n",
            "         2.6134e-04,  9.7489e-04,  2.1085e-03,  3.3092e-03,  3.6370e-03,\n",
            "         4.0435e-03,  4.0236e-03,  3.3950e-03,  3.2116e-03,  2.3511e-03,\n",
            "         1.7650e-03,  4.6851e-05, -1.3068e-03, -5.4364e-04,  9.7538e-04,\n",
            "         1.0338e-03,  2.0712e-03,  9.2538e-04,  3.6853e-04,  4.9224e-04,\n",
            "         2.3283e-04,  3.9761e-05,  9.9942e-07,  0.0000e+00,  0.0000e+00,\n",
            "         0.0000e+00,  0.0000e+00,  6.0792e-05,  2.4153e-04,  8.6068e-04,\n",
            "         1.6639e-03,  2.7817e-03,  3.6933e-03,  4.2653e-03,  4.5895e-03,\n",
            "         5.6779e-03,  5.1635e-03,  5.3636e-03,  3.5950e-03, -3.0241e-04,\n",
            "         1.4635e-04,  9.2990e-04,  1.1626e-03,  9.9724e-04,  1.7365e-03,\n",
            "         6.4951e-04, -2.6077e-04,  1.4843e-04,  1.9946e-04,  7.3658e-05,\n",
            "         7.7792e-06,  5.4364e-06,  0.0000e+00,  0.0000e+00,  0.0000e+00,\n",
            "         4.4934e-05,  1.4807e-04,  6.9985e-04,  1.3824e-03,  2.0902e-03,\n",
            "         3.2527e-03,  3.4424e-03,  3.9166e-03,  3.6999e-03,  3.2796e-03,\n",
            "         4.1517e-03,  1.7829e-03, -1.5657e-03,  2.2585e-04,  7.8385e-04,\n",
            "         9.3158e-04, -3.5942e-04,  9.3353e-04,  2.6588e-04, -6.6005e-04,\n",
            "         1.6892e-04,  1.1772e-04,  1.9681e-05,  4.7127e-06,  1.0628e-05,\n",
            "         0.0000e+00,  0.0000e+00,  0.0000e+00,  8.3300e-07,  4.1656e-05,\n",
            "         2.7962e-04,  7.8972e-04,  1.4871e-03,  1.5760e-03,  1.9328e-03,\n",
            "         2.7346e-03,  1.7256e-03,  1.8190e-03,  2.7463e-03, -5.9345e-04,\n",
            "        -1.6122e-03, -8.0766e-04,  9.3695e-05,  6.1060e-05, -1.0214e-03,\n",
            "         1.5610e-04, -2.8196e-04, -5.7608e-04, -7.0838e-06,  1.2702e-04,\n",
            "         2.2154e-05,  2.3407e-06,  5.3609e-06,  0.0000e+00,  0.0000e+00,\n",
            "         0.0000e+00,  5.0144e-08,  5.6970e-05,  2.5765e-04,  5.1496e-04,\n",
            "         7.1981e-04,  7.2324e-04,  1.4536e-03,  8.9085e-04,  5.9203e-04,\n",
            "         1.3896e-03,  8.9245e-04, -1.7974e-03, -2.1271e-03, -1.0401e-03,\n",
            "         6.0262e-04, -7.2653e-04, -7.8735e-04, -9.2538e-04, -9.6123e-04,\n",
            "        -6.4577e-05,  5.0969e-05,  9.1419e-05,  6.5325e-05,  0.0000e+00,\n",
            "         0.0000e+00,  0.0000e+00,  0.0000e+00,  0.0000e+00,  0.0000e+00,\n",
            "         7.3067e-05,  2.8134e-04,  4.4525e-04, -1.6718e-06,  6.4066e-04,\n",
            "         1.6424e-03, -3.8649e-05,  1.4114e-03,  1.4107e-03,  1.6193e-03,\n",
            "        -6.6999e-04,  6.6982e-05,  2.6690e-03,  9.7436e-04, -3.3717e-04,\n",
            "        -6.1436e-04, -2.4254e-04,  2.2263e-04,  2.5364e-04,  6.5768e-05,\n",
            "         9.0252e-05,  6.4650e-05,  0.0000e+00,  0.0000e+00,  0.0000e+00,\n",
            "         0.0000e+00,  0.0000e+00,  0.0000e+00,  3.5025e-06,  1.1521e-04,\n",
            "         3.0066e-04,  6.0051e-04,  1.0986e-03,  9.6144e-04,  2.7719e-04,\n",
            "         2.6458e-03,  2.9141e-03,  2.5852e-03,  2.0520e-03,  2.0342e-03,\n",
            "         2.4094e-03,  2.3089e-03,  1.4536e-03,  1.2736e-03,  5.6597e-04,\n",
            "         3.7034e-04,  1.0222e-04,  1.0603e-04,  1.3487e-04,  2.9539e-05,\n",
            "         0.0000e+00,  0.0000e+00,  0.0000e+00,  0.0000e+00,  0.0000e+00,\n",
            "         0.0000e+00,  6.0027e-06,  6.1240e-05,  1.1428e-04,  2.3086e-04,\n",
            "         2.3676e-04, -2.8930e-04,  8.4109e-05,  5.1013e-04,  3.4011e-04,\n",
            "         4.4652e-04,  4.5857e-04,  9.5534e-04,  9.9355e-04,  9.4558e-04,\n",
            "         9.1470e-04,  6.8631e-04,  4.7315e-04,  7.4777e-05,  1.9622e-05,\n",
            "         0.0000e+00,  0.0000e+00,  0.0000e+00,  0.0000e+00,  0.0000e+00,\n",
            "         0.0000e+00,  0.0000e+00,  0.0000e+00,  0.0000e+00,  0.0000e+00,\n",
            "         0.0000e+00,  1.7782e-05,  4.3796e-05,  4.1570e-05,  1.4838e-05,\n",
            "         4.1163e-06,  6.7162e-06,  6.7376e-05,  1.0294e-04,  1.0236e-04,\n",
            "         7.7375e-05,  8.3949e-05,  9.6206e-05,  7.0160e-05,  1.5964e-04,\n",
            "         6.9372e-05,  0.0000e+00,  0.0000e+00,  0.0000e+00,  0.0000e+00,\n",
            "         0.0000e+00,  0.0000e+00,  0.0000e+00,  0.0000e+00])\n",
            "Epoch 5 - Gradientes da classe 4:\n",
            "tensor([ 0.0000e+00,  0.0000e+00,  0.0000e+00,  0.0000e+00,  0.0000e+00,\n",
            "         0.0000e+00,  0.0000e+00,  0.0000e+00,  0.0000e+00,  0.0000e+00,\n",
            "         0.0000e+00,  0.0000e+00,  0.0000e+00,  0.0000e+00,  0.0000e+00,\n",
            "         0.0000e+00,  0.0000e+00,  0.0000e+00,  0.0000e+00,  0.0000e+00,\n",
            "         0.0000e+00,  0.0000e+00,  0.0000e+00,  0.0000e+00,  0.0000e+00,\n",
            "         0.0000e+00,  0.0000e+00,  0.0000e+00,  0.0000e+00,  0.0000e+00,\n",
            "         0.0000e+00,  0.0000e+00,  0.0000e+00,  0.0000e+00,  0.0000e+00,\n",
            "         0.0000e+00,  0.0000e+00,  0.0000e+00,  1.9182e-05,  1.1893e-04,\n",
            "         0.0000e+00,  3.0147e-05,  1.3519e-04,  1.8695e-04,  1.1804e-04,\n",
            "         1.4140e-04,  6.7501e-05,  0.0000e+00,  0.0000e+00,  0.0000e+00,\n",
            "         0.0000e+00,  0.0000e+00,  0.0000e+00,  0.0000e+00,  0.0000e+00,\n",
            "         0.0000e+00,  0.0000e+00,  0.0000e+00,  0.0000e+00,  0.0000e+00,\n",
            "         0.0000e+00,  0.0000e+00,  0.0000e+00,  0.0000e+00,  0.0000e+00,\n",
            "         0.0000e+00,  2.0903e-04,  5.3558e-04,  3.3015e-04,  2.7982e-04,\n",
            "         5.7324e-04,  2.3494e-04, -1.0794e-04,  3.7717e-04,  3.1041e-04,\n",
            "         1.7917e-04,  7.2465e-05,  9.6487e-05,  4.6198e-05,  1.2305e-06,\n",
            "         0.0000e+00,  0.0000e+00,  0.0000e+00,  0.0000e+00,  0.0000e+00,\n",
            "         0.0000e+00,  0.0000e+00,  0.0000e+00,  0.0000e+00,  0.0000e+00,\n",
            "         4.0573e-06,  5.2051e-05,  2.7406e-05,  4.9500e-05,  5.5370e-04,\n",
            "         7.5726e-04,  7.9239e-04,  1.1643e-03,  9.5258e-04,  4.6961e-04,\n",
            "         3.0463e-04,  8.2508e-04,  8.2206e-04,  7.1985e-04,  5.3113e-04,\n",
            "         2.6603e-04,  1.2498e-05,  9.8974e-07,  0.0000e+00,  0.0000e+00,\n",
            "         0.0000e+00,  0.0000e+00,  0.0000e+00,  0.0000e+00,  0.0000e+00,\n",
            "         0.0000e+00, -4.1971e-05, -5.0785e-05,  1.1780e-04,  2.6045e-04,\n",
            "         1.9415e-04, -5.7094e-04, -3.0331e-04,  7.1551e-04,  1.6293e-03,\n",
            "         1.5468e-03,  1.0054e-03,  1.1253e-03,  1.4630e-03,  2.0040e-03,\n",
            "         1.7534e-03,  1.0853e-03,  9.3695e-05,  3.8503e-05, -2.2071e-04,\n",
            "        -1.4931e-04,  8.5275e-06,  0.0000e+00,  0.0000e+00,  0.0000e+00,\n",
            "         0.0000e+00,  0.0000e+00,  0.0000e+00, -7.6692e-06, -2.1879e-04,\n",
            "        -1.6785e-04,  2.6156e-04,  4.1614e-04, -4.5536e-05, -1.2591e-03,\n",
            "        -1.4149e-03, -3.8279e-04,  8.1793e-04,  8.9572e-04,  4.9117e-04,\n",
            "         1.5207e-03,  1.5110e-03,  1.2028e-03,  1.1438e-03,  7.4662e-04,\n",
            "         7.9049e-05, -1.2596e-03, -1.8750e-03, -2.2180e-03, -1.4044e-03,\n",
            "        -6.0615e-04,  1.3026e-05,  0.0000e+00,  0.0000e+00,  0.0000e+00,\n",
            "         0.0000e+00, -1.6426e-04, -3.9679e-04, -4.6214e-04,  2.8784e-04,\n",
            "         5.4999e-04, -4.7130e-04, -1.5243e-03, -1.4012e-03, -6.4291e-04,\n",
            "         1.3097e-03,  1.6349e-03,  3.7558e-03,  5.5772e-03,  5.9142e-03,\n",
            "         3.3195e-03,  2.0481e-03,  9.1927e-04, -4.6246e-04, -2.8132e-03,\n",
            "        -3.6859e-03, -2.9594e-03, -1.2755e-03, -5.3732e-04, -1.1088e-04,\n",
            "         6.1900e-05,  0.0000e+00,  0.0000e+00,  5.4652e-06, -7.6622e-05,\n",
            "        -4.2218e-04, -6.9666e-04,  2.1219e-04,  3.0533e-04, -7.5138e-04,\n",
            "        -7.2316e-04,  7.6114e-05,  8.1239e-04,  2.5489e-03,  4.9843e-03,\n",
            "         7.1889e-03,  9.5730e-03,  8.0909e-03,  4.6716e-03,  2.0017e-03,\n",
            "         1.4466e-03, -5.1642e-04, -1.8266e-03, -3.0497e-03, -2.3918e-03,\n",
            "        -8.1178e-04, -1.7419e-04, -3.8670e-05,  3.5389e-05,  0.0000e+00,\n",
            "         0.0000e+00,  4.7806e-06, -9.5569e-05, -5.4792e-04, -4.3631e-04,\n",
            "        -4.0362e-04, -3.3840e-04,  1.0861e-04,  2.1455e-04,  9.3750e-04,\n",
            "         1.8556e-03,  3.5329e-03,  4.9859e-03,  6.7152e-03,  8.5866e-03,\n",
            "         5.7718e-03,  3.1829e-03,  3.9593e-03,  1.8871e-03,  9.7649e-04,\n",
            "        -2.0435e-04, -1.8681e-03, -1.2827e-03,  1.1779e-03,  6.6795e-04,\n",
            "         1.3214e-04,  0.0000e+00,  0.0000e+00,  3.3069e-05,  7.3474e-05,\n",
            "         1.1767e-06, -2.3921e-04, -3.7662e-04, -2.6285e-04,  3.1959e-04,\n",
            "         1.4000e-03,  1.3968e-03,  2.1156e-03,  1.7947e-03,  1.9279e-03,\n",
            "         2.4109e-03,  5.8723e-03,  6.8636e-03,  1.8992e-03,  1.5966e-03,\n",
            "         2.6768e-03,  2.0591e-03,  1.0358e-03, -7.3823e-05, -1.4720e-03,\n",
            "         3.3625e-04,  1.2203e-03,  3.5367e-04,  7.8926e-05,  0.0000e+00,\n",
            "         0.0000e+00,  3.8156e-06,  4.2260e-04,  4.9242e-04,  4.3013e-04,\n",
            "        -3.0131e-04, -7.0536e-05,  5.4602e-04,  8.8626e-04,  4.9755e-04,\n",
            "         4.4123e-04, -7.0324e-04, -1.2963e-03,  1.1619e-03,  4.1194e-03,\n",
            "         4.6763e-03,  2.6859e-04, -2.0574e-04,  1.3834e-03,  8.1378e-04,\n",
            "         4.4743e-04, -3.6664e-04, -1.4271e-03,  5.9535e-04,  3.9375e-04,\n",
            "         6.7554e-05,  1.0397e-06,  0.0000e+00,  0.0000e+00,  0.0000e+00,\n",
            "         3.1231e-04,  5.1732e-04,  1.4562e-04, -8.0419e-04,  3.0465e-04,\n",
            "         4.6726e-04,  4.9042e-04, -1.5416e-03, -2.9045e-03, -4.1426e-03,\n",
            "        -1.7158e-03,  1.3958e-03,  3.8341e-03,  2.7742e-03, -2.1579e-03,\n",
            "        -2.4621e-03,  2.2579e-04, -4.8062e-04,  4.9569e-04, -4.1266e-04,\n",
            "        -8.8105e-04,  6.8377e-04,  2.9377e-04,  5.4130e-06,  7.6111e-06,\n",
            "         0.0000e+00,  0.0000e+00,  0.0000e+00,  4.8594e-05,  1.8569e-04,\n",
            "        -7.6079e-04, -1.2037e-03,  8.5214e-05, -6.8378e-04, -9.6317e-04,\n",
            "        -4.2011e-03, -8.0128e-03, -7.0571e-03, -3.1487e-03,  3.1348e-04,\n",
            "         2.5357e-03,  4.8620e-04, -4.4192e-03, -3.1768e-03, -4.1089e-04,\n",
            "        -9.1981e-05,  1.4867e-03, -2.5404e-04,  2.4675e-04,  1.2704e-03,\n",
            "         5.3529e-04,  1.3355e-04,  6.0678e-06,  0.0000e+00,  0.0000e+00,\n",
            "         0.0000e+00,  1.2197e-05, -1.1451e-04, -1.0632e-03, -9.1491e-04,\n",
            "        -1.2021e-03, -2.5004e-03, -3.1269e-03, -6.0581e-03, -8.7936e-03,\n",
            "        -6.3401e-03, -2.1822e-03,  1.6459e-03,  2.4702e-03,  1.3145e-04,\n",
            "        -3.9740e-03, -5.2284e-03, -2.2121e-03, -1.9945e-04, -7.4870e-04,\n",
            "        -1.2164e-03, -4.5732e-04,  9.2682e-04,  4.9920e-04,  2.8509e-04,\n",
            "         7.0148e-07,  0.0000e+00,  0.0000e+00,  0.0000e+00,  0.0000e+00,\n",
            "        -7.5483e-05, -1.2039e-03, -1.5098e-03, -3.2941e-03, -5.0767e-03,\n",
            "        -4.5742e-03, -3.6247e-03, -3.7562e-03, -3.4398e-03, -9.5625e-04,\n",
            "         1.0066e-03,  4.4804e-04, -1.1765e-03, -4.8585e-03, -7.4893e-03,\n",
            "        -2.5006e-03, -2.0213e-03, -1.9894e-03, -1.7350e-03, -6.3836e-04,\n",
            "         5.1419e-04,  5.1481e-04,  2.3616e-04,  7.3444e-06,  0.0000e+00,\n",
            "         0.0000e+00,  0.0000e+00,  0.0000e+00, -1.6038e-04, -1.0952e-03,\n",
            "        -1.3040e-03, -2.7260e-03, -5.8335e-03, -7.0472e-03, -4.9253e-03,\n",
            "        -3.6801e-03, -2.9563e-03, -2.6360e-03, -2.8391e-03, -1.9155e-03,\n",
            "        -3.5402e-03, -5.6971e-03, -4.3311e-03, -2.7418e-03, -3.2767e-03,\n",
            "        -1.6979e-03, -8.8366e-04, -5.8928e-04,  3.9585e-04,  5.1963e-04,\n",
            "         3.6112e-04,  1.4078e-04,  0.0000e+00,  0.0000e+00,  0.0000e+00,\n",
            "         1.9882e-05,  2.9336e-05, -5.1846e-04, -1.0380e-03, -1.5471e-03,\n",
            "        -5.8649e-03, -6.2596e-03, -4.4169e-03, -3.2066e-03, -1.9267e-03,\n",
            "        -1.2278e-03, -1.0065e-03, -1.7369e-03, -3.7060e-03, -4.5173e-03,\n",
            "        -2.5133e-03, -3.1673e-03, -1.6487e-03,  2.0850e-04,  4.5574e-04,\n",
            "        -9.4659e-04, -3.1356e-04,  3.4344e-04,  1.6809e-04,  6.2710e-05,\n",
            "         0.0000e+00,  0.0000e+00,  0.0000e+00,  1.6020e-05,  1.1204e-04,\n",
            "         3.6465e-04,  2.7310e-04, -7.2515e-04, -2.9488e-03, -2.8150e-03,\n",
            "        -1.2626e-03,  3.4364e-04,  3.3352e-04, -1.9682e-03, -2.9745e-03,\n",
            "        -3.4280e-03, -4.2311e-03, -3.7979e-03, -1.1491e-03, -6.0797e-04,\n",
            "         1.1728e-03,  1.4656e-03,  1.0223e-03,  3.2118e-04, -6.9558e-05,\n",
            "         2.8476e-04,  1.1591e-04,  0.0000e+00,  0.0000e+00,  0.0000e+00,\n",
            "         0.0000e+00,  1.4314e-04,  2.0928e-04,  8.3787e-04,  1.7960e-03,\n",
            "         2.0073e-03,  1.3242e-03, -3.8045e-04, -1.2087e-05,  1.4686e-03,\n",
            "         8.9570e-04, -3.1212e-04, -1.6232e-03, -2.5524e-03, -2.6124e-03,\n",
            "        -1.0718e-03,  6.8697e-04,  1.7295e-03,  1.7700e-03,  9.3967e-04,\n",
            "         3.1205e-04,  4.7592e-04,  4.8135e-04,  3.3372e-04,  5.1090e-05,\n",
            "         0.0000e+00,  0.0000e+00,  0.0000e+00,  0.0000e+00,  2.0673e-04,\n",
            "         2.5111e-04,  9.4223e-04,  2.0444e-03,  3.2055e-03,  3.5110e-03,\n",
            "         3.9030e-03,  3.8684e-03,  3.2386e-03,  3.0689e-03,  2.2497e-03,\n",
            "         1.6958e-03,  5.2566e-05, -1.3053e-03, -5.8319e-04,  8.8613e-04,\n",
            "         9.6944e-04,  2.0196e-03,  9.1168e-04,  3.5037e-04,  4.7538e-04,\n",
            "         2.2158e-04,  3.7104e-05,  8.8012e-07,  0.0000e+00,  0.0000e+00,\n",
            "         0.0000e+00,  0.0000e+00,  5.8740e-05,  2.2909e-04,  8.1998e-04,\n",
            "         1.5860e-03,  2.6592e-03,  3.5439e-03,  4.0859e-03,  4.3916e-03,\n",
            "         5.4666e-03,  4.9785e-03,  5.2073e-03,  3.4899e-03, -3.3150e-04,\n",
            "         1.1465e-04,  8.5919e-04,  1.0749e-03,  9.4669e-04,  1.7128e-03,\n",
            "         6.4573e-04, -2.6269e-04,  1.4008e-04,  1.8891e-04,  6.9618e-05,\n",
            "         7.3856e-06,  5.0507e-06,  0.0000e+00,  0.0000e+00,  0.0000e+00,\n",
            "         4.3328e-05,  1.3981e-04,  6.6473e-04,  1.3144e-03,  1.9902e-03,\n",
            "         3.1128e-03,  3.2792e-03,  3.7259e-03,  3.5143e-03,  3.1250e-03,\n",
            "         4.0283e-03,  1.7179e-03, -1.5641e-03,  2.1424e-04,  6.9940e-04,\n",
            "         8.6158e-04, -3.7659e-04,  9.2567e-04,  2.6710e-04, -6.5506e-04,\n",
            "         1.5920e-04,  1.1077e-04,  1.8091e-05,  4.3559e-06,  9.8657e-06,\n",
            "         0.0000e+00,  0.0000e+00,  0.0000e+00,  7.5573e-07,  3.8582e-05,\n",
            "         2.6231e-04,  7.4767e-04,  1.4172e-03,  1.4858e-03,  1.8206e-03,\n",
            "         2.5878e-03,  1.6125e-03,  1.7356e-03,  2.6915e-03, -5.8511e-04,\n",
            "        -1.5544e-03, -7.9781e-04,  2.6042e-05,  1.4993e-05, -1.0253e-03,\n",
            "         1.7303e-04, -2.5892e-04, -5.6887e-04, -9.3875e-06,  1.2160e-04,\n",
            "         2.1087e-05,  2.1746e-06,  4.9805e-06,  0.0000e+00,  0.0000e+00,\n",
            "         0.0000e+00,  4.4827e-08,  5.4629e-05,  2.4673e-04,  4.9157e-04,\n",
            "         6.8480e-04,  6.7385e-04,  1.3686e-03,  8.1260e-04,  5.2649e-04,\n",
            "         1.3416e-03,  8.6725e-04, -1.7595e-03, -2.0721e-03, -1.0304e-03,\n",
            "         5.4247e-04, -7.4566e-04, -7.7141e-04, -8.8083e-04, -9.2549e-04,\n",
            "        -5.8028e-05,  4.9644e-05,  8.9137e-05,  6.2898e-05,  0.0000e+00,\n",
            "         0.0000e+00,  0.0000e+00,  0.0000e+00,  0.0000e+00,  0.0000e+00,\n",
            "         7.0344e-05,  2.7304e-04,  4.2933e-04, -1.0716e-05,  6.0969e-04,\n",
            "         1.5910e-03, -7.7362e-05,  1.3549e-03,  1.3592e-03,  1.5729e-03,\n",
            "        -6.8484e-04,  5.1851e-05,  2.5918e-03,  9.1246e-04, -3.4456e-04,\n",
            "        -5.9288e-04, -2.1413e-04,  2.3724e-04,  2.5419e-04,  6.5215e-05,\n",
            "         8.8215e-05,  6.2276e-05,  0.0000e+00,  0.0000e+00,  0.0000e+00,\n",
            "         0.0000e+00,  0.0000e+00,  0.0000e+00,  3.3090e-06,  1.1238e-04,\n",
            "         2.9237e-04,  5.8530e-04,  1.0781e-03,  9.3710e-04,  2.4673e-04,\n",
            "         2.5751e-03,  2.8327e-03,  2.5066e-03,  1.9955e-03,  1.9917e-03,\n",
            "         2.3467e-03,  2.2437e-03,  1.4165e-03,  1.2555e-03,  5.6685e-04,\n",
            "         3.6681e-04,  1.0076e-04,  1.0212e-04,  1.2992e-04,  2.8454e-05,\n",
            "         0.0000e+00,  0.0000e+00,  0.0000e+00,  0.0000e+00,  0.0000e+00,\n",
            "         0.0000e+00,  5.8395e-06,  5.9043e-05,  1.0970e-04,  2.1975e-04,\n",
            "         2.2235e-04, -3.0712e-04,  5.7548e-05,  4.7979e-04,  3.2058e-04,\n",
            "         4.2686e-04,  4.3763e-04,  9.3328e-04,  9.6839e-04,  9.1607e-04,\n",
            "         8.8970e-04,  6.7828e-04,  4.6974e-04,  7.1960e-05,  1.8883e-05,\n",
            "         0.0000e+00,  0.0000e+00,  0.0000e+00,  0.0000e+00,  0.0000e+00,\n",
            "         0.0000e+00,  0.0000e+00,  0.0000e+00,  0.0000e+00,  0.0000e+00,\n",
            "         0.0000e+00,  1.6552e-05,  4.0998e-05,  3.8889e-05,  1.3570e-05,\n",
            "         3.6844e-06,  6.2543e-06,  6.4414e-05,  9.7923e-05,  9.6991e-05,\n",
            "         7.2986e-05,  7.8639e-05,  9.0028e-05,  6.6279e-05,  1.5735e-04,\n",
            "         6.8781e-05,  0.0000e+00,  0.0000e+00,  0.0000e+00,  0.0000e+00,\n",
            "         0.0000e+00,  0.0000e+00,  0.0000e+00,  0.0000e+00])\n"
          ]
        },
        {
          "output_type": "display_data",
          "data": {
            "text/plain": [
              "<Figure size 1800x600 with 0 Axes>"
            ]
          },
          "metadata": {}
        }
      ]
    },
    {
      "cell_type": "markdown",
      "metadata": {
        "id": "8UjOANOOe4Es"
      },
      "source": [
        "<details>\n",
        "<summary>Mostrar Resultado</summary>\n",
        "\n",
        "```python\n",
        "from IPython import display\n",
        "import numpy\n",
        "a = 5\n",
        "losses = []\n",
        "zs = []\n",
        "fig = plt.figure(figsize=(18, 6))\n",
        "\n",
        "try:\n",
        "    for i in range(epochs):\n",
        "        # Transforma a entrada para uma dimensão\n",
        "        inputs = Variable(x_train.view(-1, 28 * 28))\n",
        "        # Predict da rede\n",
        "        outputs = model(inputs)\n",
        "        zs.append(outputs[1].detach().numpy())\n",
        "\n",
        "        # calcula a perda\n",
        "        loss = criterion(outputs, Variable(y_train))\n",
        "\n",
        "        # zero, backpropagation, ajusta parâmetros pelo gradiente descendente\n",
        "        optimizer.zero_grad()\n",
        "        loss.backward()\n",
        "        optimizer.step()\n",
        "\n",
        "        losses.append(loss.data)\n",
        "        weights_d = model.weight.data[4].numpy().reshape(28,28)\n",
        "        weights_g = model.weight.grad.data[4].numpy().reshape(28,28)\n",
        "        ww = np.concatenate((weights_d,weights_g),1)\n",
        "        plt.imshow(ww.reshape((28,28*2)),cmap = 'gray')\n",
        "        display.display(fig)\n",
        "        display.clear_output(wait=True)\n",
        "        input(i)\n",
        "        \n",
        "        _, predicts = torch.max(outputs, 1)\n",
        "\n",
        "        y_pred = predicts.data\n",
        "        accuracy = (y_pred.numpy() == y_train.numpy()).mean()\n",
        "        print('Accuracy:', accuracy)\n",
        "        print(\"epoca: \" + str(i + 1))\n",
        "        print(\"perda: \" + str(loss.data.detach().numpy()))\n",
        "except KeyboardInterrupt:\n",
        "    pass\n",
        "```\n",
        "\n",
        "</details>\n",
        "\n"
      ]
    },
    {
      "cell_type": "markdown",
      "metadata": {
        "heading_collapsed": true,
        "id": "WNYt_-zhmvR7"
      },
      "source": [
        "## Perguntas"
      ]
    },
    {
      "cell_type": "markdown",
      "metadata": {
        "hidden": true,
        "id": "joaXY_W3mvR9"
      },
      "source": [
        "1. Qual é o shape da matriz de entrada na rede?\n",
        "\n",
        "Resposta -> A imagem é convertida em um vetor com 784 elementos (28 * 28) Assim sendo, o shape da entrada é [n_samples, 784]\n",
        "\n",
        "2. Qual é o shape da saída da rede?\n",
        "\n",
        "resposta -> A saída da rede tem 10 elementos, um para cada classe de dígito (0-9) Sendo assim, a saída é [n_samples, 10]\n",
        "\n",
        "3. Qual é o número total de parâmetros da rede, incluindo o bias?\n",
        "\n",
        "Resposta -> A rede tem uma linha que mostra 784 entradas e 10 saídas.\n",
        "Número total de parâmetros: 784×10+10=7850\n",
        "784×10 é o peso.\n",
        "Os biases são +10."
      ]
    },
    {
      "cell_type": "markdown",
      "metadata": {
        "id": "WzWdNQ6PmvR9"
      },
      "source": [
        "# Aprendizados\n"
      ]
    }
  ],
  "metadata": {
    "accelerator": "GPU",
    "colab": {
      "provenance": []
    },
    "kernelspec": {
      "display_name": "Python 3.10.2 64-bit",
      "language": "python",
      "name": "python3"
    },
    "language_info": {
      "name": "python",
      "version": "3.10.2"
    },
    "vscode": {
      "interpreter": {
        "hash": "5fe3e6f0cdaab8afdc61c52912fda83f7c0a71baaea1897dd7498e2df01e69ec"
      }
    }
  },
  "nbformat": 4,
  "nbformat_minor": 0
}