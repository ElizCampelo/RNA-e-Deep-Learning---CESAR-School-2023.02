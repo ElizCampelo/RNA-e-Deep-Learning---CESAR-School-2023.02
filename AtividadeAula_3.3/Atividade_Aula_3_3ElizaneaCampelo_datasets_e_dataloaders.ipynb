{
  "cells": [
    {
      "cell_type": "markdown",
      "metadata": {
        "id": "HPLrnyCPXtIn"
      },
      "source": [
        "# Datasets e DataLoaders no Pytorch"
      ]
    },
    {
      "cell_type": "markdown",
      "metadata": {
        "id": "XMVwhFH_XtIo"
      },
      "source": [
        "Demonstração do funcionamento dos Datasets e Dataloaders no Pytorch"
      ]
    },
    {
      "cell_type": "markdown",
      "metadata": {
        "id": "Vc1EG1fXXtIp"
      },
      "source": [
        "### Objetivo"
      ]
    },
    {
      "cell_type": "markdown",
      "metadata": {
        "id": "GCqkJ_uKXtIq"
      },
      "source": [
        "O objetivo deste notebook é demonstrar as três formas de carregar e usar dados no PyTorch:\n",
        "\n",
        "* torch.utils.data.TensorDataset\n",
        "* torch.utils.data.Dataset\n",
        "* torch.utils.data.DataLoader\n",
        "\n",
        "Neste notebook usaremos o dataset de Flores Íris, já visto anteriormente"
      ]
    },
    {
      "cell_type": "code",
      "execution_count": 1,
      "metadata": {
        "ExecuteTime": {
          "end_time": "2017-10-08T11:34:30.937052Z",
          "start_time": "2017-10-08T11:34:30.479875Z"
        },
        "id": "RSlNmg6_XtIr"
      },
      "outputs": [],
      "source": [
        "import numpy as np\n",
        "import torch\n",
        "from torch.utils.data import TensorDataset\n",
        "\n",
        "from torchvision import transforms\n",
        "\n",
        "from sklearn.datasets import load_iris"
      ]
    },
    {
      "cell_type": "markdown",
      "metadata": {
        "id": "2fDd3Pn_XtIu"
      },
      "source": [
        "# Datasets"
      ]
    },
    {
      "cell_type": "markdown",
      "metadata": {
        "id": "Padn_LO3XtIv"
      },
      "source": [
        "No Pytorch, datasets são objetos utilizados para armazenar, indexar, transformar e retornar elementos de um conjunto de dados.\n",
        "\n",
        "Existem duas formas de se criar um dataset em PyTorch:\n",
        "\n",
        "* Transformar os dados de entrada em tensores torch e criar o dataset com torch.utils.data.TensorDataset¶\n",
        "* Criar uma classe filha de torch.utils.data.Dataset"
      ]
    },
    {
      "cell_type": "markdown",
      "metadata": {
        "id": "lG6MADq8XtIv"
      },
      "source": [
        "## Criando um Dataset com `torch.utils.data.TensorDataset`"
      ]
    },
    {
      "cell_type": "markdown",
      "metadata": {
        "id": "wEud3qr9XtIw"
      },
      "source": [
        "Se os dados e as classes forem disponibilizados em arrays do numpy ou tensores do próprio PyTorch é possível criar um dataset utilizando [torch.utils.data.TensorDataset](http://pytorch.org/docs/master/data.html#torch.utils.data.TensorDataset):"
      ]
    },
    {
      "cell_type": "markdown",
      "metadata": {
        "ExecuteTime": {
          "end_time": "2017-10-08T11:34:30.937052Z",
          "start_time": "2017-10-08T11:34:30.479875Z"
        },
        "id": "K9H8Rd2BXtIw"
      },
      "source": [
        "### Dados anotados: x_data (comprimento das sépalas) e target (comprimento das pétalas)  "
      ]
    },
    {
      "cell_type": "code",
      "execution_count": 2,
      "metadata": {
        "ExecuteTime": {
          "end_time": "2017-10-08T11:34:30.937052Z",
          "start_time": "2017-10-08T11:34:30.479875Z"
        },
        "colab": {
          "base_uri": "https://localhost:8080/"
        },
        "id": "aQoZ1kFvXtIx",
        "outputId": "b62479b2-cfb0-49d3-9818-7f11e394cc3c"
      },
      "outputs": [
        {
          "output_type": "stream",
          "name": "stdout",
          "text": [
            "dimensões de x_data: (50, 1)\n",
            "dimensões de target: (50, 1)\n"
          ]
        }
      ],
      "source": [
        "iris = load_iris()\n",
        "data = iris.data[iris.target==1,::2]  # comprimento das sépalas e pétalas, indices 0 e 2\n",
        "\n",
        "x_data = data[:,0:1]\n",
        "target = data[:,1:2]\n",
        "\n",
        "print('dimensões de x_data:', x_data.shape)\n",
        "print('dimensões de target:', target.shape)"
      ]
    },
    {
      "cell_type": "markdown",
      "metadata": {
        "ExecuteTime": {
          "end_time": "2017-10-08T11:34:30.944416Z",
          "start_time": "2017-10-08T11:34:30.938947Z"
        },
        "collapsed": true,
        "id": "rKT_mN4JXtI2"
      },
      "source": [
        "### Passo 1: transformar o array numpy em tensores torch"
      ]
    },
    {
      "cell_type": "code",
      "execution_count": 3,
      "metadata": {
        "ExecuteTime": {
          "end_time": "2017-10-08T11:34:30.944416Z",
          "start_time": "2017-10-08T11:34:30.938947Z"
        },
        "id": "jkYfJyn9XtI3"
      },
      "outputs": [],
      "source": [
        "x_data = torch.FloatTensor(x_data)\n",
        "target = torch.FloatTensor(target)"
      ]
    },
    {
      "cell_type": "markdown",
      "metadata": {
        "ExecuteTime": {
          "end_time": "2017-10-08T11:34:30.944416Z",
          "start_time": "2017-10-08T11:34:30.938947Z"
        },
        "collapsed": true,
        "id": "LntBWpdFXtI4"
      },
      "source": [
        "### Passo 2: usar `TensorDataset` para criar o dataset com os tensores"
      ]
    },
    {
      "cell_type": "code",
      "execution_count": 4,
      "metadata": {
        "ExecuteTime": {
          "end_time": "2017-10-08T11:34:30.944416Z",
          "start_time": "2017-10-08T11:34:30.938947Z"
        },
        "colab": {
          "base_uri": "https://localhost:8080/"
        },
        "id": "VySgPyZ5XtI5",
        "outputId": "3801a8f8-af23-4845-e5f2-bf9a672d3618"
      },
      "outputs": [
        {
          "output_type": "execute_result",
          "data": {
            "text/plain": [
              "50"
            ]
          },
          "metadata": {},
          "execution_count": 4
        }
      ],
      "source": [
        "dataset = TensorDataset(x_data, target)\n",
        "len(dataset)"
      ]
    },
    {
      "cell_type": "markdown",
      "metadata": {
        "id": "bCsJR3I5XtI9"
      },
      "source": [
        "O dataset pode ser indexado como uma lista e cada elemento retorna uma tupla:\n",
        "- dado de entrada e\n",
        "- dado de saída."
      ]
    },
    {
      "cell_type": "code",
      "execution_count": 5,
      "metadata": {
        "ExecuteTime": {
          "end_time": "2017-10-08T11:34:30.953173Z",
          "start_time": "2017-10-08T11:34:30.947028Z"
        },
        "colab": {
          "base_uri": "https://localhost:8080/"
        },
        "id": "KgjhWW2mXtI-",
        "outputId": "2676ad4f-08e4-4005-fc32-920bc1d526e7"
      },
      "outputs": [
        {
          "output_type": "stream",
          "name": "stdout",
          "text": [
            "sépala: tensor([5.])\n",
            "pétala: tensor([3.5000])\n"
          ]
        }
      ],
      "source": [
        "i = 10\n",
        "(x, y) = dataset[i]\n",
        "\n",
        "print('sépala:', x)\n",
        "print('pétala:', y)"
      ]
    },
    {
      "cell_type": "markdown",
      "metadata": {
        "id": "sSxu2nTVXtJB"
      },
      "source": [
        "## Criando um Dataset com `torch.utils.data.Dataset`"
      ]
    },
    {
      "cell_type": "markdown",
      "metadata": {
        "id": "2aXx_aeIXtJC"
      },
      "source": [
        "É possível criar uma nova classe personalizada representando um dataset. Esta classe deve herdar de [torch.utils.data.Dataset](http://pytorch.org/docs/master/data.html#torch.utils.data.Dataset) para tratar casos mais complexos e especiais."
      ]
    },
    {
      "cell_type": "markdown",
      "metadata": {
        "id": "Sx8Q-pnYXtJD"
      },
      "source": [
        "### Estrutura do Dataset"
      ]
    },
    {
      "cell_type": "markdown",
      "metadata": {
        "id": "MPn4YrH2XtJD"
      },
      "source": [
        "Sempre que se herda de `Dataset` é preciso implementar os métodos:\n",
        "- `__len__`: para retornar o tamanho do dataset, e\n",
        "- `__getitem__`: para retornar um elemento de um índice dado.\n",
        "\n",
        "O método `__len__` é chamado quando usamos a chamada `len(dataset)` do Python e `__getitem__` é chamado quando fazemos a indexação `dataset[i]`.\n",
        "\n",
        "É possível inicializar variáveis da classe no construtor (`__init__`) do dataset."
      ]
    },
    {
      "cell_type": "code",
      "execution_count": 6,
      "metadata": {
        "ExecuteTime": {
          "end_time": "2017-10-08T11:34:30.961940Z",
          "start_time": "2017-10-08T11:34:30.955215Z"
        },
        "id": "1p3sC5eMXtJE"
      },
      "outputs": [],
      "source": [
        "from torch.utils.data import Dataset\n",
        "\n",
        "class IrisDataset(Dataset):\n",
        "    def __init__(self, x_data, target):\n",
        "        super(IrisDataset, self).__init__()\n",
        "\n",
        "        self.data = x_data\n",
        "        self.target = target\n",
        "\n",
        "    def __len__(self):\n",
        "        return self.data.shape[0]\n",
        "\n",
        "    def __getitem__(self, index):\n",
        "\n",
        "        sepala = self.data[index]\n",
        "        petala = self.target[index]\n",
        "\n",
        "        return (sepala, petala)"
      ]
    },
    {
      "cell_type": "markdown",
      "metadata": {
        "id": "xsEvgmWIXtJG"
      },
      "source": [
        "Nossa classe está pronta, podemos criar um objeto dela."
      ]
    },
    {
      "cell_type": "markdown",
      "metadata": {
        "ExecuteTime": {
          "end_time": "2017-10-08T11:34:30.998713Z",
          "start_time": "2017-10-08T11:34:30.994307Z"
        },
        "collapsed": true,
        "id": "5uovh-cbXtJH"
      },
      "source": [
        "### Criando e testando um objeto da nossa classe"
      ]
    },
    {
      "cell_type": "markdown",
      "metadata": {
        "id": "PdN1HFfwXtJI"
      },
      "source": [
        "Para exemplificar o uso de classes de transformação os dados foram novamente gerados como array numpy."
      ]
    },
    {
      "cell_type": "code",
      "execution_count": 7,
      "metadata": {
        "ExecuteTime": {
          "end_time": "2017-10-08T11:34:30.998713Z",
          "start_time": "2017-10-08T11:34:30.994307Z"
        },
        "id": "PyCtArb2XtJJ"
      },
      "outputs": [],
      "source": [
        "x = data[:,0:1]\n",
        "y = data[:,1:2]\n",
        "\n",
        "dataset = IrisDataset(x, y)"
      ]
    },
    {
      "cell_type": "markdown",
      "metadata": {
        "id": "GxfSIFiuXtJN"
      },
      "source": [
        "Nosso método `__len__` deve retornar o tamanho da primeira dimensão dos dados.\n",
        "\n",
        "Podemos verificar se o método está correto chamando o `len()` do Python:"
      ]
    },
    {
      "cell_type": "code",
      "execution_count": 8,
      "metadata": {
        "ExecuteTime": {
          "end_time": "2017-10-08T11:34:31.007017Z",
          "start_time": "2017-10-08T11:34:31.001464Z"
        },
        "colab": {
          "base_uri": "https://localhost:8080/"
        },
        "id": "94n8oH_hXtJO",
        "outputId": "15d41b05-4be5-4d5e-f2c5-c8cc523b3525",
        "scrolled": true
      },
      "outputs": [
        {
          "output_type": "stream",
          "name": "stdout",
          "text": [
            "50\n"
          ]
        }
      ],
      "source": [
        "print(len(dataset))"
      ]
    },
    {
      "cell_type": "markdown",
      "metadata": {
        "id": "dGWPm9GcXtJS"
      },
      "source": [
        "Nosso método `__getitem__()` deve retornar uma tupla na i-ésima posição no dataset, no nosso caso `data[i]` e `target[i]`:"
      ]
    },
    {
      "cell_type": "code",
      "execution_count": 9,
      "metadata": {
        "ExecuteTime": {
          "end_time": "2017-10-08T11:34:31.017354Z",
          "start_time": "2017-10-08T11:34:31.009628Z"
        },
        "colab": {
          "base_uri": "https://localhost:8080/"
        },
        "id": "c0Fqqol-XtJT",
        "outputId": "38af56ed-1d4b-4ade-96fa-62ac09549c5f",
        "scrolled": true
      },
      "outputs": [
        {
          "output_type": "stream",
          "name": "stdout",
          "text": [
            "(array([6.4]), array([4.5]))\n"
          ]
        }
      ],
      "source": [
        "i = 1\n",
        "print(dataset[i])"
      ]
    },
    {
      "cell_type": "code",
      "execution_count": 10,
      "metadata": {
        "ExecuteTime": {
          "end_time": "2017-10-08T11:34:31.043575Z",
          "start_time": "2017-10-08T11:34:31.035989Z"
        },
        "colab": {
          "base_uri": "https://localhost:8080/"
        },
        "id": "Sglim3OmXtJW",
        "outputId": "f7343139-2811-4f8f-f247-cd163a518b51"
      },
      "outputs": [
        {
          "output_type": "stream",
          "name": "stdout",
          "text": [
            "sépala: [5.5]\n",
            "pétala: [3.8]\n"
          ]
        }
      ],
      "source": [
        "data, target = dataset[30]\n",
        "\n",
        "print('sépala:', data)\n",
        "print('pétala:', target)"
      ]
    },
    {
      "cell_type": "markdown",
      "metadata": {
        "id": "R8QOkAGcXtJc"
      },
      "source": [
        "### Conclusão"
      ]
    },
    {
      "cell_type": "markdown",
      "metadata": {
        "id": "rJkF73ObXtJe"
      },
      "source": [
        "O caso apresentado neste tópico é muito simples, apresentando os conceitos básicos da estrutura que o Pytorch utiliza para representar datasets. A classe torch.utils.data.Dataset é usada para casos complexos em que é preciso, por exemplo, carregar o dataset de arquivos e quando o gerenciamento dos dados não é tão trivial ou quando queremos aplicar uma transformação ao dado."
      ]
    },
    {
      "cell_type": "markdown",
      "metadata": {
        "id": "rcFO6yCTXtJe"
      },
      "source": [
        "# DataLoaders"
      ]
    },
    {
      "cell_type": "markdown",
      "metadata": {
        "id": "CGAZRZ_RXtJf"
      },
      "source": [
        "Um DataLoader ([torch.utils.data.DataLoader](http://pytorch.org/docs/master/data.html#torch.utils.data.DataLoader)) combina um Dataset e um Sampler (divide os dados em batches).\n",
        "\n",
        "O DataLoader permite que os dados possam ser processados na forma de \"mini-batches\". A cada nova chamada do objeto criado com o DataLoader, um novo conjunto de dados é retornado. O DataLoader é a ferramenta do PyTorch para implementar o treinamento do gradiente descendente por \"mini-batches\". O treinamento por mini-batches possui duas grandes vantagens:\n",
        "- Implementa o gradiente descendente estocástico via mini-batch, que acelera o treinamento;\n",
        "- Permite que os dados do mini-batch a serem otimizados caibam na memória (normalmente da GPU).\n"
      ]
    },
    {
      "cell_type": "markdown",
      "metadata": {
        "id": "IvfURxInXtJg"
      },
      "source": [
        "## Criando um DataLoader"
      ]
    },
    {
      "cell_type": "markdown",
      "metadata": {
        "id": "7GwoOHcYXtJg"
      },
      "source": [
        "Vamos utilizar o dataset já criado anteriormente para ser a fonte de dados do nosso DataLoader."
      ]
    },
    {
      "cell_type": "code",
      "execution_count": 11,
      "metadata": {
        "ExecuteTime": {
          "end_time": "2017-10-08T11:34:31.066111Z",
          "start_time": "2017-10-08T11:34:31.057572Z"
        },
        "colab": {
          "base_uri": "https://localhost:8080/"
        },
        "id": "lGMBy8jJXtJi",
        "outputId": "4aacc6e3-154f-4410-9082-b35441a647bb"
      },
      "outputs": [
        {
          "output_type": "stream",
          "name": "stdout",
          "text": [
            "tamanho do dataset:  50\n",
            "amostra 12: (array([6.]), array([4.]))\n"
          ]
        }
      ],
      "source": [
        "print('tamanho do dataset: ', len(dataset))\n",
        "print('amostra 12:', dataset[12])"
      ]
    },
    {
      "cell_type": "markdown",
      "metadata": {
        "id": "OfFyPxd7XtJj"
      },
      "source": [
        "Agora podemos criar o DataLoader com o dataset"
      ]
    },
    {
      "cell_type": "code",
      "execution_count": 12,
      "metadata": {
        "ExecuteTime": {
          "end_time": "2017-10-08T11:34:31.074580Z",
          "start_time": "2017-10-08T11:34:31.068844Z"
        },
        "id": "O75HXOhUXtJl"
      },
      "outputs": [],
      "source": [
        "from torch.utils.data import DataLoader\n",
        "\n",
        "data_loader = DataLoader(dataset,\n",
        "                         batch_size=10, # tamanho do mini-batch de dados\n",
        "                         shuffle=False) # se for True, embaralha os dados no inicio de cada iteração"
      ]
    },
    {
      "cell_type": "markdown",
      "metadata": {
        "id": "wQNpxQHHXtJo"
      },
      "source": [
        "## Iterando sobre o DataLoader"
      ]
    },
    {
      "cell_type": "markdown",
      "metadata": {
        "id": "J7m5faP8XtJo"
      },
      "source": [
        "Podemos iterar sobre o DataLoader utilizando um `for`"
      ]
    },
    {
      "cell_type": "code",
      "execution_count": 13,
      "metadata": {
        "ExecuteTime": {
          "end_time": "2017-10-08T11:34:31.130351Z",
          "start_time": "2017-10-08T11:34:31.076932Z"
        },
        "colab": {
          "base_uri": "https://localhost:8080/"
        },
        "id": "52_ND2zOXtJp",
        "outputId": "c804b69e-7480-411a-c6d9-dc4ad2d62e1d"
      },
      "outputs": [
        {
          "output_type": "stream",
          "name": "stdout",
          "text": [
            "batch  0\n",
            "batch  1\n",
            "batch  2\n",
            "batch  3\n",
            "batch  4\n",
            "tamanho do DataLoader 5\n",
            "tamanho do dataset 50\n"
          ]
        }
      ],
      "source": [
        "batch_n = 0\n",
        "n_samples = 0\n",
        "for data in data_loader:\n",
        "    print('batch ', batch_n)\n",
        "    batch_n += 1\n",
        "    n_samples += len(data[0])\n",
        "\n",
        "print('tamanho do DataLoader', len(data_loader))\n",
        "print('tamanho do dataset', n_samples)"
      ]
    },
    {
      "cell_type": "markdown",
      "metadata": {
        "id": "RLx-IiHLXtJt"
      },
      "source": [
        "O tamanho do DataLoader é 5, pois temos batches de tamanho 10 dados no dataloader.\n",
        "\n",
        "Agora podemos utilizar os dados do DataLoader:"
      ]
    },
    {
      "cell_type": "code",
      "execution_count": 14,
      "metadata": {
        "ExecuteTime": {
          "end_time": "2017-10-08T11:34:31.170947Z",
          "start_time": "2017-10-08T11:34:31.134178Z"
        },
        "colab": {
          "base_uri": "https://localhost:8080/"
        },
        "id": "V46WUIFyXtJu",
        "outputId": "8ba1f0c4-85b0-4d29-a8b6-2750cb57bdce"
      },
      "outputs": [
        {
          "output_type": "stream",
          "name": "stdout",
          "text": [
            "dimensão do batch de sépalas 0:   torch.Size([10, 1])\n",
            "dimensão do batch de pétalas 0: torch.Size([10, 1])\n",
            "\n",
            "dimensão do batch de sépalas 1:   torch.Size([10, 1])\n",
            "dimensão do batch de pétalas 1: torch.Size([10, 1])\n",
            "\n",
            "dimensão do batch de sépalas 2:   torch.Size([10, 1])\n",
            "dimensão do batch de pétalas 2: torch.Size([10, 1])\n",
            "\n",
            "dimensão do batch de sépalas 3:   torch.Size([10, 1])\n",
            "dimensão do batch de pétalas 3: torch.Size([10, 1])\n",
            "\n",
            "dimensão do batch de sépalas 4:   torch.Size([10, 1])\n",
            "dimensão do batch de pétalas 4: torch.Size([10, 1])\n",
            "\n"
          ]
        }
      ],
      "source": [
        "batch_n = 0\n",
        "\n",
        "for data in data_loader:\n",
        "    # separa a tupla em petalas e sépalas\n",
        "    data_batch, targets_batch = data\n",
        "\n",
        "    print('dimensão do batch de sépalas {}:   {}'.format(batch_n, data_batch.size()))\n",
        "    print('dimensão do batch de pétalas {}: {}\\n'.format(batch_n, targets_batch.size()))\n",
        "    batch_n += 1\n"
      ]
    },
    {
      "cell_type": "markdown",
      "metadata": {
        "id": "eRpUfq1BXtJy"
      },
      "source": [
        "É possível ver que os batches tem mesmo 10 dados (5 matrizes 10x1 para as sépalas e 5 matrizes 10x1 para as pétalas)"
      ]
    },
    {
      "cell_type": "markdown",
      "metadata": {
        "id": "9oZkgCTtXtJz"
      },
      "source": [
        "No exemplo abaixo é possível ver que, com shuffle igual o False, os dados de cada mini-batch são sempre os mesmos. Cada cor contém os dados de um mini-batch:"
      ]
    },
    {
      "cell_type": "code",
      "execution_count": 15,
      "metadata": {
        "id": "AWh6f-CzXtJz"
      },
      "outputs": [],
      "source": [
        "%matplotlib inline\n",
        "import matplotlib.pyplot as plt"
      ]
    },
    {
      "cell_type": "code",
      "execution_count": 16,
      "metadata": {
        "id": "A0jgIiY4XtJ2"
      },
      "outputs": [],
      "source": [
        "data_loader = DataLoader(dataset,\n",
        "                         batch_size=10, # tamanho do mini-batch de dados\n",
        "                         shuffle=False) # se for True, embaralha os dados no inicio de cada iteração"
      ]
    },
    {
      "cell_type": "code",
      "execution_count": 17,
      "metadata": {
        "colab": {
          "base_uri": "https://localhost:8080/",
          "height": 487
        },
        "id": "zK81UeTfXtJ5",
        "outputId": "25fdbb82-6853-4b0d-f319-54b9ad037311",
        "scrolled": true
      },
      "outputs": [
        {
          "output_type": "display_data",
          "data": {
            "text/plain": [
              "<Figure size 1600x500 with 2 Axes>"
            ],
            "image/png": "[encoded data removed]"
          },
          "metadata": {}
        }
      ],
      "source": [
        "color = [\"b\",\"g\",\"r\",\"c\",\"m\"]\n",
        "mark = ['+', '.', '^', 'o', 'x']\n",
        "fig = plt.figure(figsize=(16,5))\n",
        "ax1 = fig.add_subplot(1,2,1)\n",
        "ax1.set_xlabel('Comprimento sepalas')\n",
        "ax1.set_ylabel('Comprimento petalas')\n",
        "ax1.set_title('Primeira iteração')\n",
        "\n",
        "for i,data in enumerate(data_loader):\n",
        "    # separa a tupla em petalas e sépalas\n",
        "    data_batch, targets_batch = data\n",
        "\n",
        "    ax1.scatter(data_batch, targets_batch, c=color[i], marker=mark[i])\n",
        "\n",
        "ax2 = fig.add_subplot(1,2,2)\n",
        "ax2.set_xlabel('Comprimento normalizado sepalas')\n",
        "ax2.set_ylabel('Comprimento normalizado petalas')\n",
        "ax2.set_title('Segunda iteração')\n",
        "\n",
        "for i,data in enumerate(data_loader):\n",
        "    # separa a tupla em petalas e sépalas\n",
        "    data_batch, targets_batch = data\n",
        "\n",
        "    ax2.scatter(data_batch, targets_batch, c=color[i], marker=mark[i])\n"
      ]
    },
    {
      "cell_type": "markdown",
      "metadata": {
        "id": "_VMdMz7cXtJ9"
      },
      "source": [
        "Com shuffle igual a True, os dados do mini-batch sempre mudam a cada iteração:"
      ]
    },
    {
      "cell_type": "code",
      "execution_count": 18,
      "metadata": {
        "id": "dCCSaXaIXtJ9"
      },
      "outputs": [],
      "source": [
        "data_loader = DataLoader(dataset,\n",
        "                         batch_size=10, # tamanho do mini-batch de dados\n",
        "                         shuffle=True)  # se for True, embaralha os dados no inicio de cada iteração"
      ]
    },
    {
      "cell_type": "code",
      "execution_count": 19,
      "metadata": {
        "colab": {
          "base_uri": "https://localhost:8080/",
          "height": 487
        },
        "id": "YYtZiYCSXtKA",
        "outputId": "5bdccad9-a4c3-45be-cb94-ba726fd2bfeb"
      },
      "outputs": [
        {
          "output_type": "display_data",
          "data": {
            "text/plain": [
              "<Figure size 1600x500 with 2 Axes>"
            ],
            "image/png": "[encoded data removed]"
          },
          "metadata": {}
        }
      ],
      "source": [
        "color = [\"b\",\"g\",\"r\",\"c\",\"m\"]\n",
        "mark = ['+', '.', '^', 'o', 'x']\n",
        "fig = plt.figure(figsize=(16,5))\n",
        "ax1 = fig.add_subplot(1,2,1)\n",
        "ax1.set_xlabel('Comprimento sepalas')\n",
        "ax1.set_ylabel('Comprimento petalas')\n",
        "ax1.set_title('Primeira iteração')\n",
        "\n",
        "for i,data in enumerate(data_loader):\n",
        "    # separa a tupla em petalas e sépalas\n",
        "    data_batch, targets_batch = data\n",
        "\n",
        "    ax1.scatter(data_batch, targets_batch, c=color[i], marker=mark[i])\n",
        "\n",
        "ax2 = fig.add_subplot(1,2,2)\n",
        "ax2.set_xlabel('Comprimento normalizado sepalas')\n",
        "ax2.set_ylabel('Comprimento normalizado petalas')\n",
        "ax2.set_title('Segunda iteração')\n",
        "\n",
        "for i,data in enumerate(data_loader):\n",
        "    # separa a tupla em petalas e sépalas\n",
        "    data_batch, targets_batch = data\n",
        "\n",
        "    ax2.scatter(data_batch, targets_batch, c=color[i], marker=mark[i])"
      ]
    },
    {
      "cell_type": "markdown",
      "metadata": {
        "id": "sNtgKfbjXtKD"
      },
      "source": [
        "## Exercício"
      ]
    },
    {
      "cell_type": "markdown",
      "metadata": {
        "id": "d6HnqM_CXtKE"
      },
      "source": [
        "Defina seu próprio DataLoader na segunda célula abaixo. Faça com que cada batch tenha 5 elementos cada. Utilize o dataset já criado anteriormente.\n",
        "\n",
        "Em seguida imprima o tamanho do Dataloader e tamanho do Dataset"
      ]
    },
    {
      "cell_type": "code",
      "source": [
        "# -- Defina aqui seu DataLoader com batches de 5 elementos cada ---\n",
        "\n",
        "# Carregar o conjunto de dados Iris\n",
        "iris = load_iris()\n",
        "data = iris.data[iris.target == 1, ::2]  # comprimento das sépalas e pétalas, índices 0 e 2\n",
        "\n",
        "# Extrair características e alvo\n",
        "x_data = data[:, 0:1]\n",
        "target = data[:, 1:2]\n",
        "\n",
        "# Converter para tensores do PyTorch\n",
        "x_data = torch.FloatTensor(x_data)\n",
        "target = torch.FloatTensor(target)\n",
        "\n",
        "# Criar o TensorDataset\n",
        "dataset = TensorDataset(x_data, target)\n",
        "\n",
        "# Definir o DataLoader com shuffle=True\n",
        "data_loader = DataLoader(dataset, batch_size=5, shuffle=True)\n",
        "\n",
        "# Imprimir o tamanho do DataLoader e do Dataset\n",
        "len_data_loader = len(data_loader)\n",
        "len_dataset = len(dataset)\n",
        "\n",
        "print(\"Tamanho do DataLoader:\", len_data_loader)\n",
        "print(\"Tamanho do Dataset:\", len_dataset)\n",
        "\n",
        "# Iterar através do DataLoader e imprimir os batches\n",
        "for i, batch in enumerate(data_loader):\n",
        "    print(f\"Lote {i+1}:\")\n",
        "    print(batch)\n"
      ],
      "metadata": {
        "colab": {
          "base_uri": "https://localhost:8080/"
        },
        "id": "XNg642xfvMgF",
        "outputId": "9329d18a-3735-43ce-ad4e-cbdee737d040"
      },
      "execution_count": 21,
      "outputs": [
        {
          "output_type": "stream",
          "name": "stdout",
          "text": [
            "Tamanho do DataLoader: 10\n",
            "Tamanho do Dataset: 50\n",
            "Lote 1:\n",
            "[tensor([[6.9000],\n",
            "        [5.7000],\n",
            "        [5.9000],\n",
            "        [5.5000],\n",
            "        [5.8000]]), tensor([[4.9000],\n",
            "        [4.1000],\n",
            "        [4.2000],\n",
            "        [4.4000],\n",
            "        [4.0000]])]\n",
            "Lote 2:\n",
            "[tensor([[6.1000],\n",
            "        [5.7000],\n",
            "        [6.1000],\n",
            "        [6.0000],\n",
            "        [6.5000]]), tensor([[4.6000],\n",
            "        [4.2000],\n",
            "        [4.0000],\n",
            "        [5.1000],\n",
            "        [4.6000]])]\n",
            "Lote 3:\n",
            "[tensor([[6.3000],\n",
            "        [5.4000],\n",
            "        [5.7000],\n",
            "        [6.6000],\n",
            "        [5.8000]]), tensor([[4.9000],\n",
            "        [4.5000],\n",
            "        [4.5000],\n",
            "        [4.4000],\n",
            "        [4.1000]])]\n",
            "Lote 4:\n",
            "[tensor([[5.0000],\n",
            "        [6.0000],\n",
            "        [4.9000],\n",
            "        [5.5000],\n",
            "        [6.7000]]), tensor([[3.3000],\n",
            "        [4.5000],\n",
            "        [3.3000],\n",
            "        [4.0000],\n",
            "        [5.0000]])]\n",
            "Lote 5:\n",
            "[tensor([[6.1000],\n",
            "        [5.6000],\n",
            "        [6.2000],\n",
            "        [6.6000],\n",
            "        [6.3000]]), tensor([[4.7000],\n",
            "        [4.2000],\n",
            "        [4.3000],\n",
            "        [4.6000],\n",
            "        [4.4000]])]\n",
            "Lote 6:\n",
            "[tensor([[6.0000],\n",
            "        [5.5000],\n",
            "        [5.0000],\n",
            "        [5.6000],\n",
            "        [5.5000]]), tensor([[4.0000],\n",
            "        [4.0000],\n",
            "        [3.5000],\n",
            "        [3.9000],\n",
            "        [3.7000]])]\n",
            "Lote 7:\n",
            "[tensor([[5.6000],\n",
            "        [5.2000],\n",
            "        [6.1000],\n",
            "        [5.8000],\n",
            "        [6.7000]]), tensor([[3.6000],\n",
            "        [3.9000],\n",
            "        [4.7000],\n",
            "        [3.9000],\n",
            "        [4.4000]])]\n",
            "Lote 8:\n",
            "[tensor([[5.7000],\n",
            "        [5.7000],\n",
            "        [6.4000],\n",
            "        [5.6000],\n",
            "        [6.0000]]), tensor([[3.5000],\n",
            "        [4.2000],\n",
            "        [4.3000],\n",
            "        [4.1000],\n",
            "        [4.5000]])]\n",
            "Lote 9:\n",
            "[tensor([[5.1000],\n",
            "        [5.6000],\n",
            "        [6.3000],\n",
            "        [6.7000],\n",
            "        [6.8000]]), tensor([[3.0000],\n",
            "        [4.5000],\n",
            "        [4.7000],\n",
            "        [4.7000],\n",
            "        [4.8000]])]\n",
            "Lote 10:\n",
            "[tensor([[5.5000],\n",
            "        [6.2000],\n",
            "        [7.0000],\n",
            "        [6.4000],\n",
            "        [5.9000]]), tensor([[3.8000],\n",
            "        [4.5000],\n",
            "        [4.7000],\n",
            "        [4.5000],\n",
            "        [4.8000]])]\n"
          ]
        }
      ]
    },
    {
      "cell_type": "markdown",
      "metadata": {
        "id": "SFljrkFiXtKJ"
      },
      "source": [
        "- A ordem dos elementos se altera entre execuções da célula acima?\n",
        "- Tente colocar o parametro `shuffle` do DataLoader como `True` e obeseve o resultado do exercício, rodando várias vezes.\n",
        "\n",
        "\n",
        "Resposta ->\n",
        "Com shuffle = Verdadeiro:\n",
        "Em cada execução, a ordem dos elementos não será a mesma. Antes de serem divididos em lotes, os dados foram embaralhados.\n",
        "Quando shuffle=False,\n",
        "Em cada execução, a ordem dos elementos permanecerá a mesma. O dataset mantém a ordem original em que os dados são carregados."
      ]
    },
    {
      "cell_type": "markdown",
      "metadata": {
        "id": "93tXui2gXtKK"
      },
      "source": [
        "# Aprendizados"
      ]
    },
    {
      "cell_type": "markdown",
      "source": [
        " parâmetro shuffle=True altera a ordem dos elementos entre as execuções."
      ],
      "metadata": {
        "id": "7MWFQzue8wE3"
      }
    },
    {
      "cell_type": "code",
      "source": [
        "x_train = torch.tensor([[6.9], [5.7], [5.9], [5.5], [5.8], [6.1], [5.7], [6.1], [6.0], [6.5],\n",
        "                        [6.3], [5.4], [5.7], [6.6], [5.8], [5.0], [6.0], [4.9], [5.5], [6.7],\n",
        "                        [6.1], [5.6], [6.2], [6.6], [6.3], [6.0], [5.5], [5.0], [5.6], [5.5],\n",
        "                        [5.6], [5.2], [6.1], [5.8], [6.7], [5.7], [5.7], [6.4], [5.6], [6.0],\n",
        "                        [5.1], [5.6], [6.3], [6.7], [6.8], [5.5], [6.2], [7.0], [6.4], [5.9]])\n",
        "y_train = torch.tensor([[4.9], [4.1], [4.2], [4.4], [4.0], [4.6], [4.2], [4.0], [5.1], [4.6],\n",
        "                        [4.9], [4.5], [4.5], [4.4], [4.1], [3.3], [4.5], [3.3], [4.0], [5.0],\n",
        "                        [4.7], [4.2], [4.3], [4.6], [4.4], [4.0], [4.0], [3.5], [3.9], [3.7],\n",
        "                        [3.6], [3.9], [4.7], [3.9], [4.4], [3.5], [4.2], [4.3], [4.1], [4.5],\n",
        "                        [3.0], [4.5], [4.7], [4.7], [4.8], [3.8], [4.5], [4.7], [4.5], [4.8]])\n",
        "\n",
        "dataset = TensorDataset(x_train, y_train)\n",
        "\n",
        "# DataLoader com shuffle=True\n",
        "dataloader_shuffle = DataLoader(dataset, batch_size=5, shuffle=True)\n",
        "\n",
        "print(\"Com shuffle=True\")\n",
        "for epoch in range(2):  # Executar duas vezes para comparar\n",
        "    print(f\"Execução {epoch + 1}\")\n",
        "    for batch_idx, (data, target) in enumerate(dataloader_shuffle):\n",
        "        print(f'Lote {batch_idx + 1}:')\n",
        "        print(data, target)\n",
        "    print(\"\\n\")"
      ],
      "metadata": {
        "colab": {
          "base_uri": "https://localhost:8080/"
        },
        "id": "w8zPWm2u7XZr",
        "outputId": "a1d668d1-9740-4591-d0e5-122417bb9ddb"
      },
      "execution_count": 24,
      "outputs": [
        {
          "output_type": "stream",
          "name": "stdout",
          "text": [
            "Com shuffle=True\n",
            "Execução 1\n",
            "Lote 1:\n",
            "tensor([[4.9000],\n",
            "        [5.6000],\n",
            "        [5.6000],\n",
            "        [6.1000],\n",
            "        [5.6000]]) tensor([[3.3000],\n",
            "        [4.5000],\n",
            "        [3.6000],\n",
            "        [4.7000],\n",
            "        [3.9000]])\n",
            "Lote 2:\n",
            "tensor([[6.2000],\n",
            "        [6.3000],\n",
            "        [6.1000],\n",
            "        [6.4000],\n",
            "        [5.8000]]) tensor([[4.3000],\n",
            "        [4.4000],\n",
            "        [4.0000],\n",
            "        [4.5000],\n",
            "        [4.1000]])\n",
            "Lote 3:\n",
            "tensor([[5.5000],\n",
            "        [5.0000],\n",
            "        [6.0000],\n",
            "        [6.5000],\n",
            "        [6.1000]]) tensor([[4.4000],\n",
            "        [3.5000],\n",
            "        [4.5000],\n",
            "        [4.6000],\n",
            "        [4.6000]])\n",
            "Lote 4:\n",
            "tensor([[5.8000],\n",
            "        [6.0000],\n",
            "        [6.7000],\n",
            "        [5.9000],\n",
            "        [5.7000]]) tensor([[3.9000],\n",
            "        [4.0000],\n",
            "        [5.0000],\n",
            "        [4.8000],\n",
            "        [4.2000]])\n",
            "Lote 5:\n",
            "tensor([[5.7000],\n",
            "        [6.7000],\n",
            "        [5.6000],\n",
            "        [5.5000],\n",
            "        [5.5000]]) tensor([[4.5000],\n",
            "        [4.7000],\n",
            "        [4.1000],\n",
            "        [3.7000],\n",
            "        [4.0000]])\n",
            "Lote 6:\n",
            "tensor([[6.6000],\n",
            "        [6.4000],\n",
            "        [5.4000],\n",
            "        [6.3000],\n",
            "        [5.6000]]) tensor([[4.4000],\n",
            "        [4.3000],\n",
            "        [4.5000],\n",
            "        [4.7000],\n",
            "        [4.2000]])\n",
            "Lote 7:\n",
            "tensor([[5.1000],\n",
            "        [6.6000],\n",
            "        [7.0000],\n",
            "        [6.3000],\n",
            "        [5.5000]]) tensor([[3.0000],\n",
            "        [4.6000],\n",
            "        [4.7000],\n",
            "        [4.9000],\n",
            "        [4.0000]])\n",
            "Lote 8:\n",
            "tensor([[5.5000],\n",
            "        [5.7000],\n",
            "        [6.0000],\n",
            "        [6.0000],\n",
            "        [5.7000]]) tensor([[3.8000],\n",
            "        [4.1000],\n",
            "        [5.1000],\n",
            "        [4.5000],\n",
            "        [4.2000]])\n",
            "Lote 9:\n",
            "tensor([[6.2000],\n",
            "        [6.1000],\n",
            "        [6.7000],\n",
            "        [5.2000],\n",
            "        [5.7000]]) tensor([[4.5000],\n",
            "        [4.7000],\n",
            "        [4.4000],\n",
            "        [3.9000],\n",
            "        [3.5000]])\n",
            "Lote 10:\n",
            "tensor([[5.9000],\n",
            "        [6.8000],\n",
            "        [6.9000],\n",
            "        [5.0000],\n",
            "        [5.8000]]) tensor([[4.2000],\n",
            "        [4.8000],\n",
            "        [4.9000],\n",
            "        [3.3000],\n",
            "        [4.0000]])\n",
            "\n",
            "\n",
            "Execução 2\n",
            "Lote 1:\n",
            "tensor([[5.7000],\n",
            "        [6.7000],\n",
            "        [5.6000],\n",
            "        [5.7000],\n",
            "        [5.1000]]) tensor([[4.2000],\n",
            "        [4.7000],\n",
            "        [4.5000],\n",
            "        [3.5000],\n",
            "        [3.0000]])\n",
            "Lote 2:\n",
            "tensor([[6.3000],\n",
            "        [5.0000],\n",
            "        [5.5000],\n",
            "        [6.2000],\n",
            "        [4.9000]]) tensor([[4.9000],\n",
            "        [3.5000],\n",
            "        [4.4000],\n",
            "        [4.3000],\n",
            "        [3.3000]])\n",
            "Lote 3:\n",
            "tensor([[6.7000],\n",
            "        [5.0000],\n",
            "        [6.1000],\n",
            "        [5.7000],\n",
            "        [6.0000]]) tensor([[5.0000],\n",
            "        [3.3000],\n",
            "        [4.6000],\n",
            "        [4.1000],\n",
            "        [4.5000]])\n",
            "Lote 4:\n",
            "tensor([[5.2000],\n",
            "        [6.4000],\n",
            "        [5.7000],\n",
            "        [6.0000],\n",
            "        [5.5000]]) tensor([[3.9000],\n",
            "        [4.3000],\n",
            "        [4.5000],\n",
            "        [5.1000],\n",
            "        [3.8000]])\n",
            "Lote 5:\n",
            "tensor([[5.8000],\n",
            "        [5.7000],\n",
            "        [6.5000],\n",
            "        [5.9000],\n",
            "        [5.6000]]) tensor([[4.0000],\n",
            "        [4.2000],\n",
            "        [4.6000],\n",
            "        [4.8000],\n",
            "        [4.2000]])\n",
            "Lote 6:\n",
            "tensor([[5.4000],\n",
            "        [6.7000],\n",
            "        [6.1000],\n",
            "        [5.6000],\n",
            "        [6.4000]]) tensor([[4.5000],\n",
            "        [4.4000],\n",
            "        [4.7000],\n",
            "        [4.1000],\n",
            "        [4.5000]])\n",
            "Lote 7:\n",
            "tensor([[5.8000],\n",
            "        [6.1000],\n",
            "        [5.5000],\n",
            "        [5.6000],\n",
            "        [5.5000]]) tensor([[3.9000],\n",
            "        [4.7000],\n",
            "        [4.0000],\n",
            "        [3.6000],\n",
            "        [3.7000]])\n",
            "Lote 8:\n",
            "tensor([[6.0000],\n",
            "        [6.0000],\n",
            "        [6.3000],\n",
            "        [6.3000],\n",
            "        [6.9000]]) tensor([[4.0000],\n",
            "        [4.5000],\n",
            "        [4.4000],\n",
            "        [4.7000],\n",
            "        [4.9000]])\n",
            "Lote 9:\n",
            "tensor([[5.6000],\n",
            "        [6.2000],\n",
            "        [6.6000],\n",
            "        [5.8000],\n",
            "        [5.9000]]) tensor([[3.9000],\n",
            "        [4.5000],\n",
            "        [4.4000],\n",
            "        [4.1000],\n",
            "        [4.2000]])\n",
            "Lote 10:\n",
            "tensor([[5.5000],\n",
            "        [7.0000],\n",
            "        [6.8000],\n",
            "        [6.1000],\n",
            "        [6.6000]]) tensor([[4.0000],\n",
            "        [4.7000],\n",
            "        [4.8000],\n",
            "        [4.0000],\n",
            "        [4.6000]])\n",
            "\n",
            "\n"
          ]
        }
      ]
    },
    {
      "cell_type": "code",
      "source": [
        "# DataLoader com shuffle=False\n",
        "dataloader_no_shuffle = DataLoader(dataset, batch_size=5, shuffle=False)\n",
        "\n",
        "print(\"Com shuffle=False\")\n",
        "for epoch in range(2):  # Executar duas vezes para comparar\n",
        "    print(f\"Execução {epoch + 1}\")\n",
        "    for batch_idx, (data, target) in enumerate(dataloader_no_shuffle):\n",
        "        print(f'Lote {batch_idx + 1}:')\n",
        "        print(data, target)\n",
        "    print(\"\\n\")"
      ],
      "metadata": {
        "colab": {
          "base_uri": "https://localhost:8080/"
        },
        "id": "3WYvF61T7b7n",
        "outputId": "2a32dc2c-b0b6-4037-aac1-281f503a6bff"
      },
      "execution_count": 23,
      "outputs": [
        {
          "output_type": "stream",
          "name": "stdout",
          "text": [
            "Com shuffle=False\n",
            "Execução 1\n",
            "Lote 1:\n",
            "tensor([[6.9000],\n",
            "        [5.7000],\n",
            "        [5.9000],\n",
            "        [5.5000],\n",
            "        [5.8000]]) tensor([[4.9000],\n",
            "        [4.1000],\n",
            "        [4.2000],\n",
            "        [4.4000],\n",
            "        [4.0000]])\n",
            "Lote 2:\n",
            "tensor([[6.1000],\n",
            "        [5.7000],\n",
            "        [6.1000],\n",
            "        [6.0000],\n",
            "        [6.5000]]) tensor([[4.6000],\n",
            "        [4.2000],\n",
            "        [4.0000],\n",
            "        [5.1000],\n",
            "        [4.6000]])\n",
            "Lote 3:\n",
            "tensor([[6.3000],\n",
            "        [5.4000],\n",
            "        [5.7000],\n",
            "        [6.6000],\n",
            "        [5.8000]]) tensor([[4.9000],\n",
            "        [4.5000],\n",
            "        [4.5000],\n",
            "        [4.4000],\n",
            "        [4.1000]])\n",
            "Lote 4:\n",
            "tensor([[5.0000],\n",
            "        [6.0000],\n",
            "        [4.9000],\n",
            "        [5.5000],\n",
            "        [6.7000]]) tensor([[3.3000],\n",
            "        [4.5000],\n",
            "        [3.3000],\n",
            "        [4.0000],\n",
            "        [5.0000]])\n",
            "Lote 5:\n",
            "tensor([[6.1000],\n",
            "        [5.6000],\n",
            "        [6.2000],\n",
            "        [6.6000],\n",
            "        [6.3000]]) tensor([[4.7000],\n",
            "        [4.2000],\n",
            "        [4.3000],\n",
            "        [4.6000],\n",
            "        [4.4000]])\n",
            "Lote 6:\n",
            "tensor([[6.0000],\n",
            "        [5.5000],\n",
            "        [5.0000],\n",
            "        [5.6000],\n",
            "        [5.5000]]) tensor([[4.0000],\n",
            "        [4.0000],\n",
            "        [3.5000],\n",
            "        [3.9000],\n",
            "        [3.7000]])\n",
            "Lote 7:\n",
            "tensor([[5.6000],\n",
            "        [5.2000],\n",
            "        [6.1000],\n",
            "        [5.8000],\n",
            "        [6.7000]]) tensor([[3.6000],\n",
            "        [3.9000],\n",
            "        [4.7000],\n",
            "        [3.9000],\n",
            "        [4.4000]])\n",
            "Lote 8:\n",
            "tensor([[5.7000],\n",
            "        [5.7000],\n",
            "        [6.4000],\n",
            "        [5.6000],\n",
            "        [6.0000]]) tensor([[3.5000],\n",
            "        [4.2000],\n",
            "        [4.3000],\n",
            "        [4.1000],\n",
            "        [4.5000]])\n",
            "Lote 9:\n",
            "tensor([[5.1000],\n",
            "        [5.6000],\n",
            "        [6.3000],\n",
            "        [6.7000],\n",
            "        [6.8000]]) tensor([[3.0000],\n",
            "        [4.5000],\n",
            "        [4.7000],\n",
            "        [4.7000],\n",
            "        [4.8000]])\n",
            "Lote 10:\n",
            "tensor([[5.5000],\n",
            "        [6.2000],\n",
            "        [7.0000],\n",
            "        [6.4000],\n",
            "        [5.9000]]) tensor([[3.8000],\n",
            "        [4.5000],\n",
            "        [4.7000],\n",
            "        [4.5000],\n",
            "        [4.8000]])\n",
            "\n",
            "\n",
            "Execução 2\n",
            "Lote 1:\n",
            "tensor([[6.9000],\n",
            "        [5.7000],\n",
            "        [5.9000],\n",
            "        [5.5000],\n",
            "        [5.8000]]) tensor([[4.9000],\n",
            "        [4.1000],\n",
            "        [4.2000],\n",
            "        [4.4000],\n",
            "        [4.0000]])\n",
            "Lote 2:\n",
            "tensor([[6.1000],\n",
            "        [5.7000],\n",
            "        [6.1000],\n",
            "        [6.0000],\n",
            "        [6.5000]]) tensor([[4.6000],\n",
            "        [4.2000],\n",
            "        [4.0000],\n",
            "        [5.1000],\n",
            "        [4.6000]])\n",
            "Lote 3:\n",
            "tensor([[6.3000],\n",
            "        [5.4000],\n",
            "        [5.7000],\n",
            "        [6.6000],\n",
            "        [5.8000]]) tensor([[4.9000],\n",
            "        [4.5000],\n",
            "        [4.5000],\n",
            "        [4.4000],\n",
            "        [4.1000]])\n",
            "Lote 4:\n",
            "tensor([[5.0000],\n",
            "        [6.0000],\n",
            "        [4.9000],\n",
            "        [5.5000],\n",
            "        [6.7000]]) tensor([[3.3000],\n",
            "        [4.5000],\n",
            "        [3.3000],\n",
            "        [4.0000],\n",
            "        [5.0000]])\n",
            "Lote 5:\n",
            "tensor([[6.1000],\n",
            "        [5.6000],\n",
            "        [6.2000],\n",
            "        [6.6000],\n",
            "        [6.3000]]) tensor([[4.7000],\n",
            "        [4.2000],\n",
            "        [4.3000],\n",
            "        [4.6000],\n",
            "        [4.4000]])\n",
            "Lote 6:\n",
            "tensor([[6.0000],\n",
            "        [5.5000],\n",
            "        [5.0000],\n",
            "        [5.6000],\n",
            "        [5.5000]]) tensor([[4.0000],\n",
            "        [4.0000],\n",
            "        [3.5000],\n",
            "        [3.9000],\n",
            "        [3.7000]])\n",
            "Lote 7:\n",
            "tensor([[5.6000],\n",
            "        [5.2000],\n",
            "        [6.1000],\n",
            "        [5.8000],\n",
            "        [6.7000]]) tensor([[3.6000],\n",
            "        [3.9000],\n",
            "        [4.7000],\n",
            "        [3.9000],\n",
            "        [4.4000]])\n",
            "Lote 8:\n",
            "tensor([[5.7000],\n",
            "        [5.7000],\n",
            "        [6.4000],\n",
            "        [5.6000],\n",
            "        [6.0000]]) tensor([[3.5000],\n",
            "        [4.2000],\n",
            "        [4.3000],\n",
            "        [4.1000],\n",
            "        [4.5000]])\n",
            "Lote 9:\n",
            "tensor([[5.1000],\n",
            "        [5.6000],\n",
            "        [6.3000],\n",
            "        [6.7000],\n",
            "        [6.8000]]) tensor([[3.0000],\n",
            "        [4.5000],\n",
            "        [4.7000],\n",
            "        [4.7000],\n",
            "        [4.8000]])\n",
            "Lote 10:\n",
            "tensor([[5.5000],\n",
            "        [6.2000],\n",
            "        [7.0000],\n",
            "        [6.4000],\n",
            "        [5.9000]]) tensor([[3.8000],\n",
            "        [4.5000],\n",
            "        [4.7000],\n",
            "        [4.5000],\n",
            "        [4.8000]])\n",
            "\n",
            "\n"
          ]
        }
      ]
    }
  ],
  "metadata": {
    "colab": {
      "provenance": []
    },
    "kernelspec": {
      "display_name": "Python 3.10.2 64-bit",
      "language": "python",
      "name": "python3"
    },
    "language_info": {
      "name": "python",
      "version": "3.10.2"
    },
    "vscode": {
      "interpreter": {
        "hash": "5fe3e6f0cdaab8afdc61c52912fda83f7c0a71baaea1897dd7498e2df01e69ec"
      }
    }
  },
  "nbformat": 4,
  "nbformat_minor": 0
}